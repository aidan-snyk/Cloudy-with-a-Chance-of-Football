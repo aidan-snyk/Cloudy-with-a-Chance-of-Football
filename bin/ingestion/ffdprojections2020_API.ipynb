{
 "cells": [
  {
   "cell_type": "code",
   "execution_count": 9,
   "metadata": {},
   "outputs": [],
   "source": [
    "# Import all necessary libraries/packages to ingest data from API\n",
    "\n",
    "import numpy as np\n",
    "import pandas as pd\n",
    "import json\n",
    "import requests\n",
    "from urllib.request import urlopen\n",
    "from bs4 import BeautifulSoup"
   ]
  },
  {
   "cell_type": "code",
   "execution_count": 10,
   "metadata": {},
   "outputs": [],
   "source": [
    "ffd_projections_API = 'https://www.fantasyfootballdatapros.com/api/projections'"
   ]
  },
  {
   "cell_type": "code",
   "execution_count": 11,
   "metadata": {},
   "outputs": [
    {
     "name": "stdout",
     "output_type": "stream",
     "text": [
      "<Response [200]>\n"
     ]
    }
   ],
   "source": [
    "# The requests library is the de facto standard for making HTTP requests in Python\n",
    "\n",
    "response = requests.get(ffd_projections_API)\n",
    "if response.status_code == 200:\n",
    "    print(response)"
   ]
  },
  {
   "cell_type": "code",
   "execution_count": 12,
   "metadata": {},
   "outputs": [
    {
     "name": "stdout",
     "output_type": "stream",
     "text": [
      "[{'player_name': 'Lamar Jackson', 'pos': 'QB', 'projection': 353.41, 'team': 'BAL'}, {'player_name': 'Christian McCaffrey', 'pos': 'RB', 'projection': 338.52, 'team': 'CAR'}, {'player_name': 'Patrick Mahomes', 'pos': 'QB', 'projection': 331.01, 'team': 'KC'}, {'player_name': 'Deshaun Watson', 'pos': 'QB', 'projection': 307.07, 'team': 'HOU'}, {'player_name': 'Michael Thomas', 'pos': 'WR', 'projection': 300.99, 'team': 'NO'}, {'player_name': 'Dalvin Cook', 'pos': 'RB', 'projection': 299.89, 'team': 'MIN'}, {'player_name': 'Dak Prescott', 'pos': 'QB', 'projection': 298.73, 'team': 'DAL'}, {'player_name': 'Russell Wilson', 'pos': 'QB', 'projection': 296.8, 'team': 'SEA'}, {'player_name': 'Ezekiel Elliot', 'pos': 'RB', 'projection': 292.63, 'team': 'DAL'}, {'player_name': 'Saquon Barkley', 'pos': 'RB', 'projection': 291.03, 'team': 'NYG'}, {'player_name': 'Kyler Murray', 'pos': 'QB', 'projection': 288.2, 'team': 'ARI'}, {'player_name': 'Josh Allen', 'pos': 'QB', 'projection': 285.9, 'team': 'BUF'}, {'player_name': 'Tom Brady', 'pos': 'QB', 'projection': 281.82, 'team': 'TAM'}, {'player_name': 'Alvin Kamara', 'pos': 'RB', 'projection': 279.9, 'team': 'NO'}, {'player_name': 'Drew Brees', 'pos': 'QB', 'projection': 273.04, 'team': 'NO'}, {'player_name': 'Carson Wentz', 'pos': 'QB', 'projection': 269.98, 'team': 'PHI'}, {'player_name': 'DeAndre Hopkins', 'pos': 'WR', 'projection': 268.42, 'team': 'ARI'}, {'player_name': 'Matt Ryan', 'pos': 'QB', 'projection': 268.28, 'team': 'ATL'}, {'player_name': 'Aaron Rodgers', 'pos': 'QB', 'projection': 266.29, 'team': 'GB'}, {'player_name': 'Matthew Stafford', 'pos': 'QB', 'projection': 264.47, 'team': 'DET'}, {'player_name': 'Julio Jones', 'pos': 'WR', 'projection': 262.85, 'team': 'ATL'}, {'player_name': 'Travis Kelce', 'pos': 'TE', 'projection': 262.77, 'team': 'KC'}, {'player_name': 'Davante Adams', 'pos': 'WR', 'projection': 261.75, 'team': 'GB'}, {'player_name': 'Chris Godwin', 'pos': 'WR', 'projection': 260.47, 'team': 'TB'}, {'player_name': 'Mike Evans', 'pos': 'WR', 'projection': 255.63, 'team': 'TB'}, {'player_name': 'Aaron Jones', 'pos': 'RB', 'projection': 255.56, 'team': 'GB'}, {'player_name': 'Daniel Jones', 'pos': 'QB', 'projection': 253.83, 'team': 'NYG'}, {'player_name': 'Derrick Henry', 'pos': 'RB', 'projection': 250.97, 'team': 'TEN'}, {'player_name': 'Jared Goff', 'pos': 'QB', 'projection': 249.88, 'team': 'LAR'}, {'player_name': 'Tyreek Hill', 'pos': 'WR', 'projection': 248.22, 'team': 'KC'}, {'player_name': 'Kenyan Drake', 'pos': 'RB', 'projection': 247.86, 'team': 'ARI'}, {'player_name': 'George Kittle', 'pos': 'TE', 'projection': 246.41, 'team': 'SF'}, {'player_name': 'Austin Ekeler', 'pos': 'RB', 'projection': 245.81, 'team': 'LAC'}, {'player_name': 'Ryan Tannehill', 'pos': 'QB', 'projection': 242.45, 'team': 'TEN'}, {'player_name': 'Ben Roethlisberger', 'pos': 'QB', 'projection': 240.44, 'team': 'PIT'}, {'player_name': 'Leonard Fournette', 'pos': 'RB', 'projection': 236.92, 'team': 'JAX'}, {'player_name': 'Jimmy Garoppolo', 'pos': 'QB', 'projection': 236.55, 'team': 'SF'}, {'player_name': 'Gardner Minshew II', 'pos': 'QB', 'projection': 235.7, 'team': 'JAX'}, {'player_name': 'Damien Williams', 'pos': 'RB', 'projection': 234.76, 'team': 'KC'}, {'player_name': 'Baker Mayfield', 'pos': 'QB', 'projection': 232.84, 'team': 'CLE'}, {'player_name': 'Adam Thielen', 'pos': 'WR', 'projection': 231.69, 'team': 'MIN'}, {'player_name': 'Kirk Cousins', 'pos': 'QB', 'projection': 231.21, 'team': 'MIN'}, {'player_name': 'Ryan Fitzpatrick', 'pos': 'MIA', 'projection': 229.78, 'team': 'QB'}, {'player_name': 'Nick Chubb', 'pos': 'RB', 'projection': 229.4, 'team': 'CLE'}, {'player_name': 'Kenny Golladay', 'pos': 'WR', 'projection': 227.23, 'team': 'DET'}, {'player_name': 'DJ Moore', 'pos': 'WR', 'projection': 226.9, 'team': 'CAR'}, {'player_name': 'Miles Sanders', 'pos': 'RB', 'projection': 224.49, 'team': 'PHI'}, {'player_name': 'Josh Jacobs', 'pos': 'RB', 'projection': 223.69, 'team': 'OAK'}, {'player_name': 'Amari Cooper', 'pos': 'WR', 'projection': 223.65, 'team': 'DAL'}, {'player_name': 'Phillip Rivers', 'pos': 'QB', 'projection': 222.08, 'team': 'IND'}, {'player_name': 'Leveon Bell', 'pos': 'RB', 'projection': 221.87, 'team': 'NYJ'}, {'player_name': 'Joe Mixon', 'pos': 'RB', 'projection': 221.58, 'team': 'CIN'}, {'player_name': 'Courtland Sutton', 'pos': 'WR', 'projection': 221.13, 'team': 'DEN'}, {'player_name': 'Tyler Lockett', 'pos': 'WR', 'projection': 219.67, 'team': 'SEA'}, {'player_name': 'TY Hilton', 'pos': 'WR', 'projection': 219.42, 'team': 'IND'}, {'player_name': 'Robert Woods', 'pos': 'WR', 'projection': 219.04, 'team': 'LAR'}, {'player_name': 'Teddy Bridgewater', 'pos': 'QB', 'projection': 218.63, 'team': 'CAR'}, {'player_name': 'Allen Robinson II', 'pos': 'WR', 'projection': 218.57, 'team': 'CHI'}, {'player_name': 'Drew Lock', 'pos': 'QB', 'projection': 218.4, 'team': 'DEN'}, {'player_name': 'Todd Gurley II', 'pos': 'RB', 'projection': 216.2, 'team': 'ATL'}, {'player_name': 'Cooper Kupp', 'pos': 'WR', 'projection': 215.76, 'team': 'LAR'}, {'player_name': 'Terry McLaurin', 'pos': 'WR', 'projection': 215.39, 'team': 'WAS'}, {'player_name': 'JuJu Smith-Schuster', 'pos': 'WR', 'projection': 214.42, 'team': 'PIT'}, {'player_name': 'Sam Darnold', 'pos': 'QB', 'projection': 213.81, 'team': 'NYJ'}, {'player_name': 'Deebo Samuel', 'pos': 'WR', 'projection': 211.93, 'team': 'SF'}, {'player_name': 'AJ Brown', 'pos': 'WR', 'projection': 211.75, 'team': 'TEN'}, {'player_name': 'James Conner', 'pos': 'RB', 'projection': 211.63, 'team': 'PIT'}, {'player_name': 'Chris Carson', 'pos': 'RB', 'projection': 211.43, 'team': 'SEA'}, {'player_name': 'Jarrett Stidham', 'pos': 'QB', 'projection': 211.42, 'team': 'NE'}, {'player_name': 'Dwayne Haskins Jr.', 'pos': 'QB', 'projection': 209.21, 'team': 'WAS'}, {'player_name': 'Marvin Jones Jr.', 'pos': 'WR', 'projection': 207.36, 'team': 'DET'}, {'player_name': 'Calvin Ridley', 'pos': 'WR', 'projection': 207.18, 'team': 'ATL'}, {'player_name': 'Julian Edleman', 'pos': 'WR', 'projection': 206.86, 'team': 'NE'}, {'player_name': 'Odell Beckham Jr.', 'pos': 'WR', 'projection': 206.38, 'team': 'CLE'}, {'player_name': 'Keenan Allen', 'pos': 'WR', 'projection': 204.79, 'team': 'LAC'}, {'player_name': 'Devin Singletary', 'pos': 'RB', 'projection': 204.31, 'team': 'BUF'}, {'player_name': 'DeVante Parker', 'pos': 'WR', 'projection': 203.55, 'team': 'MIA'}, {'player_name': 'Derek Carr', 'pos': 'QB', 'projection': 202.05, 'team': 'OAK'}, {'player_name': 'Zach Ertz', 'pos': 'TE', 'projection': 201.31, 'team': 'PHI'}, {'player_name': 'Jarvis Landry', 'pos': 'WR', 'projection': 200.07, 'team': 'CLE'}, {'player_name': 'Mark Ingram II', 'pos': 'RB', 'projection': 199.56, 'team': 'BAL'}, {'player_name': 'AJ Green', 'pos': 'WR', 'projection': 199.51, 'team': 'CIN'}, {'player_name': 'Michael Gallup', 'pos': 'WR', 'projection': 198.49, 'team': 'DAL'}, {'player_name': 'Melvin Gordon', 'pos': 'RB', 'projection': 197.91, 'team': 'DEN'}, {'player_name': 'Mark Andrews', 'pos': 'TE', 'projection': 197.12, 'team': 'BAL'}, {'player_name': 'Stefon Diggs', 'pos': 'WR', 'projection': 195.73, 'team': 'BUF'}, {'player_name': 'DJ Chark Jr.', 'pos': 'WR', 'projection': 195.71, 'team': 'JAX'}, {'player_name': 'Darren Waller', 'pos': 'TE', 'projection': 194.42, 'team': 'OAK'}, {'player_name': 'Ronald Jones II', 'pos': 'RB', 'projection': 192.91, 'team': 'TB'}, {'player_name': 'Raheem Mostert', 'pos': 'RB', 'projection': 192.89, 'team': 'SF'}, {'player_name': 'Darrell Henderson Jr.', 'pos': 'RB', 'projection': 192.31, 'team': 'LAR'}, {'player_name': 'Tyler Boyd', 'pos': 'WR', 'projection': 191.84, 'team': 'CIN'}, {'player_name': 'David Johnson', 'pos': 'RB', 'projection': 191.17, 'team': 'HOU'}, {'player_name': 'Tyrod Taylor', 'pos': 'QB', 'projection': 190.2, 'team': 'LAC'}, {'player_name': 'Sterling Shepard', 'pos': 'WR', 'projection': 188.62, 'team': 'NYG'}, {'player_name': 'Kerryon Johnson', 'pos': 'RB', 'projection': 187.55, 'team': 'DET'}, {'player_name': 'Marlon Mack', 'pos': 'RB', 'projection': 187.42, 'team': 'IND'}, {'player_name': 'DK Metcalf', 'pos': 'WR', 'projection': 187.38, 'team': 'SEA'}, {'player_name': 'Jamison Crowder', 'pos': 'WR', 'projection': 185.41, 'team': 'NYJ'}, {'player_name': 'Tyler Higbee', 'pos': 'TE', 'projection': 184.21, 'team': 'LAR'}, {'player_name': 'Diontae Johnson', 'pos': 'WR', 'projection': 178.28, 'team': 'PIT'}, {'player_name': 'James White', 'pos': 'RB', 'projection': 176.83, 'team': 'NE'}, {'player_name': 'Marquise Brown', 'pos': 'WR', 'projection': 174.11, 'team': 'BAL'}, {'player_name': 'Golden Tate', 'pos': 'WR', 'projection': 173.42, 'team': 'NYG'}, {'player_name': 'Preston Williams', 'pos': 'WR', 'projection': 172.75, 'team': 'MIA'}, {'player_name': 'Will Fuller V', 'pos': 'WR', 'projection': 172.32, 'team': 'HOU'}, {'player_name': 'Dede Westbrook', 'pos': 'WR', 'projection': 172.2, 'team': 'JAX'}, {'player_name': 'Tarik Cohen', 'pos': 'RB', 'projection': 171.65, 'team': 'CHI'}, {'player_name': 'Alshon Jeffery', 'pos': 'WR', 'projection': 171.62, 'team': 'PHI'}, {'player_name': 'Kareem Hunt', 'pos': 'RB', 'projection': 171.13, 'team': 'CLE'}, {'player_name': 'Andy Dalton', 'pos': 'QB', 'projection': 170.89, 'team': 'CIN'}, {'player_name': 'John Brown', 'pos': 'WR', 'projection': 170.88, 'team': 'BUF'}, {'player_name': 'David Montgomery', 'pos': 'RB', 'projection': 167.32, 'team': 'CHI'}, {'player_name': 'Robby Anderson', 'pos': 'WR', 'projection': 166.64, 'team': 'CAR'}, {'player_name': 'Emmanuel Sanders', 'pos': 'WR', 'projection': 166.55, 'team': 'NO'}, {'player_name': 'Evan Engram', 'pos': 'TE', 'projection': 165.82, 'team': 'NYG'}, {'player_name': 'Derrius Guice', 'pos': 'RB', 'projection': 165.65, 'team': 'WAS'}, {'player_name': 'James Washington', 'pos': 'WR', 'projection': 165.48, 'team': 'PIT'}, {'player_name': 'Darius Slayton', 'pos': 'WR', 'projection': 165.44, 'team': 'NYG'}, {'player_name': 'Boston Scott', 'pos': 'RB', 'projection': 164.38, 'team': 'PHI'}, {'player_name': \"N'Keal Harry\", 'pos': 'WR', 'projection': 163.23, 'team': 'NE'}, {'player_name': 'Christian Kirk', 'pos': 'WR', 'projection': 162.51, 'team': 'ARI'}, {'player_name': 'Brandon Cooks', 'pos': 'WR', 'projection': 162.22, 'team': 'HOU'}, {'player_name': 'Kenny Stills', 'pos': 'WR', 'projection': 158.75, 'team': 'HOU'}, {'player_name': 'Jordan Howard', 'pos': 'RB', 'projection': 158.55, 'team': 'MIA'}, {'player_name': 'Anthony Miller', 'pos': 'WR', 'projection': 157.91, 'team': 'CHI'}, {'player_name': 'Hunter Renfrow', 'pos': 'WR', 'projection': 157.43, 'team': 'OAK'}, {'player_name': 'Breshad Perriman', 'pos': 'WR', 'projection': 155.62, 'team': 'NYJ'}, {'player_name': 'Mitchell Trubisky', 'pos': 'QB', 'projection': 153.89, 'team': 'CHI'}, {'player_name': 'Mike Williams', 'pos': 'WR', 'projection': 153.71, 'team': 'LAC'}, {'player_name': 'Deshaun Jackson', 'pos': 'WR', 'projection': 151.6, 'team': 'PHI'}, {'player_name': 'Phillip Lindsay', 'pos': 'RB', 'projection': 151.56, 'team': 'DEN'}, {'player_name': 'Russell Gage', 'pos': 'WR', 'projection': 150.65, 'team': 'ATL'}, {'player_name': 'Jared Cook', 'pos': 'TE', 'projection': 150.21, 'team': 'NO'}, {'player_name': 'Curtis Samuel', 'pos': 'WR', 'projection': 150.05, 'team': 'CAR'}, {'player_name': 'Larry Fitzgerald', 'pos': 'WR', 'projection': 149.45, 'team': 'ARI'}, {'player_name': 'Tyrell Williams', 'pos': 'WR', 'projection': 148.76, 'team': 'OAK'}, {'player_name': 'Parris Campbell', 'pos': 'WR', 'projection': 147.78, 'team': 'IND'}, {'player_name': 'Steven Sims Jr.', 'pos': 'WR', 'projection': 147.45, 'team': 'WAS'}, {'player_name': 'Will Lutz', 'pos': 'K', 'projection': 146.83, 'team': 'NO'}, {'player_name': 'Mecole Hardman', 'pos': 'WR', 'projection': 146.53, 'team': 'KC'}, {'player_name': 'Duke Johnson', 'pos': 'RB', 'projection': 145.9, 'team': 'HOU'}, {'player_name': 'Jamaal Williams', 'pos': 'RB', 'projection': 145.78, 'team': 'GB'}, {'player_name': 'Jack Doyle', 'pos': 'TE', 'projection': 145.56, 'team': 'IND'}, {'player_name': 'Sammy Watkins', 'pos': 'WR', 'projection': 142.96, 'team': 'KC'}, {'player_name': 'Danny Amendola', 'pos': 'WR', 'projection': 142.26, 'team': 'DET'}, {'player_name': 'Justin Tucker', 'pos': 'K', 'projection': 141.93, 'team': 'BAL'}, {'player_name': 'Austin Hooper', 'pos': 'TE', 'projection': 141.63, 'team': 'CLE'}, {'player_name': 'Hunter Henry', 'pos': 'TE', 'projection': 141.0, 'team': 'LAC'}, {'player_name': 'TJ Hockenson', 'pos': 'TE', 'projection': 140.59, 'team': 'DET'}, {'player_name': 'Cole Beasley', 'pos': 'WR', 'projection': 138.64, 'team': 'BUF'}, {'player_name': 'Harrison Butker', 'pos': 'K', 'projection': 138.61, 'team': 'KC'}, {'player_name': 'Latavius Murray', 'pos': 'RB', 'projection': 137.15, 'team': 'NO'}, {'player_name': 'Steelers D/ST', 'pos': 'D/ST', 'projection': 135.91, 'team': 'PIT'}, {'player_name': 'Bills D/ST', 'pos': 'D/ST', 'projection': 135.35, 'team': 'BUF'}, {'player_name': 'Nyheim Hines', 'pos': 'RB', 'projection': 135.19, 'team': 'IND'}, {'player_name': 'Chris Conley', 'pos': 'WR', 'projection': 135.04, 'team': 'JAX'}, {'player_name': 'Randall Cobb', 'pos': 'WR', 'projection': 134.94, 'team': 'HOU'}, {'player_name': 'Mike Gesicki', 'pos': 'TE', 'projection': 134.93, 'team': 'MIA'}, {'player_name': 'Justin Jackson', 'pos': 'RB', 'projection': 134.61, 'team': 'LAC'}, {'player_name': 'Kai Forbath', 'pos': 'K', 'projection': 134.5, 'team': 'DAL'}, {'player_name': 'Mahamed Sanu Sr.', 'pos': 'WR', 'projection': 131.34, 'team': 'NE'}, {'player_name': 'Matt Prater', 'pos': 'K', 'projection': 131.03, 'team': 'DET'}, {'player_name': 'Zach Pascal', 'pos': 'WR', 'projection': 129.9, 'team': 'IND'}, {'player_name': 'Dare Ogunbowale', 'pos': 'RB', 'projection': 129.65, 'team': 'TB'}, {'player_name': 'Sony Michel', 'pos': 'RB', 'projection': 129.58, 'team': 'RB'}, {'player_name': 'Chris Boswell', 'pos': 'K', 'projection': 128.35, 'team': 'KC'}, {'player_name': 'Rashaad Penny', 'pos': 'RB', 'projection': 128.35, 'team': 'RB'}, {'player_name': 'Robbie Gould', 'pos': 'K', 'projection': 128.3, 'team': 'KC'}, {'player_name': '49ers D/ST', 'pos': 'D/ST', 'projection': 127.72, 'team': 'SF'}, {'player_name': 'Kelvin Harmon', 'pos': 'WR', 'projection': 126.25, 'team': 'WAS'}, {'player_name': 'Dallas Goedert', 'pos': 'TE', 'projection': 126.1, 'team': 'PHI'}, {'player_name': 'Noah Fant', 'pos': 'TE', 'projection': 125.8, 'team': 'DEN'}, {'player_name': 'Tevin Coleman', 'pos': 'RB', 'projection': 125.64, 'team': 'SF'}, {'player_name': 'Matt Gay', 'pos': 'K', 'projection': 125.15, 'team': 'K'}, {'player_name': 'DaeSean Hamilton', 'pos': 'WR', 'projection': 125.01, 'team': 'DEN'}, {'player_name': 'Malcolm Brown', 'pos': 'WR', 'projection': 124.55, 'team': 'LAR'}, {'player_name': 'Jaylen Samuels', 'pos': 'RB', 'projection': 124.25, 'team': 'PIT'}, {'player_name': 'Allen Lazard', 'pos': 'WR', 'projection': 123.85, 'team': 'GB'}, {'player_name': 'Blake Jarwin', 'pos': 'TE', 'projection': 123.46, 'team': 'DAL'}, {'player_name': 'Corey Davis', 'pos': 'WR', 'projection': 123.06, 'team': 'TEN'}, {'player_name': 'Jake Elliot', 'pos': 'K', 'projection': 122.43, 'team': 'PHI'}, {'player_name': 'Zane Gonzalez', 'pos': 'K', 'projection': 122.42, 'team': 'ARI'}, {'player_name': 'Patriots D/ST', 'pos': 'D/ST', 'projection': 122.26, 'team': 'NE'}, {'player_name': 'Ravens D/ST', 'pos': 'D/ST', 'projection': 120.7, 'team': 'BAL'}, {'player_name': 'Chris Herndon', 'pos': 'TE', 'projection': 120.37, 'team': 'NYJ'}, {'player_name': 'Hayden Hurst', 'pos': 'TE', 'projection': 119.2, 'team': 'ATL'}, {'player_name': 'Stephen Hauschka', 'pos': 'K', 'projection': 119.03, 'team': 'BUF'}, {'player_name': 'Adam Humphries', 'pos': 'WR', 'projection': 118.34, 'team': 'TEN'}, {'player_name': 'Austin Seibert', 'pos': 'K', 'projection': 118.0, 'team': 'CLE'}, {'player_name': 'Jason Myers', 'pos': 'K', 'projection': 117.8, 'team': 'SEA'}, {'player_name': 'Younghoe Koo', 'pos': 'K', 'projection': 117.56, 'team': 'ATL'}, {'player_name': 'Eric Ebron', 'pos': 'TE', 'projection': 117.47, 'team': 'PIT'}, {'player_name': 'Aldrick Rosas', 'pos': 'K', 'projection': 116.61, 'team': 'NYG'}, {'player_name': 'Joey Slye', 'pos': 'K', 'projection': 116.43, 'team': 'CAR'}, {'player_name': 'Brandon McManus', 'pos': 'K', 'projection': 115.79, 'team': 'DEN'}, {'player_name': 'Colts D/St', 'pos': 'D/ST', 'projection': 115.74, 'team': 'IND'}, {'player_name': 'Chase McLaughlin', 'pos': 'K', 'projection': 115.58, 'team': 'IND'}, {'player_name': 'Dan Bailey', 'pos': 'K', 'projection': 115.39, 'team': 'MIN'}, {'player_name': \"Ka'imi Fairbairn\", 'pos': 'K', 'projection': 115.28, 'team': 'HOU'}]\n"
     ]
    }
   ],
   "source": [
    "r = requests.get(ffd_projections_API)\n",
    "files = r.json()\n",
    "print(files)"
   ]
  },
  {
   "cell_type": "code",
   "execution_count": 5,
   "metadata": {},
   "outputs": [],
   "source": [
    "# Turn json into actual dataframe format\n",
    "\n",
    "ffd_projections_API_df = pd.json_normalize(files, max_level=1)"
   ]
  },
  {
   "cell_type": "code",
   "execution_count": 6,
   "metadata": {},
   "outputs": [
    {
     "data": {
      "text/html": [
       "<div>\n",
       "<style scoped>\n",
       "    .dataframe tbody tr th:only-of-type {\n",
       "        vertical-align: middle;\n",
       "    }\n",
       "\n",
       "    .dataframe tbody tr th {\n",
       "        vertical-align: top;\n",
       "    }\n",
       "\n",
       "    .dataframe thead th {\n",
       "        text-align: right;\n",
       "    }\n",
       "</style>\n",
       "<table border=\"1\" class=\"dataframe\">\n",
       "  <thead>\n",
       "    <tr style=\"text-align: right;\">\n",
       "      <th></th>\n",
       "      <th>player_name</th>\n",
       "      <th>pos</th>\n",
       "      <th>projection</th>\n",
       "      <th>team</th>\n",
       "    </tr>\n",
       "  </thead>\n",
       "  <tbody>\n",
       "    <tr>\n",
       "      <th>0</th>\n",
       "      <td>Lamar Jackson</td>\n",
       "      <td>QB</td>\n",
       "      <td>353.41</td>\n",
       "      <td>BAL</td>\n",
       "    </tr>\n",
       "    <tr>\n",
       "      <th>1</th>\n",
       "      <td>Christian McCaffrey</td>\n",
       "      <td>RB</td>\n",
       "      <td>338.52</td>\n",
       "      <td>CAR</td>\n",
       "    </tr>\n",
       "    <tr>\n",
       "      <th>2</th>\n",
       "      <td>Patrick Mahomes</td>\n",
       "      <td>QB</td>\n",
       "      <td>331.01</td>\n",
       "      <td>KC</td>\n",
       "    </tr>\n",
       "    <tr>\n",
       "      <th>3</th>\n",
       "      <td>Deshaun Watson</td>\n",
       "      <td>QB</td>\n",
       "      <td>307.07</td>\n",
       "      <td>HOU</td>\n",
       "    </tr>\n",
       "    <tr>\n",
       "      <th>4</th>\n",
       "      <td>Michael Thomas</td>\n",
       "      <td>WR</td>\n",
       "      <td>300.99</td>\n",
       "      <td>NO</td>\n",
       "    </tr>\n",
       "    <tr>\n",
       "      <th>5</th>\n",
       "      <td>Dalvin Cook</td>\n",
       "      <td>RB</td>\n",
       "      <td>299.89</td>\n",
       "      <td>MIN</td>\n",
       "    </tr>\n",
       "    <tr>\n",
       "      <th>6</th>\n",
       "      <td>Dak Prescott</td>\n",
       "      <td>QB</td>\n",
       "      <td>298.73</td>\n",
       "      <td>DAL</td>\n",
       "    </tr>\n",
       "    <tr>\n",
       "      <th>7</th>\n",
       "      <td>Russell Wilson</td>\n",
       "      <td>QB</td>\n",
       "      <td>296.80</td>\n",
       "      <td>SEA</td>\n",
       "    </tr>\n",
       "    <tr>\n",
       "      <th>8</th>\n",
       "      <td>Ezekiel Elliot</td>\n",
       "      <td>RB</td>\n",
       "      <td>292.63</td>\n",
       "      <td>DAL</td>\n",
       "    </tr>\n",
       "    <tr>\n",
       "      <th>9</th>\n",
       "      <td>Saquon Barkley</td>\n",
       "      <td>RB</td>\n",
       "      <td>291.03</td>\n",
       "      <td>NYG</td>\n",
       "    </tr>\n",
       "  </tbody>\n",
       "</table>\n",
       "</div>"
      ],
      "text/plain": [
       "           player_name pos  projection team\n",
       "0        Lamar Jackson  QB      353.41  BAL\n",
       "1  Christian McCaffrey  RB      338.52  CAR\n",
       "2      Patrick Mahomes  QB      331.01   KC\n",
       "3       Deshaun Watson  QB      307.07  HOU\n",
       "4       Michael Thomas  WR      300.99   NO\n",
       "5          Dalvin Cook  RB      299.89  MIN\n",
       "6         Dak Prescott  QB      298.73  DAL\n",
       "7       Russell Wilson  QB      296.80  SEA\n",
       "8       Ezekiel Elliot  RB      292.63  DAL\n",
       "9       Saquon Barkley  RB      291.03  NYG"
      ]
     },
     "execution_count": 6,
     "metadata": {},
     "output_type": "execute_result"
    }
   ],
   "source": [
    "ffd_projections_API_df.head(10)"
   ]
  },
  {
   "cell_type": "code",
   "execution_count": null,
   "metadata": {},
   "outputs": [],
   "source": []
  }
 ],
 "metadata": {
  "kernelspec": {
   "display_name": "Python 3",
   "language": "python",
   "name": "python3"
  },
  "language_info": {
   "codemirror_mode": {
    "name": "ipython",
    "version": 3
   },
   "file_extension": ".py",
   "mimetype": "text/x-python",
   "name": "python",
   "nbconvert_exporter": "python",
   "pygments_lexer": "ipython3",
   "version": "3.8.8"
  }
 },
 "nbformat": 4,
 "nbformat_minor": 4
}
