{
 "cells": [
  {
   "cell_type": "code",
   "execution_count": 26,
   "metadata": {},
   "outputs": [],
   "source": [
    "from urllib.request import urlretrieve as retrieve\n",
    "\n",
    "positions = ['defense_stats_and_projections.csv', 'kicker_stats_and_projections.csv', 'qb_stats_and_projections.csv', 'rb_stats_and_projections.csv', 'te_stats_and_projections.csv', 'wr_stats_and_projections.csv']\n",
    "\n",
    "for i in positions:\n",
    "    url = 'https://www.kaggle.com/mur418/espn-2019-stats-and-2020-nfl-fantasy-projections?select='\n",
    "    retrieve (url,i)"
   ]
  },
  {
   "cell_type": "code",
   "execution_count": null,
   "metadata": {},
   "outputs": [],
   "source": [
    "   "
   ]
  },
  {
   "cell_type": "code",
   "execution_count": null,
   "metadata": {},
   "outputs": [],
   "source": []
  }
 ],
 "metadata": {
  "kernelspec": {
   "display_name": "Python 3",
   "language": "python",
   "name": "python3"
  },
  "language_info": {
   "codemirror_mode": {
    "name": "ipython",
    "version": 3
   },
   "file_extension": ".py",
   "mimetype": "text/x-python",
   "name": "python",
   "nbconvert_exporter": "python",
   "pygments_lexer": "ipython3",
   "version": "3.8.5"
  }
 },
 "nbformat": 4,
 "nbformat_minor": 4
}
