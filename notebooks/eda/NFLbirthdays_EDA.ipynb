{
 "cells": [
  {
   "cell_type": "code",
   "execution_count": 3,
   "id": "383059ec",
   "metadata": {},
   "outputs": [],
   "source": [
    "import pandas as pd\n",
    "import matplotlib.pyplot as plt\n",
    "import seaborn as sns\n",
    "import numpy as np\n",
    "from scipy.stats import normaltest"
   ]
  },
  {
   "cell_type": "code",
   "execution_count": 4,
   "id": "e25755a2",
   "metadata": {},
   "outputs": [],
   "source": [
    "df = pd.read_csv(r\"C:\\Users\\griff\\Cloudy-with-a-Chance-of-Football\\fixtures\\cleaned_data\\NFLBirthdays_cleaned.csv\")"
   ]
  },
  {
   "cell_type": "code",
   "execution_count": 5,
   "id": "6e56f00e",
   "metadata": {},
   "outputs": [
    {
     "data": {
      "text/plain": [
       "position\n",
       "K     31.270270\n",
       "QB    28.314286\n",
       "RB    25.806667\n",
       "TE    26.800000\n",
       "WR    26.036082\n",
       "Name: age, dtype: float64"
      ]
     },
     "execution_count": 5,
     "metadata": {},
     "output_type": "execute_result"
    }
   ],
   "source": [
    "# look at avg age by position\n",
    "\n",
    "df.groupby('position')['age'].mean()"
   ]
  },
  {
   "cell_type": "code",
   "execution_count": 6,
   "id": "3a9ce41f",
   "metadata": {},
   "outputs": [
    {
     "data": {
      "text/plain": [
       "team\n",
       "ARI    29.083333\n",
       "ATL    27.538462\n",
       "BAL    25.846154\n",
       "BUF    26.705882\n",
       "CAR    25.818182\n",
       "CHI    28.166667\n",
       "CIN    25.909091\n",
       "CLE    26.200000\n",
       "DAL    26.272727\n",
       "DEN    25.416667\n",
       "DET    27.461538\n",
       "FA     24.985294\n",
       "GB     27.571429\n",
       "HOU    27.529412\n",
       "IND    27.250000\n",
       "JAC    27.000000\n",
       "KC     27.142857\n",
       "LAC    26.214286\n",
       "LAR    27.000000\n",
       "LV     27.333333\n",
       "MIA    26.150000\n",
       "MIN    26.300000\n",
       "NE     26.764706\n",
       "NO     27.571429\n",
       "NYG    28.062500\n",
       "NYJ    26.866667\n",
       "PHI    26.111111\n",
       "PIT    26.285714\n",
       "SEA    26.142857\n",
       "SF     28.266667\n",
       "TB     28.866667\n",
       "TEN    27.750000\n",
       "WAS    27.315789\n",
       "Name: age, dtype: float64"
      ]
     },
     "execution_count": 6,
     "metadata": {},
     "output_type": "execute_result"
    }
   ],
   "source": [
    "# look at avg age by team\n",
    "\n",
    "df.groupby('team')['age'].mean()"
   ]
  },
  {
   "cell_type": "code",
   "execution_count": 7,
   "id": "586a177f",
   "metadata": {},
   "outputs": [
    {
     "data": {
      "text/plain": [
       "count    531.000000\n",
       "mean      26.751412\n",
       "std        4.020510\n",
       "min       21.000000\n",
       "25%       24.000000\n",
       "50%       26.000000\n",
       "75%       28.000000\n",
       "max       49.000000\n",
       "Name: age, dtype: float64"
      ]
     },
     "execution_count": 7,
     "metadata": {},
     "output_type": "execute_result"
    }
   ],
   "source": [
    "# look at summary stats of age to see youngest, oldest, and avg age of player\n",
    "df['age'].describe()"
   ]
  },
  {
   "cell_type": "code",
   "execution_count": 8,
   "id": "8bf1135d",
   "metadata": {},
   "outputs": [
    {
     "data": {
      "text/html": [
       "<div>\n",
       "<style scoped>\n",
       "    .dataframe tbody tr th:only-of-type {\n",
       "        vertical-align: middle;\n",
       "    }\n",
       "\n",
       "    .dataframe tbody tr th {\n",
       "        vertical-align: top;\n",
       "    }\n",
       "\n",
       "    .dataframe thead th {\n",
       "        text-align: right;\n",
       "    }\n",
       "</style>\n",
       "<table border=\"1\" class=\"dataframe\">\n",
       "  <thead>\n",
       "    <tr style=\"text-align: right;\">\n",
       "      <th></th>\n",
       "      <th>Unnamed: 0</th>\n",
       "      <th>player</th>\n",
       "      <th>position</th>\n",
       "      <th>team</th>\n",
       "      <th>birthdate</th>\n",
       "      <th>birthyear</th>\n",
       "      <th>birthmonth</th>\n",
       "      <th>birthday</th>\n",
       "      <th>currentyear</th>\n",
       "      <th>age</th>\n",
       "    </tr>\n",
       "  </thead>\n",
       "  <tbody>\n",
       "    <tr>\n",
       "      <th>132</th>\n",
       "      <td>132</td>\n",
       "      <td>Ben Roethlisberger</td>\n",
       "      <td>QB</td>\n",
       "      <td>PIT</td>\n",
       "      <td>1982-03-02</td>\n",
       "      <td>1982</td>\n",
       "      <td>3</td>\n",
       "      <td>2</td>\n",
       "      <td>2021</td>\n",
       "      <td>39</td>\n",
       "    </tr>\n",
       "    <tr>\n",
       "      <th>287</th>\n",
       "      <td>287</td>\n",
       "      <td>Ryan Fitzpatrick</td>\n",
       "      <td>QB</td>\n",
       "      <td>WAS</td>\n",
       "      <td>1982-11-24</td>\n",
       "      <td>1982</td>\n",
       "      <td>11</td>\n",
       "      <td>24</td>\n",
       "      <td>2021</td>\n",
       "      <td>39</td>\n",
       "    </tr>\n",
       "    <tr>\n",
       "      <th>237</th>\n",
       "      <td>237</td>\n",
       "      <td>Robbie Gould</td>\n",
       "      <td>K</td>\n",
       "      <td>SF</td>\n",
       "      <td>1982-12-06</td>\n",
       "      <td>1982</td>\n",
       "      <td>12</td>\n",
       "      <td>6</td>\n",
       "      <td>2021</td>\n",
       "      <td>39</td>\n",
       "    </tr>\n",
       "    <tr>\n",
       "      <th>523</th>\n",
       "      <td>542</td>\n",
       "      <td>Jason Witten</td>\n",
       "      <td>TE</td>\n",
       "      <td>LV</td>\n",
       "      <td>1982-05-06</td>\n",
       "      <td>1982</td>\n",
       "      <td>5</td>\n",
       "      <td>6</td>\n",
       "      <td>2021</td>\n",
       "      <td>39</td>\n",
       "    </tr>\n",
       "    <tr>\n",
       "      <th>226</th>\n",
       "      <td>226</td>\n",
       "      <td>Mike Nugent</td>\n",
       "      <td>K</td>\n",
       "      <td>ARI</td>\n",
       "      <td>1982-03-02</td>\n",
       "      <td>1982</td>\n",
       "      <td>3</td>\n",
       "      <td>2</td>\n",
       "      <td>2021</td>\n",
       "      <td>39</td>\n",
       "    </tr>\n",
       "    <tr>\n",
       "      <th>165</th>\n",
       "      <td>165</td>\n",
       "      <td>Philip Rivers</td>\n",
       "      <td>QB</td>\n",
       "      <td>IND</td>\n",
       "      <td>1981-12-08</td>\n",
       "      <td>1981</td>\n",
       "      <td>12</td>\n",
       "      <td>8</td>\n",
       "      <td>2021</td>\n",
       "      <td>40</td>\n",
       "    </tr>\n",
       "    <tr>\n",
       "      <th>123</th>\n",
       "      <td>123</td>\n",
       "      <td>Drew Brees</td>\n",
       "      <td>QB</td>\n",
       "      <td>NO</td>\n",
       "      <td>1979-01-15</td>\n",
       "      <td>1979</td>\n",
       "      <td>1</td>\n",
       "      <td>15</td>\n",
       "      <td>2021</td>\n",
       "      <td>42</td>\n",
       "    </tr>\n",
       "    <tr>\n",
       "      <th>96</th>\n",
       "      <td>96</td>\n",
       "      <td>Tom Brady</td>\n",
       "      <td>QB</td>\n",
       "      <td>TB</td>\n",
       "      <td>1977-08-03</td>\n",
       "      <td>1977</td>\n",
       "      <td>8</td>\n",
       "      <td>3</td>\n",
       "      <td>2021</td>\n",
       "      <td>44</td>\n",
       "    </tr>\n",
       "    <tr>\n",
       "      <th>428</th>\n",
       "      <td>428</td>\n",
       "      <td>Matt Bryant</td>\n",
       "      <td>K</td>\n",
       "      <td>FA</td>\n",
       "      <td>1975-05-29</td>\n",
       "      <td>1975</td>\n",
       "      <td>5</td>\n",
       "      <td>29</td>\n",
       "      <td>2021</td>\n",
       "      <td>46</td>\n",
       "    </tr>\n",
       "    <tr>\n",
       "      <th>427</th>\n",
       "      <td>427</td>\n",
       "      <td>Adam Vinatieri</td>\n",
       "      <td>K</td>\n",
       "      <td>FA</td>\n",
       "      <td>1972-12-28</td>\n",
       "      <td>1972</td>\n",
       "      <td>12</td>\n",
       "      <td>28</td>\n",
       "      <td>2021</td>\n",
       "      <td>49</td>\n",
       "    </tr>\n",
       "  </tbody>\n",
       "</table>\n",
       "</div>"
      ],
      "text/plain": [
       "     Unnamed: 0              player position team   birthdate  birthyear  \\\n",
       "132         132  Ben Roethlisberger       QB  PIT  1982-03-02       1982   \n",
       "287         287    Ryan Fitzpatrick       QB  WAS  1982-11-24       1982   \n",
       "237         237        Robbie Gould        K   SF  1982-12-06       1982   \n",
       "523         542        Jason Witten       TE   LV  1982-05-06       1982   \n",
       "226         226         Mike Nugent        K  ARI  1982-03-02       1982   \n",
       "165         165       Philip Rivers       QB  IND  1981-12-08       1981   \n",
       "123         123          Drew Brees       QB   NO  1979-01-15       1979   \n",
       "96           96           Tom Brady       QB   TB  1977-08-03       1977   \n",
       "428         428         Matt Bryant        K   FA  1975-05-29       1975   \n",
       "427         427      Adam Vinatieri        K   FA  1972-12-28       1972   \n",
       "\n",
       "     birthmonth  birthday  currentyear  age  \n",
       "132           3         2         2021   39  \n",
       "287          11        24         2021   39  \n",
       "237          12         6         2021   39  \n",
       "523           5         6         2021   39  \n",
       "226           3         2         2021   39  \n",
       "165          12         8         2021   40  \n",
       "123           1        15         2021   42  \n",
       "96            8         3         2021   44  \n",
       "428           5        29         2021   46  \n",
       "427          12        28         2021   49  "
      ]
     },
     "execution_count": 8,
     "metadata": {},
     "output_type": "execute_result"
    }
   ],
   "source": [
    "# who are the 10 oldest active players?\n",
    "df.sort_values(by=['age']).tail(10)"
   ]
  },
  {
   "cell_type": "code",
   "execution_count": 10,
   "id": "1830986d",
   "metadata": {},
   "outputs": [
    {
     "data": {
      "image/png": "[encoded data removed]",
      "text/plain": [
       "<Figure size 432x288 with 1 Axes>"
      ]
     },
     "metadata": {
      "needs_background": "light"
     },
     "output_type": "display_data"
    }
   ],
   "source": [
    "# see distribution of age and check for outliers\n",
    "sns.boxplot(x = df['age'])\n",
    "plt.show()"
   ]
  },
  {
   "cell_type": "code",
   "execution_count": null,
   "id": "8e42f3f2",
   "metadata": {},
   "outputs": [],
   "source": []
  }
 ],
 "metadata": {
  "kernelspec": {
   "display_name": "Python 3",
   "language": "python",
   "name": "python3"
  },
  "language_info": {
   "codemirror_mode": {
    "name": "ipython",
    "version": 3
   },
   "file_extension": ".py",
   "mimetype": "text/x-python",
   "name": "python",
   "nbconvert_exporter": "python",
   "pygments_lexer": "ipython3",
   "version": "3.8.5"
  }
 },
 "nbformat": 4,
 "nbformat_minor": 5
}
