{
 "cells": [
  {
   "cell_type": "markdown",
   "metadata": {},
   "source": [
    "Todo: \n",
    "* add defense\n",
    "* make questionable and probable 1 and everything else 0\n",
    "* push to repo"
   ]
  },
  {
   "cell_type": "markdown",
   "metadata": {},
   "source": [
    "# Cloudy With a Chance of Football\n",
    "## Global Machine Learning Model (Incomplete)\n",
    "<a id='header_cell'></a>\n",
    "Author: Aidan O'Connor   \n",
    "Date: 1 June 2021   \n",
    "\n",
    "### Table of Contents:\n",
    "- [Data Preparation](#import_and_options_cell)\n",
    "    - [Import packages, read in data, set options](#import_and_options_cell)\n",
    "    - [Understanding the data](#data_review_cell)\n",
    "    - [Preparing the data](#scoring_models_cell)\n",
    "- [Global Machine Learning Model](#global_model_cell)\n",
    "    - [Model Selection](#model_selection_cell)\n",
    "        - [Selecting Columns](#column_selection_cell)\n",
    "        - [Selecting models to score](#model_scoring_selection_cell)\n",
    "        - [Scoring selected models](#scoring_models_cell)\n",
    "    - [Hyperparameter Tuning](#hyperparameter_tuning_cell)"
   ]
  },
  {
   "cell_type": "markdown",
   "metadata": {},
   "source": [
    "## Data Preparation\n",
    "<a id='data_prep_section_cell'></a>"
   ]
  },
  {
   "cell_type": "markdown",
   "metadata": {},
   "source": [
    "### Import packages, read in data, set options\n",
    "<a id='import_and_options_cell'></a>\n",
    "I'll start by importing all necessary packages to import, manipulate, visualize, and create machine learning models for data.   \n",
    "\n",
    "Then, I'll set some preferences for some of these packages.   \n",
    "\n",
    "Finally, I'll access our sqlite3 database and bring in a series of dataframes from the tables, then merge them. I chose not to do this with a single SQL statement, since I tried this with some difficulty"
   ]
  },
  {
   "cell_type": "code",
   "execution_count": 99,
   "metadata": {},
   "outputs": [],
   "source": [
    "# Packages to import and manipulate data\n",
    "import sqlite3\n",
    "import pandas as pd\n",
    "import numpy as np\n",
    "\n",
    "# Packages to visualize data\n",
    "import matplotlib.pyplot as plt\n",
    "import seaborn as sns\n",
    "\n",
    "# Packages to create and visualize machine learning models from yellowbrick\n",
    "from yellowbrick.target import ClassBalance\n",
    "from yellowbrick.classifier import ClassificationReport\n",
    "from yellowbrick.classifier import confusion_matrix\n",
    "\n",
    "# Packages to create machine learning models from scikit-learn\n",
    "from sklearn.model_selection import train_test_split as tts\n",
    "from sklearn.compose import ColumnTransformer, make_column_selector\n",
    "from sklearn.pipeline import Pipeline\n",
    "from sklearn.linear_model import LogisticRegression\n",
    "from sklearn.svm import LinearSVC, NuSVC, SVC\n",
    "from sklearn.linear_model import LogisticRegressionCV, LogisticRegression, SGDClassifier\n",
    "from sklearn.preprocessing import RobustScaler, OneHotEncoder, OrdinalEncoder, StandardScaler, MinMaxScaler, LabelEncoder\n",
    "from sklearn.linear_model import LogisticRegressionCV, LogisticRegression, SGDClassifier\n",
    "from sklearn.neighbors import KNeighborsClassifier\n",
    "from sklearn.ensemble import BaggingClassifier, ExtraTreesClassifier, RandomForestClassifier\n",
    "from sklearn.impute import SimpleImputer\n",
    "from sklearn.ensemble import RandomForestRegressor\n",
    "from sklearn.naive_bayes import MultinomialNB\n",
    "from sklearn.naive_bayes import GaussianNB\n",
    "from sklearn.naive_bayes import BernoulliNB\n",
    "from sklearn.linear_model import Ridge\n",
    "from sklearn.metrics import f1_score\n",
    "\n",
    "#Evaluation toolset\n",
    "from sklearn.model_selection import StratifiedKFold, cross_val_score\n",
    "from yellowbrick.classifier import ConfusionMatrix\n",
    "from yellowbrick.classifier import ClassificationReport\n",
    "from yellowbrick.features import FeatureImportances"
   ]
  },
  {
   "cell_type": "code",
   "execution_count": 100,
   "metadata": {},
   "outputs": [],
   "source": [
    "# Set pandas viewing options\n",
    "pd.set_option('display.max_columns', None)\n",
    "\n",
    "# Bring in jupyter magic\n",
    "%matplotlib inline\n",
    "\n",
    "# Set matplotlib visualization styling options\n",
    "plt.rcParams['figure.figsize'] = (18,7)\n",
    "plt.style.use('fivethirtyeight')"
   ]
  },
  {
   "cell_type": "code",
   "execution_count": 101,
   "metadata": {},
   "outputs": [],
   "source": [
    "# Read in all data from database and merge the data on player_id\n",
    "conn = sqlite3.connect('../../fixtures/database/cloudy_with_a_chance_of_football.db')\n",
    "cursorObj = conn.cursor()"
   ]
  },
  {
   "cell_type": "code",
   "execution_count": 102,
   "metadata": {
    "scrolled": true
   },
   "outputs": [
    {
     "name": "stdout",
     "output_type": "stream",
     "text": [
      "Here are the tables and indices from the main database:\n",
      "Type of database object: table\n",
      "Name of the database object: positions\n",
      "Table Name: positions\n",
      "Root page: 2\n",
      "SQL statement: CREATE TABLE \"positions\" (\n",
      "\"PlayerID\" INTEGER,\n",
      "  \"Position\" TEXT\n",
      ")\n",
      "Type of database object: table\n",
      "Name of the database object: player_dob\n",
      "Table Name: player_dob\n",
      "Root page: 125\n",
      "SQL statement: CREATE TABLE \"player_dob\" (\n",
      "\"PlayerID\" INTEGER,\n",
      "  \"dob\" TEXT\n",
      ")\n",
      "Type of database object: table\n",
      "Name of the database object: players\n",
      "Table Name: players\n",
      "Root page: 154\n",
      "SQL statement: CREATE TABLE \"players\" (\n",
      "\"PlayerID\" INTEGER,\n",
      "  \"FirstName\" TEXT,\n",
      "  \"LastName\" TEXT,\n",
      "  \"uniqueID\" TEXT\n",
      ")\n",
      "Type of database object: table\n",
      "Name of the database object: player_team\n",
      "Table Name: player_team\n",
      "Root page: 190\n",
      "SQL statement: CREATE TABLE \"player_team\" (\n",
      "\"PlayerID\" INTEGER,\n",
      "  \"week_id\" TEXT,\n",
      "  \"Team\" TEXT\n",
      ")\n",
      "Type of database object: table\n",
      "Name of the database object: player_age\n",
      "Table Name: player_age\n",
      "Root page: 393\n",
      "SQL statement: CREATE TABLE \"player_age\" (\n",
      "\"PlayerID\" INTEGER,\n",
      "  \"week_id\" TEXT,\n",
      "  \"age\" REAL\n",
      ")\n",
      "Type of database object: table\n",
      "Name of the database object: team_home_time_zone\n",
      "Table Name: team_home_time_zone\n",
      "Root page: 645\n",
      "SQL statement: CREATE TABLE \"team_home_time_zone\" (\n",
      "\"team\" TEXT,\n",
      "  \"time_zone_daylight_savings\" INTEGER,\n",
      "  \"time_zone_non_daylight_savings\" INTEGER\n",
      ")\n",
      "Type of database object: table\n",
      "Name of the database object: injury_status\n",
      "Table Name: injury_status\n",
      "Root page: 646\n",
      "SQL statement: CREATE TABLE \"injury_status\" (\n",
      "\"PlayerID\" INTEGER,\n",
      "  \"week_id\" TEXT,\n",
      "  \"injury_status\" TEXT\n",
      ")\n",
      "Type of database object: table\n",
      "Name of the database object: days_since_last_game\n",
      "Table Name: days_since_last_game\n",
      "Root page: 832\n",
      "SQL statement: CREATE TABLE \"days_since_last_game\" (\n",
      "\"team_name\" TEXT,\n",
      "  \"week_id\" TEXT,\n",
      "  \"days_since_last_game\" INTEGER\n",
      ")\n",
      "Type of database object: table\n",
      "Name of the database object: weather\n",
      "Table Name: weather\n",
      "Root page: 1024\n",
      "SQL statement: CREATE TABLE \"weather\" (\n",
      "\"week_id\" TEXT,\n",
      "  \"team_home_short\" TEXT,\n",
      "  \"team_away_short\" TEXT,\n",
      "  \"weather_temperature\" INTEGER,\n",
      "  \"weather_wind_mph_number\" INTEGER,\n",
      "  \"weather_wind_direction\" TEXT,\n",
      "  \"weather_cloud_cover\" REAL,\n",
      "  \"weather_precipitation\" REAL,\n",
      "  \"weather_humidity\" REAL,\n",
      "  \"weather_detail\" TEXT\n",
      ")\n",
      "Type of database object: table\n",
      "Name of the database object: hours_displaced\n",
      "Table Name: hours_displaced\n",
      "Root page: 838\n",
      "SQL statement: CREATE TABLE \"hours_displaced\" (\n",
      "\"week_id\" TEXT,\n",
      "  \"team_away_short\" TEXT,\n",
      "  \"team_home_short\" TEXT,\n",
      "  \"schedule_date\" TEXT,\n",
      "  \"home_team_time_zones\" INTEGER,\n",
      "  \"away_team_time_zones\" INTEGER,\n",
      "  \"absolute_hours_displaced\" INTEGER\n",
      ")\n",
      "Type of database object: table\n",
      "Name of the database object: stats_regular\n",
      "Table Name: stats_regular\n",
      "Root page: 841\n",
      "SQL statement: CREATE TABLE \"stats_regular\" (\n",
      "\"PlayerID\" INTEGER,\n",
      "  \"week_id\" TEXT,\n",
      "  \"Team\" TEXT,\n",
      "  \"Opponent\" TEXT,\n",
      "  \"HomeOrAway\" TEXT,\n",
      "  \"Number\" INTEGER,\n",
      "  \"Name\" TEXT,\n",
      "  \"Position\" TEXT,\n",
      "  \"PositionCategory\" TEXT,\n",
      "  \"Played\" INTEGER,\n",
      "  \"Started\" INTEGER,\n",
      "  \"PassingAttempts\" REAL,\n",
      "  \"PassingCompletions\" REAL,\n",
      "  \"PassingYards\" REAL,\n",
      "  \"PassingCompletionPercentage\" REAL,\n",
      "  \"PassingYardsPerAttempt\" REAL,\n",
      "  \"PassingYardsPerCompletion\" REAL,\n",
      "  \"PassingTouchdowns\" REAL,\n",
      "  \"PassingInterceptions\" REAL,\n",
      "  \"PassingRating\" REAL,\n",
      "  \"PassingLong\" REAL,\n",
      "  \"PassingSacks\" REAL,\n",
      "  \"PassingSackYards\" REAL,\n",
      "  \"RushingAttempts\" REAL,\n",
      "  \"RushingYards\" REAL,\n",
      "  \"RushingYardsPerAttempt\" REAL,\n",
      "  \"RushingTouchdowns\" REAL,\n",
      "  \"RushingLong\" REAL,\n",
      "  \"ReceivingTargets\" REAL,\n",
      "  \"Receptions\" REAL,\n",
      "  \"ReceivingYards\" REAL,\n",
      "  \"ReceivingYardsPerReception\" REAL,\n",
      "  \"ReceivingTouchdowns\" REAL,\n",
      "  \"ReceivingLong\" REAL,\n",
      "  \"Fumbles\" REAL,\n",
      "  \"FumblesLost\" REAL,\n",
      "  \"PuntReturns\" REAL,\n",
      "  \"PuntReturnYards\" REAL,\n",
      "  \"PuntReturnTouchdowns\" REAL,\n",
      "  \"KickReturns\" REAL,\n",
      "  \"KickReturnYards\" REAL,\n",
      "  \"KickReturnTouchdowns\" REAL,\n",
      "  \"SoloTackles\" REAL,\n",
      "  \"AssistedTackles\" REAL,\n",
      "  \"TacklesForLoss\" REAL,\n",
      "  \"Sacks\" REAL,\n",
      "  \"SackYards\" REAL,\n",
      "  \"QuarterbackHits\" REAL,\n",
      "  \"PassesDefended\" REAL,\n",
      "  \"FumblesForced\" REAL,\n",
      "  \"FumblesRecovered\" REAL,\n",
      "  \"FumbleReturnTouchdowns\" REAL,\n",
      "  \"Interceptions\" REAL,\n",
      "  \"InterceptionReturnTouchdowns\" REAL,\n",
      "  \"FieldGoalsAttempted\" REAL,\n",
      "  \"FieldGoalsMade\" REAL,\n",
      "  \"ExtraPointsMade\" REAL,\n",
      "  \"TwoPointConversionPasses\" REAL,\n",
      "  \"TwoPointConversionRuns\" REAL,\n",
      "  \"TwoPointConversionReceptions\" REAL,\n",
      "  \"FantasyPoints\" REAL,\n",
      "  \"FantasyPointsPPR\" REAL,\n",
      "  \"FantasyPosition\" TEXT,\n",
      "  \"PlayerGameID\" INTEGER,\n",
      "  \"ExtraPointsAttempted\" REAL,\n",
      "  \"FantasyPointsFanDuel\" REAL,\n",
      "  \"FieldGoalsMade0to19\" REAL,\n",
      "  \"FieldGoalsMade20to29\" REAL,\n",
      "  \"FieldGoalsMade30to39\" REAL,\n",
      "  \"FieldGoalsMade40to49\" REAL,\n",
      "  \"FieldGoalsMade50Plus\" REAL,\n",
      "  \"FantasyPointsDraftKings\" REAL,\n",
      "  \"InjuryStatus\" TEXT,\n",
      "  \"TeamID\" INTEGER,\n",
      "  \"OpponentID\" INTEGER,\n",
      "  \"ScoreID\" INTEGER\n",
      ")\n",
      "Type of database object: table\n",
      "Name of the database object: stats_red_zone\n",
      "Table Name: stats_red_zone\n",
      "Root page: 4400\n",
      "SQL statement: CREATE TABLE \"stats_red_zone\" (\n",
      "\"uniqueID\" TEXT,\n",
      "  \"Name\" TEXT,\n",
      "  \"Team\" TEXT,\n",
      "  \"Position\" TEXT,\n",
      "  \"OpponentRZ\" TEXT,\n",
      "  \"PassingYardsRZ\" INTEGER,\n",
      "  \"PassingTouchdownsRZ\" INTEGER,\n",
      "  \"PassingInterceptionsRZ\" INTEGER,\n",
      "  \"RushingYardsRZ\" INTEGER,\n",
      "  \"RushingTouchdownsRZ\" INTEGER,\n",
      "  \"ReceptionsRZ\" INTEGER,\n",
      "  \"ReceivingYardsRZ\" INTEGER,\n",
      "  \"ReceivingTouchdownsRZ\" INTEGER,\n",
      "  \"SacksRZ\" INTEGER,\n",
      "  \"InterceptionsRZ\" INTEGER,\n",
      "  \"FumblesForcedRZ\" INTEGER,\n",
      "  \"FumlbesRecoveredRZ\" INTEGER,\n",
      "  \"FantasyPointsRZ\" REAL,\n",
      "  \"week_id\" TEXT,\n",
      "  \"new_uniqueID_x\" TEXT,\n",
      "  \"PlayerID\" INTEGER,\n",
      "  \"new_uniqueID_y\" TEXT\n",
      ")\n",
      "Type of database object: table\n",
      "Name of the database object: elevation_and_conference\n",
      "Table Name: elevation_and_conference\n",
      "Root page: 4529\n",
      "SQL statement: CREATE TABLE \"elevation_and_conference\" (\n",
      "\"Team\" TEXT,\n",
      "  \"Conference\" TEXT,\n",
      "  \"latitude\" REAL,\n",
      "  \"longitude\" REAL,\n",
      "  \"zip\" INTEGER,\n",
      "  \"pic\" TEXT,\n",
      "  \"Unnamed: 6\" TEXT,\n",
      "  \"elevation\" REAL\n",
      ")\n",
      "Type of database object: table\n",
      "Name of the database object: performance_target\n",
      "Table Name: performance_target\n",
      "Root page: 4530\n",
      "SQL statement: CREATE TABLE \"performance_target\" (\n",
      "\"week_id\" TEXT,\n",
      "  \"PlayerID\" INTEGER,\n",
      "  \"projected\" REAL,\n",
      "  \"actual\" REAL,\n",
      "  \"difference\" REAL,\n",
      "  \"performance\" INTEGER,\n",
      "  \"performance_class\" TEXT\n",
      ")\n"
     ]
    }
   ],
   "source": [
    "cursorObj.execute(\"select * from SQLite_master\")\n",
    "\n",
    "tables = cursorObj.fetchall()\n",
    "\n",
    "print(\"Here are the tables and indices from the main database:\")\n",
    "for table in tables:\n",
    "        print(f\"Type of database object: {table[0]}\")\n",
    "        print(f\"Name of the database object: {table[1]}\")\n",
    "        print(f\"Table Name: {table[2]}\")\n",
    "        print(f\"Root page: {table[3]}\")\n",
    "        print(f\"SQL statement: {table[4]}\")"
   ]
  },
  {
   "cell_type": "markdown",
   "metadata": {},
   "source": [
    "Select all but the ```stats_regular```, ```days_since_last_game```, ```elevation_and_conference```, and ```stats_red_zone``` tables because I have not prepared that data using ```pd.shift()```"
   ]
  },
  {
   "cell_type": "code",
   "execution_count": 103,
   "metadata": {},
   "outputs": [],
   "source": [
    "#cursorObj.execute(create_df_sql)\n",
    "positions = pd.read_sql_query('SELECT * from positions',conn)\n",
    "player_team = pd.read_sql_query('SELECT * from player_team',conn)\n",
    "player_age = pd.read_sql_query('SELECT * from player_age',conn)\n",
    "injury_status = pd.read_sql_query('SELECT * from injury_status',conn)\n",
    "days_since_last_game = pd.read_sql_query('SELECT * from days_since_last_game',conn)\n",
    "weather = pd.read_sql_query('SELECT * from weather',conn)\n",
    "hours_displaced = pd.read_sql_query(\"\"\"SELECT week_id,\n",
    "                                    team_away_short,\n",
    "                                    team_home_short,\n",
    "                                    absolute_hours_displaced from hours_displaced\"\"\",conn)\n",
    "game_info = pd.read_sql_query('SELECT PlayerID,week_id,Team,Opponent,HomeOrAway from stats_regular',conn)\n",
    "target = pd.read_sql_query('SELECT week_id,PlayerID,performance,performance_class from performance_target',conn)\n",
    "elevation = pd.read_sql_query('SELECT Team,elevation from elevation_and_conference',conn)"
   ]
  },
  {
   "cell_type": "code",
   "execution_count": 126,
   "metadata": {},
   "outputs": [],
   "source": [
    "df = player_team.merge(positions, how = 'left', on = 'PlayerID').drop_duplicates()"
   ]
  },
  {
   "cell_type": "code",
   "execution_count": 127,
   "metadata": {},
   "outputs": [],
   "source": [
    "df = pd.merge(df, injury_status, how = 'left', left_on = ['PlayerID','week_id'], right_on = ['PlayerID','week_id'])"
   ]
  },
  {
   "cell_type": "code",
   "execution_count": 128,
   "metadata": {},
   "outputs": [],
   "source": [
    "df = pd.merge(df, game_info, how = 'left', left_on = ['PlayerID','week_id','Team'], right_on = ['PlayerID','week_id','Team'])"
   ]
  },
  {
   "cell_type": "code",
   "execution_count": 129,
   "metadata": {},
   "outputs": [],
   "source": [
    "days_since_last_game = days_since_last_game.rename({'team_name':'Team'}, axis = 1)"
   ]
  },
  {
   "cell_type": "code",
   "execution_count": 130,
   "metadata": {},
   "outputs": [],
   "source": [
    "df = pd.merge(df, days_since_last_game, how = 'left', left_on = ['Team','week_id'], right_on = ['Team','week_id'])"
   ]
  },
  {
   "cell_type": "code",
   "execution_count": 131,
   "metadata": {},
   "outputs": [],
   "source": [
    "df = pd.merge(df, target, how = 'left', left_on = ['week_id','PlayerID'], right_on = ['week_id','PlayerID'])"
   ]
  },
  {
   "cell_type": "code",
   "execution_count": 132,
   "metadata": {},
   "outputs": [],
   "source": [
    "df = pd.merge(df, hours_displaced, how = 'left', left_on = ['week_id','Team'], right_on = ['week_id','team_away_short'])"
   ]
  },
  {
   "cell_type": "code",
   "execution_count": 133,
   "metadata": {},
   "outputs": [],
   "source": [
    "df.loc[df['HomeOrAway'] == 'HOME', 'absolute_hours_displaced'] = 0"
   ]
  },
  {
   "cell_type": "code",
   "execution_count": 134,
   "metadata": {},
   "outputs": [],
   "source": [
    "home = df[df['HomeOrAway'] == 'HOME']\n",
    "away = df[df['HomeOrAway'] == 'AWAY']"
   ]
  },
  {
   "cell_type": "code",
   "execution_count": 135,
   "metadata": {},
   "outputs": [],
   "source": [
    "home = pd.merge(home, weather, how = 'left', left_on = ['week_id','Team'], right_on = ['week_id','team_home_short'])\n",
    "away = pd.merge(away, weather, how = 'left', left_on = ['week_id','Team'], right_on = ['week_id','team_away_short'])"
   ]
  },
  {
   "cell_type": "code",
   "execution_count": 144,
   "metadata": {},
   "outputs": [],
   "source": [
    "df = df.drop_duplicates()"
   ]
  },
  {
   "cell_type": "code",
   "execution_count": 137,
   "metadata": {},
   "outputs": [],
   "source": [
    "df = pd.concat([home,away], ignore_index = True).drop(['team_home_short_y','team_away_short_y','team_away_short_x','team_home_short_x'], axis = 1)"
   ]
  },
  {
   "cell_type": "code",
   "execution_count": 138,
   "metadata": {},
   "outputs": [],
   "source": [
    "season_week = []\n",
    "\n",
    "for n in df['week_id']:\n",
    "    season_week.append(n[5:])\n",
    "    \n",
    "df['season_week'] = season_week"
   ]
  },
  {
   "cell_type": "code",
   "execution_count": 139,
   "metadata": {},
   "outputs": [
    {
     "data": {
      "text/plain": [
       "'2018'"
      ]
     },
     "execution_count": 139,
     "metadata": {},
     "output_type": "execute_result"
    }
   ],
   "source": [
    "df['week_id'][0][:4]"
   ]
  },
  {
   "cell_type": "code",
   "execution_count": 140,
   "metadata": {},
   "outputs": [],
   "source": [
    "season_year = []\n",
    "\n",
    "for n in df['week_id']:\n",
    "    season_year.append(n[:4])\n",
    "    \n",
    "df['season_year'] = season_year"
   ]
  },
  {
   "cell_type": "code",
   "execution_count": 141,
   "metadata": {},
   "outputs": [],
   "source": [
    "df = df[pd.notnull(df['performance'])]"
   ]
  },
  {
   "cell_type": "code",
   "execution_count": 142,
   "metadata": {},
   "outputs": [],
   "source": [
    "df = df[df['season_year'] != '2018']"
   ]
  },
  {
   "cell_type": "code",
   "execution_count": 145,
   "metadata": {},
   "outputs": [
    {
     "data": {
      "text/html": [
       "<div>\n",
       "<style scoped>\n",
       "    .dataframe tbody tr th:only-of-type {\n",
       "        vertical-align: middle;\n",
       "    }\n",
       "\n",
       "    .dataframe tbody tr th {\n",
       "        vertical-align: top;\n",
       "    }\n",
       "\n",
       "    .dataframe thead th {\n",
       "        text-align: right;\n",
       "    }\n",
       "</style>\n",
       "<table border=\"1\" class=\"dataframe\">\n",
       "  <thead>\n",
       "    <tr style=\"text-align: right;\">\n",
       "      <th></th>\n",
       "      <th>PlayerID</th>\n",
       "      <th>week_id</th>\n",
       "      <th>Team</th>\n",
       "      <th>Position</th>\n",
       "      <th>injury_status</th>\n",
       "      <th>Opponent</th>\n",
       "      <th>HomeOrAway</th>\n",
       "      <th>days_since_last_game</th>\n",
       "      <th>performance</th>\n",
       "      <th>performance_class</th>\n",
       "      <th>absolute_hours_displaced</th>\n",
       "      <th>weather_temperature</th>\n",
       "      <th>weather_wind_mph_number</th>\n",
       "      <th>weather_wind_direction</th>\n",
       "      <th>weather_cloud_cover</th>\n",
       "      <th>weather_precipitation</th>\n",
       "      <th>weather_humidity</th>\n",
       "      <th>weather_detail</th>\n",
       "      <th>season_week</th>\n",
       "      <th>season_year</th>\n",
       "    </tr>\n",
       "  </thead>\n",
       "  <tbody>\n",
       "    <tr>\n",
       "      <th>11288</th>\n",
       "      <td>7242</td>\n",
       "      <td>2019_1</td>\n",
       "      <td>NO</td>\n",
       "      <td>QB</td>\n",
       "      <td>None</td>\n",
       "      <td>HOU</td>\n",
       "      <td>HOME</td>\n",
       "      <td>365.0</td>\n",
       "      <td>1.0</td>\n",
       "      <td>far overperformed</td>\n",
       "      <td>0.0</td>\n",
       "      <td>72.0</td>\n",
       "      <td>0.0</td>\n",
       "      <td>No wind</td>\n",
       "      <td>0.55</td>\n",
       "      <td>0.0</td>\n",
       "      <td>0.60</td>\n",
       "      <td>DOME</td>\n",
       "      <td>1</td>\n",
       "      <td>2019</td>\n",
       "    </tr>\n",
       "    <tr>\n",
       "      <th>11290</th>\n",
       "      <td>17920</td>\n",
       "      <td>2019_1</td>\n",
       "      <td>PHI</td>\n",
       "      <td>QB</td>\n",
       "      <td>None</td>\n",
       "      <td>WAS</td>\n",
       "      <td>HOME</td>\n",
       "      <td>365.0</td>\n",
       "      <td>1.0</td>\n",
       "      <td>far overperformed</td>\n",
       "      <td>0.0</td>\n",
       "      <td>79.0</td>\n",
       "      <td>4.0</td>\n",
       "      <td>West</td>\n",
       "      <td>0.16</td>\n",
       "      <td>0.0</td>\n",
       "      <td>0.39</td>\n",
       "      <td>Partly Cloudy</td>\n",
       "      <td>1</td>\n",
       "      <td>2019</td>\n",
       "    </tr>\n",
       "    <tr>\n",
       "      <th>11292</th>\n",
       "      <td>16762</td>\n",
       "      <td>2019_1</td>\n",
       "      <td>TB</td>\n",
       "      <td>QB</td>\n",
       "      <td>None</td>\n",
       "      <td>SF</td>\n",
       "      <td>HOME</td>\n",
       "      <td>365.0</td>\n",
       "      <td>0.0</td>\n",
       "      <td>far underperformed</td>\n",
       "      <td>0.0</td>\n",
       "      <td>91.0</td>\n",
       "      <td>5.0</td>\n",
       "      <td>SouthWest</td>\n",
       "      <td>0.32</td>\n",
       "      <td>0.0</td>\n",
       "      <td>0.54</td>\n",
       "      <td>Humid and Partly Cloudy</td>\n",
       "      <td>1</td>\n",
       "      <td>2019</td>\n",
       "    </tr>\n",
       "    <tr>\n",
       "      <th>11294</th>\n",
       "      <td>18055</td>\n",
       "      <td>2019_1</td>\n",
       "      <td>DAL</td>\n",
       "      <td>QB</td>\n",
       "      <td>None</td>\n",
       "      <td>NYG</td>\n",
       "      <td>HOME</td>\n",
       "      <td>365.0</td>\n",
       "      <td>1.0</td>\n",
       "      <td>far overperformed</td>\n",
       "      <td>0.0</td>\n",
       "      <td>72.0</td>\n",
       "      <td>0.0</td>\n",
       "      <td>No wind</td>\n",
       "      <td>0.80</td>\n",
       "      <td>0.0</td>\n",
       "      <td>0.28</td>\n",
       "      <td>DOME</td>\n",
       "      <td>1</td>\n",
       "      <td>2019</td>\n",
       "    </tr>\n",
       "    <tr>\n",
       "      <th>11296</th>\n",
       "      <td>14536</td>\n",
       "      <td>2019_1</td>\n",
       "      <td>SEA</td>\n",
       "      <td>QB</td>\n",
       "      <td>None</td>\n",
       "      <td>CIN</td>\n",
       "      <td>HOME</td>\n",
       "      <td>365.0</td>\n",
       "      <td>0.0</td>\n",
       "      <td>far underperformed</td>\n",
       "      <td>0.0</td>\n",
       "      <td>66.0</td>\n",
       "      <td>4.0</td>\n",
       "      <td>South</td>\n",
       "      <td>0.96</td>\n",
       "      <td>0.0</td>\n",
       "      <td>0.76</td>\n",
       "      <td>Overcast</td>\n",
       "      <td>1</td>\n",
       "      <td>2019</td>\n",
       "    </tr>\n",
       "    <tr>\n",
       "      <th>...</th>\n",
       "      <td>...</td>\n",
       "      <td>...</td>\n",
       "      <td>...</td>\n",
       "      <td>...</td>\n",
       "      <td>...</td>\n",
       "      <td>...</td>\n",
       "      <td>...</td>\n",
       "      <td>...</td>\n",
       "      <td>...</td>\n",
       "      <td>...</td>\n",
       "      <td>...</td>\n",
       "      <td>...</td>\n",
       "      <td>...</td>\n",
       "      <td>...</td>\n",
       "      <td>...</td>\n",
       "      <td>...</td>\n",
       "      <td>...</td>\n",
       "      <td>...</td>\n",
       "      <td>...</td>\n",
       "      <td>...</td>\n",
       "    </tr>\n",
       "    <tr>\n",
       "      <th>70158</th>\n",
       "      <td>22146</td>\n",
       "      <td>2020_17</td>\n",
       "      <td>DAL</td>\n",
       "      <td>QB</td>\n",
       "      <td>Out</td>\n",
       "      <td>NYG</td>\n",
       "      <td>AWAY</td>\n",
       "      <td>7.0</td>\n",
       "      <td>0.0</td>\n",
       "      <td>overperformed</td>\n",
       "      <td>1.0</td>\n",
       "      <td>34.0</td>\n",
       "      <td>8.0</td>\n",
       "      <td>NorthEast</td>\n",
       "      <td>0.99</td>\n",
       "      <td>0.0</td>\n",
       "      <td>0.94</td>\n",
       "      <td>Overcast</td>\n",
       "      <td>17</td>\n",
       "      <td>2020</td>\n",
       "    </tr>\n",
       "    <tr>\n",
       "      <th>70160</th>\n",
       "      <td>22160</td>\n",
       "      <td>2020_17</td>\n",
       "      <td>MIA</td>\n",
       "      <td>QB</td>\n",
       "      <td>None</td>\n",
       "      <td>BUF</td>\n",
       "      <td>AWAY</td>\n",
       "      <td>8.0</td>\n",
       "      <td>0.0</td>\n",
       "      <td>overperformed</td>\n",
       "      <td>0.0</td>\n",
       "      <td>33.0</td>\n",
       "      <td>5.0</td>\n",
       "      <td>South - SouthWest</td>\n",
       "      <td>0.98</td>\n",
       "      <td>0.0</td>\n",
       "      <td>0.91</td>\n",
       "      <td>Overcast</td>\n",
       "      <td>17</td>\n",
       "      <td>2020</td>\n",
       "    </tr>\n",
       "    <tr>\n",
       "      <th>70170</th>\n",
       "      <td>22339</td>\n",
       "      <td>2020_17</td>\n",
       "      <td>MIA</td>\n",
       "      <td>WR</td>\n",
       "      <td>Out</td>\n",
       "      <td>BUF</td>\n",
       "      <td>AWAY</td>\n",
       "      <td>8.0</td>\n",
       "      <td>0.0</td>\n",
       "      <td>overperformed</td>\n",
       "      <td>0.0</td>\n",
       "      <td>33.0</td>\n",
       "      <td>5.0</td>\n",
       "      <td>South - SouthWest</td>\n",
       "      <td>0.98</td>\n",
       "      <td>0.0</td>\n",
       "      <td>0.91</td>\n",
       "      <td>Overcast</td>\n",
       "      <td>17</td>\n",
       "      <td>2020</td>\n",
       "    </tr>\n",
       "    <tr>\n",
       "      <th>70178</th>\n",
       "      <td>22418</td>\n",
       "      <td>2020_17</td>\n",
       "      <td>TEN</td>\n",
       "      <td>TE</td>\n",
       "      <td>None</td>\n",
       "      <td>HOU</td>\n",
       "      <td>AWAY</td>\n",
       "      <td>7.0</td>\n",
       "      <td>0.0</td>\n",
       "      <td>overperformed</td>\n",
       "      <td>0.0</td>\n",
       "      <td>72.0</td>\n",
       "      <td>0.0</td>\n",
       "      <td>No wind</td>\n",
       "      <td>0.50</td>\n",
       "      <td>0.0</td>\n",
       "      <td>0.44</td>\n",
       "      <td>DOME</td>\n",
       "      <td>17</td>\n",
       "      <td>2020</td>\n",
       "    </tr>\n",
       "    <tr>\n",
       "      <th>70186</th>\n",
       "      <td>22477</td>\n",
       "      <td>2020_17</td>\n",
       "      <td>GB</td>\n",
       "      <td>TE</td>\n",
       "      <td>None</td>\n",
       "      <td>CHI</td>\n",
       "      <td>AWAY</td>\n",
       "      <td>7.0</td>\n",
       "      <td>1.0</td>\n",
       "      <td>far overperformed</td>\n",
       "      <td>0.0</td>\n",
       "      <td>32.0</td>\n",
       "      <td>6.0</td>\n",
       "      <td>West - SouthWest</td>\n",
       "      <td>0.98</td>\n",
       "      <td>0.0</td>\n",
       "      <td>0.90</td>\n",
       "      <td>Overcast</td>\n",
       "      <td>17</td>\n",
       "      <td>2020</td>\n",
       "    </tr>\n",
       "  </tbody>\n",
       "</table>\n",
       "<p>16713 rows × 20 columns</p>\n",
       "</div>"
      ],
      "text/plain": [
       "       PlayerID  week_id Team Position injury_status Opponent HomeOrAway  \\\n",
       "11288      7242   2019_1   NO       QB          None      HOU       HOME   \n",
       "11290     17920   2019_1  PHI       QB          None      WAS       HOME   \n",
       "11292     16762   2019_1   TB       QB          None       SF       HOME   \n",
       "11294     18055   2019_1  DAL       QB          None      NYG       HOME   \n",
       "11296     14536   2019_1  SEA       QB          None      CIN       HOME   \n",
       "...         ...      ...  ...      ...           ...      ...        ...   \n",
       "70158     22146  2020_17  DAL       QB           Out      NYG       AWAY   \n",
       "70160     22160  2020_17  MIA       QB          None      BUF       AWAY   \n",
       "70170     22339  2020_17  MIA       WR           Out      BUF       AWAY   \n",
       "70178     22418  2020_17  TEN       TE          None      HOU       AWAY   \n",
       "70186     22477  2020_17   GB       TE          None      CHI       AWAY   \n",
       "\n",
       "       days_since_last_game  performance   performance_class  \\\n",
       "11288                 365.0          1.0   far overperformed   \n",
       "11290                 365.0          1.0   far overperformed   \n",
       "11292                 365.0          0.0  far underperformed   \n",
       "11294                 365.0          1.0   far overperformed   \n",
       "11296                 365.0          0.0  far underperformed   \n",
       "...                     ...          ...                 ...   \n",
       "70158                   7.0          0.0       overperformed   \n",
       "70160                   8.0          0.0       overperformed   \n",
       "70170                   8.0          0.0       overperformed   \n",
       "70178                   7.0          0.0       overperformed   \n",
       "70186                   7.0          1.0   far overperformed   \n",
       "\n",
       "       absolute_hours_displaced  weather_temperature  weather_wind_mph_number  \\\n",
       "11288                       0.0                 72.0                      0.0   \n",
       "11290                       0.0                 79.0                      4.0   \n",
       "11292                       0.0                 91.0                      5.0   \n",
       "11294                       0.0                 72.0                      0.0   \n",
       "11296                       0.0                 66.0                      4.0   \n",
       "...                         ...                  ...                      ...   \n",
       "70158                       1.0                 34.0                      8.0   \n",
       "70160                       0.0                 33.0                      5.0   \n",
       "70170                       0.0                 33.0                      5.0   \n",
       "70178                       0.0                 72.0                      0.0   \n",
       "70186                       0.0                 32.0                      6.0   \n",
       "\n",
       "      weather_wind_direction  weather_cloud_cover  weather_precipitation  \\\n",
       "11288                No wind                 0.55                    0.0   \n",
       "11290                   West                 0.16                    0.0   \n",
       "11292              SouthWest                 0.32                    0.0   \n",
       "11294                No wind                 0.80                    0.0   \n",
       "11296                  South                 0.96                    0.0   \n",
       "...                      ...                  ...                    ...   \n",
       "70158              NorthEast                 0.99                    0.0   \n",
       "70160      South - SouthWest                 0.98                    0.0   \n",
       "70170      South - SouthWest                 0.98                    0.0   \n",
       "70178                No wind                 0.50                    0.0   \n",
       "70186       West - SouthWest                 0.98                    0.0   \n",
       "\n",
       "       weather_humidity           weather_detail season_week season_year  \n",
       "11288              0.60                     DOME           1        2019  \n",
       "11290              0.39            Partly Cloudy           1        2019  \n",
       "11292              0.54  Humid and Partly Cloudy           1        2019  \n",
       "11294              0.28                     DOME           1        2019  \n",
       "11296              0.76                 Overcast           1        2019  \n",
       "...                 ...                      ...         ...         ...  \n",
       "70158              0.94                 Overcast          17        2020  \n",
       "70160              0.91                 Overcast          17        2020  \n",
       "70170              0.91                 Overcast          17        2020  \n",
       "70178              0.44                     DOME          17        2020  \n",
       "70186              0.90                 Overcast          17        2020  \n",
       "\n",
       "[16713 rows x 20 columns]"
      ]
     },
     "execution_count": 145,
     "metadata": {},
     "output_type": "execute_result"
    }
   ],
   "source": [
    "df"
   ]
  },
  {
   "cell_type": "markdown",
   "metadata": {},
   "source": [
    "### Understanding the data\n",
    "<a id='data_review_cell'></a>"
   ]
  },
  {
   "cell_type": "code",
   "execution_count": 68,
   "metadata": {},
   "outputs": [
    {
     "name": "stdout",
     "output_type": "stream",
     "text": [
      "<class 'pandas.core.frame.DataFrame'>\n",
      "Int64Index: 16713 entries, 11288 to 70186\n",
      "Data columns (total 19 columns):\n",
      " #   Column                    Non-Null Count  Dtype  \n",
      "---  ------                    --------------  -----  \n",
      " 0   PlayerID                  16713 non-null  int64  \n",
      " 1   week_id                   16713 non-null  object \n",
      " 2   Team                      16713 non-null  object \n",
      " 3   Position                  16713 non-null  object \n",
      " 4   injury_status             1991 non-null   object \n",
      " 5   Opponent                  16713 non-null  object \n",
      " 6   HomeOrAway                16713 non-null  object \n",
      " 7   days_since_last_game      16713 non-null  float64\n",
      " 8   performance               16713 non-null  float64\n",
      " 9   absolute_hours_displaced  16713 non-null  float64\n",
      " 10  weather_temperature       16713 non-null  float64\n",
      " 11  weather_wind_mph_number   16713 non-null  float64\n",
      " 12  weather_wind_direction    16713 non-null  object \n",
      " 13  weather_cloud_cover       16713 non-null  float64\n",
      " 14  weather_precipitation     16713 non-null  float64\n",
      " 15  weather_humidity          16713 non-null  float64\n",
      " 16  weather_detail            16713 non-null  object \n",
      " 17  season_week               16713 non-null  object \n",
      " 18  season_year               16713 non-null  object \n",
      "dtypes: float64(8), int64(1), object(10)\n",
      "memory usage: 2.6+ MB\n"
     ]
    }
   ],
   "source": [
    "# Find out basic characteristics of the columns and, if necessary, drop columns with null values\n",
    "df.info()"
   ]
  },
  {
   "cell_type": "code",
   "execution_count": 69,
   "metadata": {},
   "outputs": [
    {
     "name": "stdout",
     "output_type": "stream",
     "text": [
      "There are 4 unique values in this column:\n"
     ]
    },
    {
     "data": {
      "text/plain": [
       "array([None, 'Out', 'Questionable', 'Probable', 'Doubtful'], dtype=object)"
      ]
     },
     "execution_count": 69,
     "metadata": {},
     "output_type": "execute_result"
    }
   ],
   "source": [
    "# injury_status is the only column with nulls. Let's see the unique values\n",
    "print(f'There are {df.injury_status.nunique()} unique values in this column:')\n",
    "df['injury_status'].unique()"
   ]
  },
  {
   "cell_type": "code",
   "execution_count": 70,
   "metadata": {},
   "outputs": [
    {
     "name": "stdout",
     "output_type": "stream",
     "text": [
      "There are now 5 unique values in this column:\n"
     ]
    },
    {
     "name": "stderr",
     "output_type": "stream",
     "text": [
      "<ipython-input-70-7a095fdaf089>:2: SettingWithCopyWarning: \n",
      "A value is trying to be set on a copy of a slice from a DataFrame.\n",
      "Try using .loc[row_indexer,col_indexer] = value instead\n",
      "\n",
      "See the caveats in the documentation: https://pandas.pydata.org/pandas-docs/stable/user_guide/indexing.html#returning-a-view-versus-a-copy\n",
      "  df['injury_status'] = df['injury_status'].fillna(value = 'Healthy')\n"
     ]
    },
    {
     "data": {
      "text/plain": [
       "array(['Healthy', 'Out', 'Questionable', 'Probable', 'Doubtful'],\n",
       "      dtype=object)"
      ]
     },
     "execution_count": 70,
     "metadata": {},
     "output_type": "execute_result"
    }
   ],
   "source": [
    "# Fill in nulls with a status of 'healthy'\n",
    "df['injury_status'] = df['injury_status'].fillna(value = 'Healthy')\n",
    "print(f'There are now {df.injury_status.nunique()} unique values in this column:')\n",
    "df['injury_status'].unique()"
   ]
  },
  {
   "cell_type": "code",
   "execution_count": 71,
   "metadata": {},
   "outputs": [],
   "source": [
    "df = df.drop('injury_status', axis = 1)"
   ]
  },
  {
   "cell_type": "code",
   "execution_count": 72,
   "metadata": {},
   "outputs": [
    {
     "data": {
      "text/html": [
       "<div>\n",
       "<style scoped>\n",
       "    .dataframe tbody tr th:only-of-type {\n",
       "        vertical-align: middle;\n",
       "    }\n",
       "\n",
       "    .dataframe tbody tr th {\n",
       "        vertical-align: top;\n",
       "    }\n",
       "\n",
       "    .dataframe thead th {\n",
       "        text-align: right;\n",
       "    }\n",
       "</style>\n",
       "<table border=\"1\" class=\"dataframe\">\n",
       "  <thead>\n",
       "    <tr style=\"text-align: right;\">\n",
       "      <th></th>\n",
       "      <th>PlayerID</th>\n",
       "      <th>week_id</th>\n",
       "      <th>Team</th>\n",
       "      <th>Position</th>\n",
       "      <th>Opponent</th>\n",
       "      <th>HomeOrAway</th>\n",
       "      <th>days_since_last_game</th>\n",
       "      <th>performance</th>\n",
       "      <th>absolute_hours_displaced</th>\n",
       "      <th>weather_temperature</th>\n",
       "      <th>weather_wind_mph_number</th>\n",
       "      <th>weather_wind_direction</th>\n",
       "      <th>weather_cloud_cover</th>\n",
       "      <th>weather_precipitation</th>\n",
       "      <th>weather_humidity</th>\n",
       "      <th>weather_detail</th>\n",
       "      <th>season_week</th>\n",
       "      <th>season_year</th>\n",
       "    </tr>\n",
       "  </thead>\n",
       "  <tbody>\n",
       "    <tr>\n",
       "      <th>11288</th>\n",
       "      <td>7242</td>\n",
       "      <td>2019_1</td>\n",
       "      <td>NO</td>\n",
       "      <td>QB</td>\n",
       "      <td>HOU</td>\n",
       "      <td>HOME</td>\n",
       "      <td>365.0</td>\n",
       "      <td>1.0</td>\n",
       "      <td>0.0</td>\n",
       "      <td>72.0</td>\n",
       "      <td>0.0</td>\n",
       "      <td>No wind</td>\n",
       "      <td>0.55</td>\n",
       "      <td>0.0</td>\n",
       "      <td>0.60</td>\n",
       "      <td>DOME</td>\n",
       "      <td>1</td>\n",
       "      <td>2019</td>\n",
       "    </tr>\n",
       "    <tr>\n",
       "      <th>11290</th>\n",
       "      <td>17920</td>\n",
       "      <td>2019_1</td>\n",
       "      <td>PHI</td>\n",
       "      <td>QB</td>\n",
       "      <td>WAS</td>\n",
       "      <td>HOME</td>\n",
       "      <td>365.0</td>\n",
       "      <td>1.0</td>\n",
       "      <td>0.0</td>\n",
       "      <td>79.0</td>\n",
       "      <td>4.0</td>\n",
       "      <td>West</td>\n",
       "      <td>0.16</td>\n",
       "      <td>0.0</td>\n",
       "      <td>0.39</td>\n",
       "      <td>Partly Cloudy</td>\n",
       "      <td>1</td>\n",
       "      <td>2019</td>\n",
       "    </tr>\n",
       "    <tr>\n",
       "      <th>11292</th>\n",
       "      <td>16762</td>\n",
       "      <td>2019_1</td>\n",
       "      <td>TB</td>\n",
       "      <td>QB</td>\n",
       "      <td>SF</td>\n",
       "      <td>HOME</td>\n",
       "      <td>365.0</td>\n",
       "      <td>0.0</td>\n",
       "      <td>0.0</td>\n",
       "      <td>91.0</td>\n",
       "      <td>5.0</td>\n",
       "      <td>SouthWest</td>\n",
       "      <td>0.32</td>\n",
       "      <td>0.0</td>\n",
       "      <td>0.54</td>\n",
       "      <td>Humid and Partly Cloudy</td>\n",
       "      <td>1</td>\n",
       "      <td>2019</td>\n",
       "    </tr>\n",
       "    <tr>\n",
       "      <th>11294</th>\n",
       "      <td>18055</td>\n",
       "      <td>2019_1</td>\n",
       "      <td>DAL</td>\n",
       "      <td>QB</td>\n",
       "      <td>NYG</td>\n",
       "      <td>HOME</td>\n",
       "      <td>365.0</td>\n",
       "      <td>1.0</td>\n",
       "      <td>0.0</td>\n",
       "      <td>72.0</td>\n",
       "      <td>0.0</td>\n",
       "      <td>No wind</td>\n",
       "      <td>0.80</td>\n",
       "      <td>0.0</td>\n",
       "      <td>0.28</td>\n",
       "      <td>DOME</td>\n",
       "      <td>1</td>\n",
       "      <td>2019</td>\n",
       "    </tr>\n",
       "    <tr>\n",
       "      <th>11296</th>\n",
       "      <td>14536</td>\n",
       "      <td>2019_1</td>\n",
       "      <td>SEA</td>\n",
       "      <td>QB</td>\n",
       "      <td>CIN</td>\n",
       "      <td>HOME</td>\n",
       "      <td>365.0</td>\n",
       "      <td>0.0</td>\n",
       "      <td>0.0</td>\n",
       "      <td>66.0</td>\n",
       "      <td>4.0</td>\n",
       "      <td>South</td>\n",
       "      <td>0.96</td>\n",
       "      <td>0.0</td>\n",
       "      <td>0.76</td>\n",
       "      <td>Overcast</td>\n",
       "      <td>1</td>\n",
       "      <td>2019</td>\n",
       "    </tr>\n",
       "  </tbody>\n",
       "</table>\n",
       "</div>"
      ],
      "text/plain": [
       "       PlayerID week_id Team Position Opponent HomeOrAway  \\\n",
       "11288      7242  2019_1   NO       QB      HOU       HOME   \n",
       "11290     17920  2019_1  PHI       QB      WAS       HOME   \n",
       "11292     16762  2019_1   TB       QB       SF       HOME   \n",
       "11294     18055  2019_1  DAL       QB      NYG       HOME   \n",
       "11296     14536  2019_1  SEA       QB      CIN       HOME   \n",
       "\n",
       "       days_since_last_game  performance  absolute_hours_displaced  \\\n",
       "11288                 365.0          1.0                       0.0   \n",
       "11290                 365.0          1.0                       0.0   \n",
       "11292                 365.0          0.0                       0.0   \n",
       "11294                 365.0          1.0                       0.0   \n",
       "11296                 365.0          0.0                       0.0   \n",
       "\n",
       "       weather_temperature  weather_wind_mph_number weather_wind_direction  \\\n",
       "11288                 72.0                      0.0                No wind   \n",
       "11290                 79.0                      4.0                   West   \n",
       "11292                 91.0                      5.0              SouthWest   \n",
       "11294                 72.0                      0.0                No wind   \n",
       "11296                 66.0                      4.0                  South   \n",
       "\n",
       "       weather_cloud_cover  weather_precipitation  weather_humidity  \\\n",
       "11288                 0.55                    0.0              0.60   \n",
       "11290                 0.16                    0.0              0.39   \n",
       "11292                 0.32                    0.0              0.54   \n",
       "11294                 0.80                    0.0              0.28   \n",
       "11296                 0.96                    0.0              0.76   \n",
       "\n",
       "                weather_detail season_week season_year  \n",
       "11288                     DOME           1        2019  \n",
       "11290            Partly Cloudy           1        2019  \n",
       "11292  Humid and Partly Cloudy           1        2019  \n",
       "11294                     DOME           1        2019  \n",
       "11296                 Overcast           1        2019  "
      ]
     },
     "execution_count": 72,
     "metadata": {},
     "output_type": "execute_result"
    }
   ],
   "source": [
    "df.head()"
   ]
  },
  {
   "cell_type": "code",
   "execution_count": 73,
   "metadata": {},
   "outputs": [
    {
     "data": {
      "text/html": [
       "<div>\n",
       "<style scoped>\n",
       "    .dataframe tbody tr th:only-of-type {\n",
       "        vertical-align: middle;\n",
       "    }\n",
       "\n",
       "    .dataframe tbody tr th {\n",
       "        vertical-align: top;\n",
       "    }\n",
       "\n",
       "    .dataframe thead th {\n",
       "        text-align: right;\n",
       "    }\n",
       "</style>\n",
       "<table border=\"1\" class=\"dataframe\">\n",
       "  <thead>\n",
       "    <tr style=\"text-align: right;\">\n",
       "      <th></th>\n",
       "      <th>PlayerID</th>\n",
       "      <th>week_id</th>\n",
       "      <th>Team</th>\n",
       "      <th>Position</th>\n",
       "      <th>Opponent</th>\n",
       "      <th>HomeOrAway</th>\n",
       "      <th>days_since_last_game</th>\n",
       "      <th>performance</th>\n",
       "      <th>absolute_hours_displaced</th>\n",
       "      <th>weather_temperature</th>\n",
       "      <th>weather_wind_mph_number</th>\n",
       "      <th>weather_wind_direction</th>\n",
       "      <th>weather_cloud_cover</th>\n",
       "      <th>weather_precipitation</th>\n",
       "      <th>weather_humidity</th>\n",
       "      <th>weather_detail</th>\n",
       "      <th>season_week</th>\n",
       "      <th>season_year</th>\n",
       "    </tr>\n",
       "  </thead>\n",
       "  <tbody>\n",
       "    <tr>\n",
       "      <th>70158</th>\n",
       "      <td>22146</td>\n",
       "      <td>2020_17</td>\n",
       "      <td>DAL</td>\n",
       "      <td>QB</td>\n",
       "      <td>NYG</td>\n",
       "      <td>AWAY</td>\n",
       "      <td>7.0</td>\n",
       "      <td>0.0</td>\n",
       "      <td>1.0</td>\n",
       "      <td>34.0</td>\n",
       "      <td>8.0</td>\n",
       "      <td>NorthEast</td>\n",
       "      <td>0.99</td>\n",
       "      <td>0.0</td>\n",
       "      <td>0.94</td>\n",
       "      <td>Overcast</td>\n",
       "      <td>17</td>\n",
       "      <td>2020</td>\n",
       "    </tr>\n",
       "    <tr>\n",
       "      <th>70160</th>\n",
       "      <td>22160</td>\n",
       "      <td>2020_17</td>\n",
       "      <td>MIA</td>\n",
       "      <td>QB</td>\n",
       "      <td>BUF</td>\n",
       "      <td>AWAY</td>\n",
       "      <td>8.0</td>\n",
       "      <td>0.0</td>\n",
       "      <td>0.0</td>\n",
       "      <td>33.0</td>\n",
       "      <td>5.0</td>\n",
       "      <td>South - SouthWest</td>\n",
       "      <td>0.98</td>\n",
       "      <td>0.0</td>\n",
       "      <td>0.91</td>\n",
       "      <td>Overcast</td>\n",
       "      <td>17</td>\n",
       "      <td>2020</td>\n",
       "    </tr>\n",
       "    <tr>\n",
       "      <th>70170</th>\n",
       "      <td>22339</td>\n",
       "      <td>2020_17</td>\n",
       "      <td>MIA</td>\n",
       "      <td>WR</td>\n",
       "      <td>BUF</td>\n",
       "      <td>AWAY</td>\n",
       "      <td>8.0</td>\n",
       "      <td>0.0</td>\n",
       "      <td>0.0</td>\n",
       "      <td>33.0</td>\n",
       "      <td>5.0</td>\n",
       "      <td>South - SouthWest</td>\n",
       "      <td>0.98</td>\n",
       "      <td>0.0</td>\n",
       "      <td>0.91</td>\n",
       "      <td>Overcast</td>\n",
       "      <td>17</td>\n",
       "      <td>2020</td>\n",
       "    </tr>\n",
       "    <tr>\n",
       "      <th>70178</th>\n",
       "      <td>22418</td>\n",
       "      <td>2020_17</td>\n",
       "      <td>TEN</td>\n",
       "      <td>TE</td>\n",
       "      <td>HOU</td>\n",
       "      <td>AWAY</td>\n",
       "      <td>7.0</td>\n",
       "      <td>0.0</td>\n",
       "      <td>0.0</td>\n",
       "      <td>72.0</td>\n",
       "      <td>0.0</td>\n",
       "      <td>No wind</td>\n",
       "      <td>0.50</td>\n",
       "      <td>0.0</td>\n",
       "      <td>0.44</td>\n",
       "      <td>DOME</td>\n",
       "      <td>17</td>\n",
       "      <td>2020</td>\n",
       "    </tr>\n",
       "    <tr>\n",
       "      <th>70186</th>\n",
       "      <td>22477</td>\n",
       "      <td>2020_17</td>\n",
       "      <td>GB</td>\n",
       "      <td>TE</td>\n",
       "      <td>CHI</td>\n",
       "      <td>AWAY</td>\n",
       "      <td>7.0</td>\n",
       "      <td>1.0</td>\n",
       "      <td>0.0</td>\n",
       "      <td>32.0</td>\n",
       "      <td>6.0</td>\n",
       "      <td>West - SouthWest</td>\n",
       "      <td>0.98</td>\n",
       "      <td>0.0</td>\n",
       "      <td>0.90</td>\n",
       "      <td>Overcast</td>\n",
       "      <td>17</td>\n",
       "      <td>2020</td>\n",
       "    </tr>\n",
       "  </tbody>\n",
       "</table>\n",
       "</div>"
      ],
      "text/plain": [
       "       PlayerID  week_id Team Position Opponent HomeOrAway  \\\n",
       "70158     22146  2020_17  DAL       QB      NYG       AWAY   \n",
       "70160     22160  2020_17  MIA       QB      BUF       AWAY   \n",
       "70170     22339  2020_17  MIA       WR      BUF       AWAY   \n",
       "70178     22418  2020_17  TEN       TE      HOU       AWAY   \n",
       "70186     22477  2020_17   GB       TE      CHI       AWAY   \n",
       "\n",
       "       days_since_last_game  performance  absolute_hours_displaced  \\\n",
       "70158                   7.0          0.0                       1.0   \n",
       "70160                   8.0          0.0                       0.0   \n",
       "70170                   8.0          0.0                       0.0   \n",
       "70178                   7.0          0.0                       0.0   \n",
       "70186                   7.0          1.0                       0.0   \n",
       "\n",
       "       weather_temperature  weather_wind_mph_number weather_wind_direction  \\\n",
       "70158                 34.0                      8.0              NorthEast   \n",
       "70160                 33.0                      5.0      South - SouthWest   \n",
       "70170                 33.0                      5.0      South - SouthWest   \n",
       "70178                 72.0                      0.0                No wind   \n",
       "70186                 32.0                      6.0       West - SouthWest   \n",
       "\n",
       "       weather_cloud_cover  weather_precipitation  weather_humidity  \\\n",
       "70158                 0.99                    0.0              0.94   \n",
       "70160                 0.98                    0.0              0.91   \n",
       "70170                 0.98                    0.0              0.91   \n",
       "70178                 0.50                    0.0              0.44   \n",
       "70186                 0.98                    0.0              0.90   \n",
       "\n",
       "      weather_detail season_week season_year  \n",
       "70158       Overcast          17        2020  \n",
       "70160       Overcast          17        2020  \n",
       "70170       Overcast          17        2020  \n",
       "70178           DOME          17        2020  \n",
       "70186       Overcast          17        2020  "
      ]
     },
     "execution_count": 73,
     "metadata": {},
     "output_type": "execute_result"
    }
   ],
   "source": [
    "df.tail()"
   ]
  },
  {
   "cell_type": "code",
   "execution_count": 74,
   "metadata": {},
   "outputs": [
    {
     "data": {
      "text/html": [
       "<div>\n",
       "<style scoped>\n",
       "    .dataframe tbody tr th:only-of-type {\n",
       "        vertical-align: middle;\n",
       "    }\n",
       "\n",
       "    .dataframe tbody tr th {\n",
       "        vertical-align: top;\n",
       "    }\n",
       "\n",
       "    .dataframe thead th {\n",
       "        text-align: right;\n",
       "    }\n",
       "</style>\n",
       "<table border=\"1\" class=\"dataframe\">\n",
       "  <thead>\n",
       "    <tr style=\"text-align: right;\">\n",
       "      <th></th>\n",
       "      <th>PlayerID</th>\n",
       "      <th>days_since_last_game</th>\n",
       "      <th>performance</th>\n",
       "      <th>absolute_hours_displaced</th>\n",
       "      <th>weather_temperature</th>\n",
       "      <th>weather_wind_mph_number</th>\n",
       "      <th>weather_cloud_cover</th>\n",
       "      <th>weather_precipitation</th>\n",
       "      <th>weather_humidity</th>\n",
       "    </tr>\n",
       "  </thead>\n",
       "  <tbody>\n",
       "    <tr>\n",
       "      <th>count</th>\n",
       "      <td>16713.000000</td>\n",
       "      <td>16713.000000</td>\n",
       "      <td>16713.000000</td>\n",
       "      <td>16713.000000</td>\n",
       "      <td>16713.000000</td>\n",
       "      <td>16713.000000</td>\n",
       "      <td>16713.000000</td>\n",
       "      <td>16713.000000</td>\n",
       "      <td>16713.000000</td>\n",
       "    </tr>\n",
       "    <tr>\n",
       "      <th>mean</th>\n",
       "      <td>17833.857895</td>\n",
       "      <td>26.332496</td>\n",
       "      <td>0.262311</td>\n",
       "      <td>0.521032</td>\n",
       "      <td>62.705977</td>\n",
       "      <td>4.955484</td>\n",
       "      <td>0.387406</td>\n",
       "      <td>0.017801</td>\n",
       "      <td>0.623047</td>\n",
       "    </tr>\n",
       "    <tr>\n",
       "      <th>std</th>\n",
       "      <td>4045.533556</td>\n",
       "      <td>74.620038</td>\n",
       "      <td>0.439904</td>\n",
       "      <td>0.926669</td>\n",
       "      <td>15.427600</td>\n",
       "      <td>4.409201</td>\n",
       "      <td>0.313746</td>\n",
       "      <td>0.081995</td>\n",
       "      <td>0.207458</td>\n",
       "    </tr>\n",
       "    <tr>\n",
       "      <th>min</th>\n",
       "      <td>549.000000</td>\n",
       "      <td>4.000000</td>\n",
       "      <td>0.000000</td>\n",
       "      <td>0.000000</td>\n",
       "      <td>13.000000</td>\n",
       "      <td>0.000000</td>\n",
       "      <td>0.000000</td>\n",
       "      <td>0.000000</td>\n",
       "      <td>0.100000</td>\n",
       "    </tr>\n",
       "    <tr>\n",
       "      <th>25%</th>\n",
       "      <td>16597.000000</td>\n",
       "      <td>7.000000</td>\n",
       "      <td>0.000000</td>\n",
       "      <td>0.000000</td>\n",
       "      <td>51.000000</td>\n",
       "      <td>1.000000</td>\n",
       "      <td>0.100000</td>\n",
       "      <td>0.000000</td>\n",
       "      <td>0.490000</td>\n",
       "    </tr>\n",
       "    <tr>\n",
       "      <th>50%</th>\n",
       "      <td>18993.000000</td>\n",
       "      <td>7.000000</td>\n",
       "      <td>0.000000</td>\n",
       "      <td>0.000000</td>\n",
       "      <td>68.000000</td>\n",
       "      <td>4.000000</td>\n",
       "      <td>0.310000</td>\n",
       "      <td>0.000000</td>\n",
       "      <td>0.650000</td>\n",
       "    </tr>\n",
       "    <tr>\n",
       "      <th>75%</th>\n",
       "      <td>20726.000000</td>\n",
       "      <td>8.000000</td>\n",
       "      <td>1.000000</td>\n",
       "      <td>1.000000</td>\n",
       "      <td>72.000000</td>\n",
       "      <td>7.000000</td>\n",
       "      <td>0.650000</td>\n",
       "      <td>0.000000</td>\n",
       "      <td>0.780000</td>\n",
       "    </tr>\n",
       "    <tr>\n",
       "      <th>max</th>\n",
       "      <td>22485.000000</td>\n",
       "      <td>365.000000</td>\n",
       "      <td>1.000000</td>\n",
       "      <td>3.000000</td>\n",
       "      <td>95.000000</td>\n",
       "      <td>26.000000</td>\n",
       "      <td>0.990000</td>\n",
       "      <td>0.990000</td>\n",
       "      <td>0.990000</td>\n",
       "    </tr>\n",
       "  </tbody>\n",
       "</table>\n",
       "</div>"
      ],
      "text/plain": [
       "           PlayerID  days_since_last_game   performance  \\\n",
       "count  16713.000000          16713.000000  16713.000000   \n",
       "mean   17833.857895             26.332496      0.262311   \n",
       "std     4045.533556             74.620038      0.439904   \n",
       "min      549.000000              4.000000      0.000000   \n",
       "25%    16597.000000              7.000000      0.000000   \n",
       "50%    18993.000000              7.000000      0.000000   \n",
       "75%    20726.000000              8.000000      1.000000   \n",
       "max    22485.000000            365.000000      1.000000   \n",
       "\n",
       "       absolute_hours_displaced  weather_temperature  weather_wind_mph_number  \\\n",
       "count              16713.000000         16713.000000             16713.000000   \n",
       "mean                   0.521032            62.705977                 4.955484   \n",
       "std                    0.926669            15.427600                 4.409201   \n",
       "min                    0.000000            13.000000                 0.000000   \n",
       "25%                    0.000000            51.000000                 1.000000   \n",
       "50%                    0.000000            68.000000                 4.000000   \n",
       "75%                    1.000000            72.000000                 7.000000   \n",
       "max                    3.000000            95.000000                26.000000   \n",
       "\n",
       "       weather_cloud_cover  weather_precipitation  weather_humidity  \n",
       "count         16713.000000           16713.000000      16713.000000  \n",
       "mean              0.387406               0.017801          0.623047  \n",
       "std               0.313746               0.081995          0.207458  \n",
       "min               0.000000               0.000000          0.100000  \n",
       "25%               0.100000               0.000000          0.490000  \n",
       "50%               0.310000               0.000000          0.650000  \n",
       "75%               0.650000               0.000000          0.780000  \n",
       "max               0.990000               0.990000          0.990000  "
      ]
     },
     "execution_count": 74,
     "metadata": {},
     "output_type": "execute_result"
    }
   ],
   "source": [
    "df.describe()"
   ]
  },
  {
   "cell_type": "markdown",
   "metadata": {},
   "source": [
    "### Preparing the data\n",
    "<a id='preparing_data_cell'></a>"
   ]
  },
  {
   "cell_type": "code",
   "execution_count": 29,
   "metadata": {},
   "outputs": [],
   "source": [
    "# Split dataframe into two dataframes: X will have all but target, y will have target\n",
    "X = df.drop('performance', axis = 1)\n",
    "y = df['performance']"
   ]
  },
  {
   "cell_type": "code",
   "execution_count": 79,
   "metadata": {},
   "outputs": [
    {
     "data": {
      "text/plain": [
       "array(['far overperformed', 'far underperformed', 'overperformed',\n",
       "       'underperformed', None], dtype=object)"
      ]
     },
     "execution_count": 79,
     "metadata": {},
     "output_type": "execute_result"
    }
   ],
   "source": [
    "labels = target['performance_class'].unique()\n",
    "labels"
   ]
  },
  {
   "cell_type": "code",
   "execution_count": 90,
   "metadata": {},
   "outputs": [
    {
     "ename": "KeyError",
     "evalue": "'performance_class'",
     "output_type": "error",
     "traceback": [
      "\u001b[0;31m---------------------------------------------------------------------------\u001b[0m",
      "\u001b[0;31mKeyError\u001b[0m                                  Traceback (most recent call last)",
      "\u001b[0;32m~/opt/anaconda3/lib/python3.8/site-packages/pandas/core/indexes/base.py\u001b[0m in \u001b[0;36mget_loc\u001b[0;34m(self, key, method, tolerance)\u001b[0m\n\u001b[1;32m   2894\u001b[0m             \u001b[0;32mtry\u001b[0m\u001b[0;34m:\u001b[0m\u001b[0;34m\u001b[0m\u001b[0;34m\u001b[0m\u001b[0m\n\u001b[0;32m-> 2895\u001b[0;31m                 \u001b[0;32mreturn\u001b[0m \u001b[0mself\u001b[0m\u001b[0;34m.\u001b[0m\u001b[0m_engine\u001b[0m\u001b[0;34m.\u001b[0m\u001b[0mget_loc\u001b[0m\u001b[0;34m(\u001b[0m\u001b[0mcasted_key\u001b[0m\u001b[0;34m)\u001b[0m\u001b[0;34m\u001b[0m\u001b[0;34m\u001b[0m\u001b[0m\n\u001b[0m\u001b[1;32m   2896\u001b[0m             \u001b[0;32mexcept\u001b[0m \u001b[0mKeyError\u001b[0m \u001b[0;32mas\u001b[0m \u001b[0merr\u001b[0m\u001b[0;34m:\u001b[0m\u001b[0;34m\u001b[0m\u001b[0;34m\u001b[0m\u001b[0m\n",
      "\u001b[0;32mpandas/_libs/index.pyx\u001b[0m in \u001b[0;36mpandas._libs.index.IndexEngine.get_loc\u001b[0;34m()\u001b[0m\n",
      "\u001b[0;32mpandas/_libs/index.pyx\u001b[0m in \u001b[0;36mpandas._libs.index.IndexEngine.get_loc\u001b[0;34m()\u001b[0m\n",
      "\u001b[0;32mpandas/_libs/index_class_helper.pxi\u001b[0m in \u001b[0;36mpandas._libs.index.Int64Engine._check_type\u001b[0;34m()\u001b[0m\n",
      "\u001b[0;31mKeyError\u001b[0m: 'performance_class'",
      "\nThe above exception was the direct cause of the following exception:\n",
      "\u001b[0;31mKeyError\u001b[0m                                  Traceback (most recent call last)",
      "\u001b[0;32m<ipython-input-90-1edbdd1e2293>\u001b[0m in \u001b[0;36m<module>\u001b[0;34m\u001b[0m\n\u001b[0;32m----> 1\u001b[0;31m \u001b[0mtarget\u001b[0m \u001b[0;34m=\u001b[0m \u001b[0mtarget\u001b[0m\u001b[0;34m[\u001b[0m\u001b[0mtarget\u001b[0m\u001b[0;34m[\u001b[0m\u001b[0;34m'performance_class'\u001b[0m\u001b[0;34m]\u001b[0m \u001b[0;34m!=\u001b[0m \u001b[0;32mNone\u001b[0m\u001b[0;34m]\u001b[0m\u001b[0;34m\u001b[0m\u001b[0;34m\u001b[0m\u001b[0m\n\u001b[0m",
      "\u001b[0;32m~/opt/anaconda3/lib/python3.8/site-packages/pandas/core/series.py\u001b[0m in \u001b[0;36m__getitem__\u001b[0;34m(self, key)\u001b[0m\n\u001b[1;32m    880\u001b[0m \u001b[0;34m\u001b[0m\u001b[0m\n\u001b[1;32m    881\u001b[0m         \u001b[0;32melif\u001b[0m \u001b[0mkey_is_scalar\u001b[0m\u001b[0;34m:\u001b[0m\u001b[0;34m\u001b[0m\u001b[0;34m\u001b[0m\u001b[0m\n\u001b[0;32m--> 882\u001b[0;31m             \u001b[0;32mreturn\u001b[0m \u001b[0mself\u001b[0m\u001b[0;34m.\u001b[0m\u001b[0m_get_value\u001b[0m\u001b[0;34m(\u001b[0m\u001b[0mkey\u001b[0m\u001b[0;34m)\u001b[0m\u001b[0;34m\u001b[0m\u001b[0;34m\u001b[0m\u001b[0m\n\u001b[0m\u001b[1;32m    883\u001b[0m \u001b[0;34m\u001b[0m\u001b[0m\n\u001b[1;32m    884\u001b[0m         \u001b[0;32mif\u001b[0m \u001b[0mis_hashable\u001b[0m\u001b[0;34m(\u001b[0m\u001b[0mkey\u001b[0m\u001b[0;34m)\u001b[0m\u001b[0;34m:\u001b[0m\u001b[0;34m\u001b[0m\u001b[0;34m\u001b[0m\u001b[0m\n",
      "\u001b[0;32m~/opt/anaconda3/lib/python3.8/site-packages/pandas/core/series.py\u001b[0m in \u001b[0;36m_get_value\u001b[0;34m(self, label, takeable)\u001b[0m\n\u001b[1;32m    987\u001b[0m \u001b[0;34m\u001b[0m\u001b[0m\n\u001b[1;32m    988\u001b[0m         \u001b[0;31m# Similar to Index.get_value, but we do not fall back to positional\u001b[0m\u001b[0;34m\u001b[0m\u001b[0;34m\u001b[0m\u001b[0;34m\u001b[0m\u001b[0m\n\u001b[0;32m--> 989\u001b[0;31m         \u001b[0mloc\u001b[0m \u001b[0;34m=\u001b[0m \u001b[0mself\u001b[0m\u001b[0;34m.\u001b[0m\u001b[0mindex\u001b[0m\u001b[0;34m.\u001b[0m\u001b[0mget_loc\u001b[0m\u001b[0;34m(\u001b[0m\u001b[0mlabel\u001b[0m\u001b[0;34m)\u001b[0m\u001b[0;34m\u001b[0m\u001b[0;34m\u001b[0m\u001b[0m\n\u001b[0m\u001b[1;32m    990\u001b[0m         \u001b[0;32mreturn\u001b[0m \u001b[0mself\u001b[0m\u001b[0;34m.\u001b[0m\u001b[0mindex\u001b[0m\u001b[0;34m.\u001b[0m\u001b[0m_get_values_for_loc\u001b[0m\u001b[0;34m(\u001b[0m\u001b[0mself\u001b[0m\u001b[0;34m,\u001b[0m \u001b[0mloc\u001b[0m\u001b[0;34m,\u001b[0m \u001b[0mlabel\u001b[0m\u001b[0;34m)\u001b[0m\u001b[0;34m\u001b[0m\u001b[0;34m\u001b[0m\u001b[0m\n\u001b[1;32m    991\u001b[0m \u001b[0;34m\u001b[0m\u001b[0m\n",
      "\u001b[0;32m~/opt/anaconda3/lib/python3.8/site-packages/pandas/core/indexes/base.py\u001b[0m in \u001b[0;36mget_loc\u001b[0;34m(self, key, method, tolerance)\u001b[0m\n\u001b[1;32m   2895\u001b[0m                 \u001b[0;32mreturn\u001b[0m \u001b[0mself\u001b[0m\u001b[0;34m.\u001b[0m\u001b[0m_engine\u001b[0m\u001b[0;34m.\u001b[0m\u001b[0mget_loc\u001b[0m\u001b[0;34m(\u001b[0m\u001b[0mcasted_key\u001b[0m\u001b[0;34m)\u001b[0m\u001b[0;34m\u001b[0m\u001b[0;34m\u001b[0m\u001b[0m\n\u001b[1;32m   2896\u001b[0m             \u001b[0;32mexcept\u001b[0m \u001b[0mKeyError\u001b[0m \u001b[0;32mas\u001b[0m \u001b[0merr\u001b[0m\u001b[0;34m:\u001b[0m\u001b[0;34m\u001b[0m\u001b[0;34m\u001b[0m\u001b[0m\n\u001b[0;32m-> 2897\u001b[0;31m                 \u001b[0;32mraise\u001b[0m \u001b[0mKeyError\u001b[0m\u001b[0;34m(\u001b[0m\u001b[0mkey\u001b[0m\u001b[0;34m)\u001b[0m \u001b[0;32mfrom\u001b[0m \u001b[0merr\u001b[0m\u001b[0;34m\u001b[0m\u001b[0;34m\u001b[0m\u001b[0m\n\u001b[0m\u001b[1;32m   2898\u001b[0m \u001b[0;34m\u001b[0m\u001b[0m\n\u001b[1;32m   2899\u001b[0m         \u001b[0;32mif\u001b[0m \u001b[0mtolerance\u001b[0m \u001b[0;32mis\u001b[0m \u001b[0;32mnot\u001b[0m \u001b[0;32mNone\u001b[0m\u001b[0;34m:\u001b[0m\u001b[0;34m\u001b[0m\u001b[0;34m\u001b[0m\u001b[0m\n",
      "\u001b[0;31mKeyError\u001b[0m: 'performance_class'"
     ]
    }
   ],
   "source": [
    "target = target[target['performance_class'] != None]"
   ]
  },
  {
   "cell_type": "code",
   "execution_count": 88,
   "metadata": {},
   "outputs": [],
   "source": [
    "target = target['performance_class']"
   ]
  },
  {
   "cell_type": "code",
   "execution_count": 84,
   "metadata": {},
   "outputs": [
    {
     "data": {
      "text/plain": [
       "0         far overperformed\n",
       "1         far overperformed\n",
       "2        far underperformed\n",
       "3         far overperformed\n",
       "4         far overperformed\n",
       "                ...        \n",
       "28830                  None\n",
       "28831                  None\n",
       "28832         overperformed\n",
       "28833         overperformed\n",
       "28834         overperformed\n",
       "Name: performance_class, Length: 28835, dtype: object"
      ]
     },
     "execution_count": 84,
     "metadata": {},
     "output_type": "execute_result"
    }
   ],
   "source": [
    "y"
   ]
  },
  {
   "cell_type": "code",
   "execution_count": 89,
   "metadata": {},
   "outputs": [
    {
     "ename": "TypeError",
     "evalue": "'<' not supported between instances of 'str' and 'NoneType'",
     "output_type": "error",
     "traceback": [
      "\u001b[0;31m---------------------------------------------------------------------------\u001b[0m",
      "\u001b[0;31mTypeError\u001b[0m                                 Traceback (most recent call last)",
      "\u001b[0;32m<ipython-input-89-fbe125ecd23d>\u001b[0m in \u001b[0;36m<module>\u001b[0;34m\u001b[0m\n\u001b[1;32m      2\u001b[0m        'underperformed'])\n\u001b[1;32m      3\u001b[0m \u001b[0;34m\u001b[0m\u001b[0m\n\u001b[0;32m----> 4\u001b[0;31m \u001b[0mvisualizer\u001b[0m\u001b[0;34m.\u001b[0m\u001b[0mfit\u001b[0m\u001b[0;34m(\u001b[0m\u001b[0mtarget\u001b[0m\u001b[0;34m)\u001b[0m \u001b[0;31m# Fit the data to the visualizer\u001b[0m\u001b[0;34m\u001b[0m\u001b[0;34m\u001b[0m\u001b[0m\n\u001b[0m\u001b[1;32m      5\u001b[0m \u001b[0mvisualizer\u001b[0m\u001b[0;34m.\u001b[0m\u001b[0mshow\u001b[0m\u001b[0;34m(\u001b[0m\u001b[0;34m)\u001b[0m \u001b[0;31m# Finalize and render the figure\u001b[0m\u001b[0;34m\u001b[0m\u001b[0;34m\u001b[0m\u001b[0m\n\u001b[1;32m      6\u001b[0m \u001b[0mplt\u001b[0m\u001b[0;34m.\u001b[0m\u001b[0mshow\u001b[0m\u001b[0;34m(\u001b[0m\u001b[0;34m)\u001b[0m\u001b[0;34m\u001b[0m\u001b[0;34m\u001b[0m\u001b[0m\n",
      "\u001b[0;32m~/opt/anaconda3/lib/python3.8/site-packages/yellowbrick/target/class_balance.py\u001b[0m in \u001b[0;36mfit\u001b[0;34m(self, y_train, y_test)\u001b[0m\n\u001b[1;32m    139\u001b[0m \u001b[0;34m\u001b[0m\u001b[0m\n\u001b[1;32m    140\u001b[0m         \u001b[0;31m# Check the target types for the y variables\u001b[0m\u001b[0;34m\u001b[0m\u001b[0;34m\u001b[0m\u001b[0;34m\u001b[0m\u001b[0m\n\u001b[0;32m--> 141\u001b[0;31m         \u001b[0mself\u001b[0m\u001b[0;34m.\u001b[0m\u001b[0m_validate_target\u001b[0m\u001b[0;34m(\u001b[0m\u001b[0my_train\u001b[0m\u001b[0;34m)\u001b[0m\u001b[0;34m\u001b[0m\u001b[0;34m\u001b[0m\u001b[0m\n\u001b[0m\u001b[1;32m    142\u001b[0m         \u001b[0mself\u001b[0m\u001b[0;34m.\u001b[0m\u001b[0m_validate_target\u001b[0m\u001b[0;34m(\u001b[0m\u001b[0my_test\u001b[0m\u001b[0;34m)\u001b[0m\u001b[0;34m\u001b[0m\u001b[0;34m\u001b[0m\u001b[0m\n\u001b[1;32m    143\u001b[0m \u001b[0;34m\u001b[0m\u001b[0m\n",
      "\u001b[0;32m~/opt/anaconda3/lib/python3.8/site-packages/yellowbrick/target/class_balance.py\u001b[0m in \u001b[0;36m_validate_target\u001b[0;34m(self, y)\u001b[0m\n\u001b[1;32m    254\u001b[0m             \u001b[0;32mreturn\u001b[0m\u001b[0;34m\u001b[0m\u001b[0;34m\u001b[0m\u001b[0m\n\u001b[1;32m    255\u001b[0m \u001b[0;34m\u001b[0m\u001b[0m\n\u001b[0;32m--> 256\u001b[0;31m         \u001b[0my_type\u001b[0m \u001b[0;34m=\u001b[0m \u001b[0mtype_of_target\u001b[0m\u001b[0;34m(\u001b[0m\u001b[0my\u001b[0m\u001b[0;34m)\u001b[0m\u001b[0;34m\u001b[0m\u001b[0;34m\u001b[0m\u001b[0m\n\u001b[0m\u001b[1;32m    257\u001b[0m         \u001b[0;32mif\u001b[0m \u001b[0my_type\u001b[0m \u001b[0;32mnot\u001b[0m \u001b[0;32min\u001b[0m \u001b[0;34m(\u001b[0m\u001b[0;34m\"binary\"\u001b[0m\u001b[0;34m,\u001b[0m \u001b[0;34m\"multiclass\"\u001b[0m\u001b[0;34m)\u001b[0m\u001b[0;34m:\u001b[0m\u001b[0;34m\u001b[0m\u001b[0;34m\u001b[0m\u001b[0m\n\u001b[1;32m    258\u001b[0m             raise YellowbrickValueError(\n",
      "\u001b[0;32m~/opt/anaconda3/lib/python3.8/site-packages/sklearn/utils/multiclass.py\u001b[0m in \u001b[0;36mtype_of_target\u001b[0;34m(y)\u001b[0m\n\u001b[1;32m    288\u001b[0m         \u001b[0;32mreturn\u001b[0m \u001b[0;34m'continuous'\u001b[0m \u001b[0;34m+\u001b[0m \u001b[0msuffix\u001b[0m\u001b[0;34m\u001b[0m\u001b[0;34m\u001b[0m\u001b[0m\n\u001b[1;32m    289\u001b[0m \u001b[0;34m\u001b[0m\u001b[0m\n\u001b[0;32m--> 290\u001b[0;31m     \u001b[0;32mif\u001b[0m \u001b[0;34m(\u001b[0m\u001b[0mlen\u001b[0m\u001b[0;34m(\u001b[0m\u001b[0mnp\u001b[0m\u001b[0;34m.\u001b[0m\u001b[0munique\u001b[0m\u001b[0;34m(\u001b[0m\u001b[0my\u001b[0m\u001b[0;34m)\u001b[0m\u001b[0;34m)\u001b[0m \u001b[0;34m>\u001b[0m \u001b[0;36m2\u001b[0m\u001b[0;34m)\u001b[0m \u001b[0;32mor\u001b[0m \u001b[0;34m(\u001b[0m\u001b[0my\u001b[0m\u001b[0;34m.\u001b[0m\u001b[0mndim\u001b[0m \u001b[0;34m>=\u001b[0m \u001b[0;36m2\u001b[0m \u001b[0;32mand\u001b[0m \u001b[0mlen\u001b[0m\u001b[0;34m(\u001b[0m\u001b[0my\u001b[0m\u001b[0;34m[\u001b[0m\u001b[0;36m0\u001b[0m\u001b[0;34m]\u001b[0m\u001b[0;34m)\u001b[0m \u001b[0;34m>\u001b[0m \u001b[0;36m1\u001b[0m\u001b[0;34m)\u001b[0m\u001b[0;34m:\u001b[0m\u001b[0;34m\u001b[0m\u001b[0;34m\u001b[0m\u001b[0m\n\u001b[0m\u001b[1;32m    291\u001b[0m         \u001b[0;32mreturn\u001b[0m \u001b[0;34m'multiclass'\u001b[0m \u001b[0;34m+\u001b[0m \u001b[0msuffix\u001b[0m  \u001b[0;31m# [1, 2, 3] or [[1., 2., 3]] or [[1, 2]]\u001b[0m\u001b[0;34m\u001b[0m\u001b[0;34m\u001b[0m\u001b[0m\n\u001b[1;32m    292\u001b[0m     \u001b[0;32melse\u001b[0m\u001b[0;34m:\u001b[0m\u001b[0;34m\u001b[0m\u001b[0;34m\u001b[0m\u001b[0m\n",
      "\u001b[0;32m<__array_function__ internals>\u001b[0m in \u001b[0;36munique\u001b[0;34m(*args, **kwargs)\u001b[0m\n",
      "\u001b[0;32m~/opt/anaconda3/lib/python3.8/site-packages/numpy/lib/arraysetops.py\u001b[0m in \u001b[0;36munique\u001b[0;34m(ar, return_index, return_inverse, return_counts, axis)\u001b[0m\n\u001b[1;32m    259\u001b[0m     \u001b[0mar\u001b[0m \u001b[0;34m=\u001b[0m \u001b[0mnp\u001b[0m\u001b[0;34m.\u001b[0m\u001b[0masanyarray\u001b[0m\u001b[0;34m(\u001b[0m\u001b[0mar\u001b[0m\u001b[0;34m)\u001b[0m\u001b[0;34m\u001b[0m\u001b[0;34m\u001b[0m\u001b[0m\n\u001b[1;32m    260\u001b[0m     \u001b[0;32mif\u001b[0m \u001b[0maxis\u001b[0m \u001b[0;32mis\u001b[0m \u001b[0;32mNone\u001b[0m\u001b[0;34m:\u001b[0m\u001b[0;34m\u001b[0m\u001b[0;34m\u001b[0m\u001b[0m\n\u001b[0;32m--> 261\u001b[0;31m         \u001b[0mret\u001b[0m \u001b[0;34m=\u001b[0m \u001b[0m_unique1d\u001b[0m\u001b[0;34m(\u001b[0m\u001b[0mar\u001b[0m\u001b[0;34m,\u001b[0m \u001b[0mreturn_index\u001b[0m\u001b[0;34m,\u001b[0m \u001b[0mreturn_inverse\u001b[0m\u001b[0;34m,\u001b[0m \u001b[0mreturn_counts\u001b[0m\u001b[0;34m)\u001b[0m\u001b[0;34m\u001b[0m\u001b[0;34m\u001b[0m\u001b[0m\n\u001b[0m\u001b[1;32m    262\u001b[0m         \u001b[0;32mreturn\u001b[0m \u001b[0m_unpack_tuple\u001b[0m\u001b[0;34m(\u001b[0m\u001b[0mret\u001b[0m\u001b[0;34m)\u001b[0m\u001b[0;34m\u001b[0m\u001b[0;34m\u001b[0m\u001b[0m\n\u001b[1;32m    263\u001b[0m \u001b[0;34m\u001b[0m\u001b[0m\n",
      "\u001b[0;32m~/opt/anaconda3/lib/python3.8/site-packages/numpy/lib/arraysetops.py\u001b[0m in \u001b[0;36m_unique1d\u001b[0;34m(ar, return_index, return_inverse, return_counts)\u001b[0m\n\u001b[1;32m    320\u001b[0m         \u001b[0maux\u001b[0m \u001b[0;34m=\u001b[0m \u001b[0mar\u001b[0m\u001b[0;34m[\u001b[0m\u001b[0mperm\u001b[0m\u001b[0;34m]\u001b[0m\u001b[0;34m\u001b[0m\u001b[0;34m\u001b[0m\u001b[0m\n\u001b[1;32m    321\u001b[0m     \u001b[0;32melse\u001b[0m\u001b[0;34m:\u001b[0m\u001b[0;34m\u001b[0m\u001b[0;34m\u001b[0m\u001b[0m\n\u001b[0;32m--> 322\u001b[0;31m         \u001b[0mar\u001b[0m\u001b[0;34m.\u001b[0m\u001b[0msort\u001b[0m\u001b[0;34m(\u001b[0m\u001b[0;34m)\u001b[0m\u001b[0;34m\u001b[0m\u001b[0;34m\u001b[0m\u001b[0m\n\u001b[0m\u001b[1;32m    323\u001b[0m         \u001b[0maux\u001b[0m \u001b[0;34m=\u001b[0m \u001b[0mar\u001b[0m\u001b[0;34m\u001b[0m\u001b[0;34m\u001b[0m\u001b[0m\n\u001b[1;32m    324\u001b[0m     \u001b[0mmask\u001b[0m \u001b[0;34m=\u001b[0m \u001b[0mnp\u001b[0m\u001b[0;34m.\u001b[0m\u001b[0mempty\u001b[0m\u001b[0;34m(\u001b[0m\u001b[0maux\u001b[0m\u001b[0;34m.\u001b[0m\u001b[0mshape\u001b[0m\u001b[0;34m,\u001b[0m \u001b[0mdtype\u001b[0m\u001b[0;34m=\u001b[0m\u001b[0mnp\u001b[0m\u001b[0;34m.\u001b[0m\u001b[0mbool_\u001b[0m\u001b[0;34m)\u001b[0m\u001b[0;34m\u001b[0m\u001b[0;34m\u001b[0m\u001b[0m\n",
      "\u001b[0;31mTypeError\u001b[0m: '<' not supported between instances of 'str' and 'NoneType'"
     ]
    }
   ],
   "source": [
    "visualizer = ClassBalance(labels=['far overperformed', 'far underperformed', 'overperformed',\n",
    "       'underperformed'])\n",
    "\n",
    "visualizer.fit(target) # Fit the data to the visualizer\n",
    "visualizer.show() # Finalize and render the figure\n",
    "plt.show()"
   ]
  },
  {
   "cell_type": "code",
   "execution_count": 31,
   "metadata": {},
   "outputs": [
    {
     "data": {
      "image/png": "[encoded data removed]",
      "text/plain": [
       "<Figure size 1296x504 with 1 Axes>"
      ]
     },
     "metadata": {},
     "output_type": "display_data"
    }
   ],
   "source": [
    "# Instantiate the visualizer\n",
    "visualizer = ClassBalance(labels=['Overperform', 'Underperform'])\n",
    "\n",
    "visualizer.fit(y) # Fit the data to the visualizer\n",
    "visualizer.show() # Finalize and render the figure\n",
    "plt.show()"
   ]
  },
  {
   "cell_type": "markdown",
   "metadata": {},
   "source": [
    "## Global Machine Learning Model\n",
    "<a id='global_model_cell'></a>\n",
    "Explain concept"
   ]
  },
  {
   "cell_type": "markdown",
   "metadata": {},
   "source": [
    "### Model Selection\n",
    "<a id='model_selection_cell'></a>"
   ]
  },
  {
   "cell_type": "markdown",
   "metadata": {},
   "source": [
    "#### Selecting Columns \n",
    "<a id='column_selection_cell'></a>\n",
    "From the [sklearn documentation](https://scikit-learn.org/stable/modules/generated/sklearn.compose.make_column_selector.html):\n",
    "> Create a callable to select columns to be used with ColumnTransformer.   \n",
    ">   \n",
    ">```make_column_selector``` can select columns based on datatype or the columns name with a regex. When using multiple selection criteria, all criteria must match for a column to be selected."
   ]
  },
  {
   "cell_type": "code",
   "execution_count": 32,
   "metadata": {},
   "outputs": [
    {
     "name": "stdout",
     "output_type": "stream",
     "text": [
      "(12558, 17) (12558,)\n",
      "(3140, 17) (3140,)\n"
     ]
    }
   ],
   "source": [
    "X_train, X_test, y_train, y_test = tts(X, y, test_size=.2)\n",
    "print(X_train.shape, y_train.shape)\n",
    "print(X_test.shape, y_test.shape)"
   ]
  },
  {
   "cell_type": "code",
   "execution_count": 33,
   "metadata": {},
   "outputs": [],
   "source": [
    "categorical = make_column_selector(dtype_include=np.object)\n",
    "numeric = make_column_selector(dtype_include=np.int64)\n",
    "numeric2 = make_column_selector(dtype_include=np.float64)"
   ]
  },
  {
   "cell_type": "markdown",
   "metadata": {},
   "source": [
    "#### Selecting models to score\n",
    "<a id='model_scoring_selection_cell'></a>"
   ]
  },
  {
   "cell_type": "code",
   "execution_count": 34,
   "metadata": {},
   "outputs": [],
   "source": [
    "# list of models to use\n",
    "models = [\n",
    "    SVC(gamma='auto'),\n",
    "    NuSVC(gamma='auto'),\n",
    "    LinearSVC(),\n",
    "    SGDClassifier(max_iter=100, tol=1e-3),\n",
    "    KNeighborsClassifier(),\n",
    "    LogisticRegression(solver='lbfgs'),\n",
    "    LogisticRegressionCV(cv=3, max_iter=100),\n",
    "    BaggingClassifier(),\n",
    "    ExtraTreesClassifier(n_estimators=300),\n",
    "    RandomForestClassifier(n_estimators=300)\n",
    "]"
   ]
  },
  {
   "cell_type": "code",
   "execution_count": 35,
   "metadata": {},
   "outputs": [],
   "source": [
    "# function to score models\n",
    "def score_model(X, y, estimator, **kwargs):\n",
    "    \"\"\"\n",
    "    Test various estimators.\n",
    "    Input: \n",
    "    \"\"\"\n",
    "    y = LabelEncoder().fit_transform(y)\n",
    "    model = Pipeline([\n",
    "    (\"columns\", ColumnTransformer([\n",
    "        ('onehot', OneHotEncoder(), categorical),\n",
    "        ('scalar', RobustScaler(), numeric),\n",
    "        ('scalar2', RobustScaler(), numeric2),\n",
    "    ], remainder='drop')),\n",
    "        (\"imputer\",SimpleImputer(missing_values=np.nan, strategy='most_frequent')),\n",
    "    ('estimator', estimator)\n",
    "])\n",
    "\n",
    "    # Instantiate the classification model and visualizer\n",
    "    model.fit(X, y, **kwargs)\n",
    "\n",
    "    expected  = y\n",
    "    predicted = model.predict(X)\n",
    "\n",
    "    # Compute and return F1 (harmonic mean of precision and recall)\n",
    "    print(\"F1 SCORE {}: {}\".format(estimator.__class__.__name__, f1_score(expected, predicted)))"
   ]
  },
  {
   "cell_type": "code",
   "execution_count": 36,
   "metadata": {},
   "outputs": [],
   "source": [
    "# function to visualize models\n",
    "def visualize_model(X, y, estimator, **kwargs):\n",
    "    \"\"\"\n",
    "    \n",
    "    \"\"\"\n",
    "    y = LabelEncoder().fit_transform(y)\n",
    "    model = Pipeline([\n",
    "    (\"columns\", ColumnTransformer([\n",
    "        ('onehot', OneHotEncoder(), categorical),\n",
    "        ('scalar', RobustScaler(), numeric),\n",
    "        ('scalar2', RobustScaler(), numeric2),\n",
    "    ], remainder='drop')),\n",
    "    ('estimator', estimator)\n",
    "])\n",
    "\n",
    "    # Instantiate the classification model and visualizer\n",
    "    visualizer = ClassificationReport(\n",
    "        model, classes=['Underperformed', 'Overperformed'],\n",
    "        cmap=\"YlGn\", size=(600, 360), **kwargs\n",
    "    )\n",
    "    visualizer.fit(X, y)\n",
    "    visualizer.score(X, y)\n",
    "    visualizer.show()"
   ]
  },
  {
   "cell_type": "code",
   "execution_count": 39,
   "metadata": {
    "scrolled": true
   },
   "outputs": [
    {
     "data": {
      "text/plain": [
       "array(['QB', 'RB', 'WR', 'TE'], dtype=object)"
      ]
     },
     "execution_count": 39,
     "metadata": {},
     "output_type": "execute_result"
    }
   ],
   "source": [
    "X['Positionsition'].unique()"
   ]
  },
  {
   "cell_type": "code",
   "execution_count": 40,
   "metadata": {},
   "outputs": [
    {
     "data": {
      "text/plain": [
       "15698"
      ]
     },
     "execution_count": 40,
     "metadata": {},
     "output_type": "execute_result"
    }
   ],
   "source": [
    "y.count()"
   ]
  },
  {
   "cell_type": "markdown",
   "metadata": {},
   "source": [
    "#### Scoring selected models\n",
    "<a id='scoring_models_cell'></a>"
   ]
  },
  {
   "cell_type": "code",
   "execution_count": 38,
   "metadata": {
    "scrolled": false
   },
   "outputs": [
    {
     "name": "stdout",
     "output_type": "stream",
     "text": [
      "F1 SCORE SVC: 0.0\n"
     ]
    },
    {
     "name": "stderr",
     "output_type": "stream",
     "text": [
      "/Users/aidanoconnor/opt/anaconda3/lib/python3.8/site-packages/sklearn/metrics/_classification.py:1221: UndefinedMetricWarning: Precision and F-score are ill-defined and being set to 0.0 in labels with no predicted samples. Use `zero_division` parameter to control this behavior.\n",
      "  _warn_prf(average, modifier, msg_start, len(result))\n"
     ]
    },
    {
     "data": {
      "image/png": "[encoded data removed]",
      "text/plain": [
       "<Figure size 600x360 with 2 Axes>"
      ]
     },
     "metadata": {},
     "output_type": "display_data"
    },
    {
     "name": "stdout",
     "output_type": "stream",
     "text": [
      "F1 SCORE NuSVC: 0.09903324687573686\n"
     ]
    },
    {
     "data": {
      "image/png": "[encoded data removed]",
      "text/plain": [
       "<Figure size 600x360 with 2 Axes>"
      ]
     },
     "metadata": {},
     "output_type": "display_data"
    },
    {
     "name": "stderr",
     "output_type": "stream",
     "text": [
      "/Users/aidanoconnor/opt/anaconda3/lib/python3.8/site-packages/sklearn/svm/_base.py:976: ConvergenceWarning: Liblinear failed to converge, increase the number of iterations.\n",
      "  warnings.warn(\"Liblinear failed to converge, increase \"\n"
     ]
    },
    {
     "name": "stdout",
     "output_type": "stream",
     "text": [
      "F1 SCORE LinearSVC: 0.018770066683131637\n"
     ]
    },
    {
     "name": "stderr",
     "output_type": "stream",
     "text": [
      "/Users/aidanoconnor/opt/anaconda3/lib/python3.8/site-packages/sklearn/svm/_base.py:976: ConvergenceWarning: Liblinear failed to converge, increase the number of iterations.\n",
      "  warnings.warn(\"Liblinear failed to converge, increase \"\n"
     ]
    },
    {
     "data": {
      "image/png": "[encoded data removed]",
      "text/plain": [
       "<Figure size 600x360 with 2 Axes>"
      ]
     },
     "metadata": {},
     "output_type": "display_data"
    },
    {
     "name": "stderr",
     "output_type": "stream",
     "text": [
      "/Users/aidanoconnor/opt/anaconda3/lib/python3.8/site-packages/sklearn/linear_model/_stochastic_gradient.py:570: ConvergenceWarning: Maximum number of iteration reached before convergence. Consider increasing max_iter to improve the fit.\n",
      "  warnings.warn(\"Maximum number of iteration reached before \"\n"
     ]
    },
    {
     "name": "stdout",
     "output_type": "stream",
     "text": [
      "F1 SCORE SGDClassifier: 0.20612154369362706\n"
     ]
    },
    {
     "data": {
      "image/png": "[encoded data removed]",
      "text/plain": [
       "<Figure size 600x360 with 2 Axes>"
      ]
     },
     "metadata": {},
     "output_type": "display_data"
    },
    {
     "name": "stdout",
     "output_type": "stream",
     "text": [
      "F1 SCORE KNeighborsClassifier: 0.3584396908143088\n"
     ]
    },
    {
     "data": {
      "image/png": "[encoded data removed]",
      "text/plain": [
       "<Figure size 600x360 with 2 Axes>"
      ]
     },
     "metadata": {},
     "output_type": "display_data"
    },
    {
     "name": "stderr",
     "output_type": "stream",
     "text": [
      "/Users/aidanoconnor/opt/anaconda3/lib/python3.8/site-packages/sklearn/linear_model/_logistic.py:762: ConvergenceWarning: lbfgs failed to converge (status=1):\n",
      "STOP: TOTAL NO. of ITERATIONS REACHED LIMIT.\n",
      "\n",
      "Increase the number of iterations (max_iter) or scale the data as shown in:\n",
      "    https://scikit-learn.org/stable/modules/preprocessing.html\n",
      "Please also refer to the documentation for alternative solver options:\n",
      "    https://scikit-learn.org/stable/modules/linear_model.html#logistic-regression\n",
      "  n_iter_i = _check_optimize_result(\n"
     ]
    },
    {
     "name": "stdout",
     "output_type": "stream",
     "text": [
      "F1 SCORE LogisticRegression: 0.0\n"
     ]
    },
    {
     "name": "stderr",
     "output_type": "stream",
     "text": [
      "/Users/aidanoconnor/opt/anaconda3/lib/python3.8/site-packages/sklearn/linear_model/_logistic.py:762: ConvergenceWarning: lbfgs failed to converge (status=1):\n",
      "STOP: TOTAL NO. of ITERATIONS REACHED LIMIT.\n",
      "\n",
      "Increase the number of iterations (max_iter) or scale the data as shown in:\n",
      "    https://scikit-learn.org/stable/modules/preprocessing.html\n",
      "Please also refer to the documentation for alternative solver options:\n",
      "    https://scikit-learn.org/stable/modules/linear_model.html#logistic-regression\n",
      "  n_iter_i = _check_optimize_result(\n",
      "/Users/aidanoconnor/opt/anaconda3/lib/python3.8/site-packages/sklearn/metrics/_classification.py:1221: UndefinedMetricWarning: Precision and F-score are ill-defined and being set to 0.0 in labels with no predicted samples. Use `zero_division` parameter to control this behavior.\n",
      "  _warn_prf(average, modifier, msg_start, len(result))\n"
     ]
    },
    {
     "data": {
      "image/png": "[encoded data removed]",
      "text/plain": [
       "<Figure size 600x360 with 2 Axes>"
      ]
     },
     "metadata": {},
     "output_type": "display_data"
    },
    {
     "name": "stderr",
     "output_type": "stream",
     "text": [
      "/Users/aidanoconnor/opt/anaconda3/lib/python3.8/site-packages/sklearn/linear_model/_logistic.py:762: ConvergenceWarning: lbfgs failed to converge (status=1):\n",
      "STOP: TOTAL NO. of ITERATIONS REACHED LIMIT.\n",
      "\n",
      "Increase the number of iterations (max_iter) or scale the data as shown in:\n",
      "    https://scikit-learn.org/stable/modules/preprocessing.html\n",
      "Please also refer to the documentation for alternative solver options:\n",
      "    https://scikit-learn.org/stable/modules/linear_model.html#logistic-regression\n",
      "  n_iter_i = _check_optimize_result(\n",
      "/Users/aidanoconnor/opt/anaconda3/lib/python3.8/site-packages/sklearn/linear_model/_logistic.py:762: ConvergenceWarning: lbfgs failed to converge (status=1):\n",
      "STOP: TOTAL NO. of ITERATIONS REACHED LIMIT.\n",
      "\n",
      "Increase the number of iterations (max_iter) or scale the data as shown in:\n",
      "    https://scikit-learn.org/stable/modules/preprocessing.html\n",
      "Please also refer to the documentation for alternative solver options:\n",
      "    https://scikit-learn.org/stable/modules/linear_model.html#logistic-regression\n",
      "  n_iter_i = _check_optimize_result(\n",
      "/Users/aidanoconnor/opt/anaconda3/lib/python3.8/site-packages/sklearn/linear_model/_logistic.py:762: ConvergenceWarning: lbfgs failed to converge (status=1):\n",
      "STOP: TOTAL NO. of ITERATIONS REACHED LIMIT.\n",
      "\n",
      "Increase the number of iterations (max_iter) or scale the data as shown in:\n",
      "    https://scikit-learn.org/stable/modules/preprocessing.html\n",
      "Please also refer to the documentation for alternative solver options:\n",
      "    https://scikit-learn.org/stable/modules/linear_model.html#logistic-regression\n",
      "  n_iter_i = _check_optimize_result(\n",
      "/Users/aidanoconnor/opt/anaconda3/lib/python3.8/site-packages/sklearn/linear_model/_logistic.py:762: ConvergenceWarning: lbfgs failed to converge (status=1):\n",
      "STOP: TOTAL NO. of ITERATIONS REACHED LIMIT.\n",
      "\n",
      "Increase the number of iterations (max_iter) or scale the data as shown in:\n",
      "    https://scikit-learn.org/stable/modules/preprocessing.html\n",
      "Please also refer to the documentation for alternative solver options:\n",
      "    https://scikit-learn.org/stable/modules/linear_model.html#logistic-regression\n",
      "  n_iter_i = _check_optimize_result(\n",
      "/Users/aidanoconnor/opt/anaconda3/lib/python3.8/site-packages/sklearn/linear_model/_logistic.py:762: ConvergenceWarning: lbfgs failed to converge (status=1):\n",
      "STOP: TOTAL NO. of ITERATIONS REACHED LIMIT.\n",
      "\n",
      "Increase the number of iterations (max_iter) or scale the data as shown in:\n",
      "    https://scikit-learn.org/stable/modules/preprocessing.html\n",
      "Please also refer to the documentation for alternative solver options:\n",
      "    https://scikit-learn.org/stable/modules/linear_model.html#logistic-regression\n",
      "  n_iter_i = _check_optimize_result(\n",
      "/Users/aidanoconnor/opt/anaconda3/lib/python3.8/site-packages/sklearn/linear_model/_logistic.py:762: ConvergenceWarning: lbfgs failed to converge (status=1):\n",
      "STOP: TOTAL NO. of ITERATIONS REACHED LIMIT.\n",
      "\n",
      "Increase the number of iterations (max_iter) or scale the data as shown in:\n",
      "    https://scikit-learn.org/stable/modules/preprocessing.html\n",
      "Please also refer to the documentation for alternative solver options:\n",
      "    https://scikit-learn.org/stable/modules/linear_model.html#logistic-regression\n",
      "  n_iter_i = _check_optimize_result(\n"
     ]
    },
    {
     "name": "stdout",
     "output_type": "stream",
     "text": [
      "F1 SCORE LogisticRegressionCV: 0.0\n"
     ]
    },
    {
     "name": "stderr",
     "output_type": "stream",
     "text": [
      "/Users/aidanoconnor/opt/anaconda3/lib/python3.8/site-packages/sklearn/linear_model/_logistic.py:762: ConvergenceWarning: lbfgs failed to converge (status=1):\n",
      "STOP: TOTAL NO. of ITERATIONS REACHED LIMIT.\n",
      "\n",
      "Increase the number of iterations (max_iter) or scale the data as shown in:\n",
      "    https://scikit-learn.org/stable/modules/preprocessing.html\n",
      "Please also refer to the documentation for alternative solver options:\n",
      "    https://scikit-learn.org/stable/modules/linear_model.html#logistic-regression\n",
      "  n_iter_i = _check_optimize_result(\n",
      "/Users/aidanoconnor/opt/anaconda3/lib/python3.8/site-packages/sklearn/linear_model/_logistic.py:762: ConvergenceWarning: lbfgs failed to converge (status=1):\n",
      "STOP: TOTAL NO. of ITERATIONS REACHED LIMIT.\n",
      "\n",
      "Increase the number of iterations (max_iter) or scale the data as shown in:\n",
      "    https://scikit-learn.org/stable/modules/preprocessing.html\n",
      "Please also refer to the documentation for alternative solver options:\n",
      "    https://scikit-learn.org/stable/modules/linear_model.html#logistic-regression\n",
      "  n_iter_i = _check_optimize_result(\n",
      "/Users/aidanoconnor/opt/anaconda3/lib/python3.8/site-packages/sklearn/linear_model/_logistic.py:762: ConvergenceWarning: lbfgs failed to converge (status=1):\n",
      "STOP: TOTAL NO. of ITERATIONS REACHED LIMIT.\n",
      "\n",
      "Increase the number of iterations (max_iter) or scale the data as shown in:\n",
      "    https://scikit-learn.org/stable/modules/preprocessing.html\n",
      "Please also refer to the documentation for alternative solver options:\n",
      "    https://scikit-learn.org/stable/modules/linear_model.html#logistic-regression\n",
      "  n_iter_i = _check_optimize_result(\n",
      "/Users/aidanoconnor/opt/anaconda3/lib/python3.8/site-packages/sklearn/linear_model/_logistic.py:762: ConvergenceWarning: lbfgs failed to converge (status=1):\n",
      "STOP: TOTAL NO. of ITERATIONS REACHED LIMIT.\n",
      "\n",
      "Increase the number of iterations (max_iter) or scale the data as shown in:\n",
      "    https://scikit-learn.org/stable/modules/preprocessing.html\n",
      "Please also refer to the documentation for alternative solver options:\n",
      "    https://scikit-learn.org/stable/modules/linear_model.html#logistic-regression\n",
      "  n_iter_i = _check_optimize_result(\n",
      "/Users/aidanoconnor/opt/anaconda3/lib/python3.8/site-packages/sklearn/linear_model/_logistic.py:762: ConvergenceWarning: lbfgs failed to converge (status=1):\n",
      "STOP: TOTAL NO. of ITERATIONS REACHED LIMIT.\n",
      "\n",
      "Increase the number of iterations (max_iter) or scale the data as shown in:\n",
      "    https://scikit-learn.org/stable/modules/preprocessing.html\n",
      "Please also refer to the documentation for alternative solver options:\n",
      "    https://scikit-learn.org/stable/modules/linear_model.html#logistic-regression\n",
      "  n_iter_i = _check_optimize_result(\n",
      "/Users/aidanoconnor/opt/anaconda3/lib/python3.8/site-packages/sklearn/linear_model/_logistic.py:762: ConvergenceWarning: lbfgs failed to converge (status=1):\n",
      "STOP: TOTAL NO. of ITERATIONS REACHED LIMIT.\n",
      "\n",
      "Increase the number of iterations (max_iter) or scale the data as shown in:\n",
      "    https://scikit-learn.org/stable/modules/preprocessing.html\n",
      "Please also refer to the documentation for alternative solver options:\n",
      "    https://scikit-learn.org/stable/modules/linear_model.html#logistic-regression\n",
      "  n_iter_i = _check_optimize_result(\n",
      "/Users/aidanoconnor/opt/anaconda3/lib/python3.8/site-packages/sklearn/metrics/_classification.py:1221: UndefinedMetricWarning: Precision and F-score are ill-defined and being set to 0.0 in labels with no predicted samples. Use `zero_division` parameter to control this behavior.\n",
      "  _warn_prf(average, modifier, msg_start, len(result))\n"
     ]
    },
    {
     "data": {
      "image/png": "[encoded data removed]",
      "text/plain": [
       "<Figure size 600x360 with 2 Axes>"
      ]
     },
     "metadata": {},
     "output_type": "display_data"
    },
    {
     "name": "stdout",
     "output_type": "stream",
     "text": [
      "F1 SCORE BaggingClassifier: 0.937675914756735\n"
     ]
    },
    {
     "data": {
      "image/png": "[encoded data removed]",
      "text/plain": [
       "<Figure size 600x360 with 2 Axes>"
      ]
     },
     "metadata": {},
     "output_type": "display_data"
    },
    {
     "name": "stdout",
     "output_type": "stream",
     "text": [
      "F1 SCORE ExtraTreesClassifier: 1.0\n"
     ]
    },
    {
     "data": {
      "image/png": "[encoded data removed]",
      "text/plain": [
       "<Figure size 600x360 with 2 Axes>"
      ]
     },
     "metadata": {},
     "output_type": "display_data"
    },
    {
     "name": "stdout",
     "output_type": "stream",
     "text": [
      "F1 SCORE RandomForestClassifier: 1.0\n"
     ]
    },
    {
     "data": {
      "image/png": "[encoded data removed]",
      "text/plain": [
       "<Figure size 600x360 with 2 Axes>"
      ]
     },
     "metadata": {},
     "output_type": "display_data"
    }
   ],
   "source": [
    "# iterate through list of models through both functions defined above\n",
    "# Use X and y dataframes first, which contain all of the data\n",
    "for model in models:\n",
    "    score_model(X, y, model)\n",
    "    visualize_model(X, y, model)"
   ]
  },
  {
   "cell_type": "code",
   "execution_count": null,
   "metadata": {
    "scrolled": false
   },
   "outputs": [],
   "source": [
    "# iterate through list of models through both functions defined above\n",
    "# Use X and y dataframes first, which contain all of the data\n",
    "for model in models:\n",
    "    score_model(X_train, y_train, model)\n",
    "    visualize_model(X_test, y_test, model)"
   ]
  },
  {
   "cell_type": "markdown",
   "metadata": {},
   "source": [
    "## Hyperparameter Tuning\n",
    "<a id='hyperparameter_tuning_cell'></a>"
   ]
  },
  {
   "cell_type": "markdown",
   "metadata": {},
   "source": [
    "## Title\n",
    "<a id='header_cell'></a>"
   ]
  }
 ],
 "metadata": {
  "kernelspec": {
   "display_name": "Python 3",
   "language": "python",
   "name": "python3"
  },
  "language_info": {
   "codemirror_mode": {
    "name": "ipython",
    "version": 3
   },
   "file_extension": ".py",
   "mimetype": "text/x-python",
   "name": "python",
   "nbconvert_exporter": "python",
   "pygments_lexer": "ipython3",
   "version": "3.8.3"
  }
 },
 "nbformat": 4,
 "nbformat_minor": 4
}
