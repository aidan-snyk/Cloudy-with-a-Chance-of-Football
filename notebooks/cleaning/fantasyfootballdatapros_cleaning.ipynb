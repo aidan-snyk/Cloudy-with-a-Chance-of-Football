{
 "cells": [
  {
   "cell_type": "code",
   "execution_count": 1,
   "id": "finnish-spencer",
   "metadata": {},
   "outputs": [],
   "source": [
    "import pandas as pd\n",
    "import missingno as msno\n",
    "df = pd.read_csv('C:/Users/Yaphet Tewahade/Cloudy-with-a-Chance-of-Football/fixtures/raw_data/2019projections.csv')"
   ]
  },
  {
   "cell_type": "code",
   "execution_count": 2,
   "id": "alone-riding",
   "metadata": {},
   "outputs": [
    {
     "name": "stdout",
     "output_type": "stream",
     "text": [
      "This dataset evaluates 2577 nfl players based on 2019 projected and actual points from 9 columns\n"
     ]
    }
   ],
   "source": [
    "# see how many rows and columns are in this dataset\n",
    "shape_info = df.shape # set the dataframe's \"shape\" to a variable\n",
    "print('This dataset evaluates {} nfl players based on 2019 projected and actual points from {} columns' # print this phrase with variables added in\n",
    "      .format(shape_info[0], # using the .format method, insert the number of rows in the dataframe\n",
    "              shape_info[1])) # using the .format method, insert the number of columns in the dataframe"
   ]
  },
  {
   "cell_type": "code",
   "execution_count": 3,
   "id": "greatest-appeal",
   "metadata": {
    "scrolled": true
   },
   "outputs": [
    {
     "data": {
      "text/html": [
       "<div>\n",
       "<style scoped>\n",
       "    .dataframe tbody tr th:only-of-type {\n",
       "        vertical-align: middle;\n",
       "    }\n",
       "\n",
       "    .dataframe tbody tr th {\n",
       "        vertical-align: top;\n",
       "    }\n",
       "\n",
       "    .dataframe thead th {\n",
       "        text-align: right;\n",
       "    }\n",
       "</style>\n",
       "<table border=\"1\" class=\"dataframe\">\n",
       "  <thead>\n",
       "    <tr style=\"text-align: right;\">\n",
       "      <th></th>\n",
       "      <th>Unnamed: 0</th>\n",
       "      <th>Week</th>\n",
       "      <th>Team</th>\n",
       "      <th>Player</th>\n",
       "      <th>Slot</th>\n",
       "      <th>Pos</th>\n",
       "      <th>Status</th>\n",
       "      <th>Proj</th>\n",
       "      <th>Actual</th>\n",
       "    </tr>\n",
       "  </thead>\n",
       "  <tbody>\n",
       "    <tr>\n",
       "      <th>0</th>\n",
       "      <td>0</td>\n",
       "      <td>1</td>\n",
       "      <td>1</td>\n",
       "      <td>Saquon Barkley</td>\n",
       "      <td>2</td>\n",
       "      <td>RB</td>\n",
       "      <td>ACTIVE</td>\n",
       "      <td>23.115309</td>\n",
       "      <td>17.9</td>\n",
       "    </tr>\n",
       "    <tr>\n",
       "      <th>1</th>\n",
       "      <td>1</td>\n",
       "      <td>1</td>\n",
       "      <td>1</td>\n",
       "      <td>Alvin Kamara</td>\n",
       "      <td>2</td>\n",
       "      <td>RB</td>\n",
       "      <td>ACTIVE</td>\n",
       "      <td>21.168970</td>\n",
       "      <td>23.9</td>\n",
       "    </tr>\n",
       "    <tr>\n",
       "      <th>2</th>\n",
       "      <td>2</td>\n",
       "      <td>1</td>\n",
       "      <td>1</td>\n",
       "      <td>James White</td>\n",
       "      <td>23</td>\n",
       "      <td>Flex</td>\n",
       "      <td>ACTIVE</td>\n",
       "      <td>13.946106</td>\n",
       "      <td>13.2</td>\n",
       "    </tr>\n",
       "  </tbody>\n",
       "</table>\n",
       "</div>"
      ],
      "text/plain": [
       "   Unnamed: 0  Week  Team          Player  Slot   Pos  Status       Proj  \\\n",
       "0           0     1     1  Saquon Barkley     2    RB  ACTIVE  23.115309   \n",
       "1           1     1     1    Alvin Kamara     2    RB  ACTIVE  21.168970   \n",
       "2           2     1     1     James White    23  Flex  ACTIVE  13.946106   \n",
       "\n",
       "   Actual  \n",
       "0    17.9  \n",
       "1    23.9  \n",
       "2    13.2  "
      ]
     },
     "execution_count": 3,
     "metadata": {},
     "output_type": "execute_result"
    }
   ],
   "source": [
    "df.head(3) #look at the top 3 rows of the dataset"
   ]
  },
  {
   "cell_type": "code",
   "execution_count": 4,
   "id": "necessary-contribution",
   "metadata": {},
   "outputs": [
    {
     "data": {
      "text/html": [
       "<div>\n",
       "<style scoped>\n",
       "    .dataframe tbody tr th:only-of-type {\n",
       "        vertical-align: middle;\n",
       "    }\n",
       "\n",
       "    .dataframe tbody tr th {\n",
       "        vertical-align: top;\n",
       "    }\n",
       "\n",
       "    .dataframe thead th {\n",
       "        text-align: right;\n",
       "    }\n",
       "</style>\n",
       "<table border=\"1\" class=\"dataframe\">\n",
       "  <thead>\n",
       "    <tr style=\"text-align: right;\">\n",
       "      <th></th>\n",
       "      <th>Unnamed: 0</th>\n",
       "      <th>Week</th>\n",
       "      <th>Team</th>\n",
       "      <th>Player</th>\n",
       "      <th>Slot</th>\n",
       "      <th>Pos</th>\n",
       "      <th>Status</th>\n",
       "      <th>Proj</th>\n",
       "      <th>Actual</th>\n",
       "    </tr>\n",
       "  </thead>\n",
       "  <tbody>\n",
       "    <tr>\n",
       "      <th>2574</th>\n",
       "      <td>2574</td>\n",
       "      <td>16</td>\n",
       "      <td>13</td>\n",
       "      <td>Jameis Winston</td>\n",
       "      <td>0</td>\n",
       "      <td>QB</td>\n",
       "      <td>QUESTIONABLE</td>\n",
       "      <td>19.503190</td>\n",
       "      <td>11.0</td>\n",
       "    </tr>\n",
       "    <tr>\n",
       "      <th>2575</th>\n",
       "      <td>2575</td>\n",
       "      <td>16</td>\n",
       "      <td>13</td>\n",
       "      <td>David Montgomery</td>\n",
       "      <td>20</td>\n",
       "      <td>Bench</td>\n",
       "      <td>ACTIVE</td>\n",
       "      <td>11.467978</td>\n",
       "      <td>6.9</td>\n",
       "    </tr>\n",
       "    <tr>\n",
       "      <th>2576</th>\n",
       "      <td>2576</td>\n",
       "      <td>16</td>\n",
       "      <td>13</td>\n",
       "      <td>Randall Cobb</td>\n",
       "      <td>20</td>\n",
       "      <td>Bench</td>\n",
       "      <td>ACTIVE</td>\n",
       "      <td>9.338627</td>\n",
       "      <td>12.3</td>\n",
       "    </tr>\n",
       "  </tbody>\n",
       "</table>\n",
       "</div>"
      ],
      "text/plain": [
       "      Unnamed: 0  Week  Team            Player  Slot    Pos        Status  \\\n",
       "2574        2574    16    13    Jameis Winston     0     QB  QUESTIONABLE   \n",
       "2575        2575    16    13  David Montgomery    20  Bench        ACTIVE   \n",
       "2576        2576    16    13      Randall Cobb    20  Bench        ACTIVE   \n",
       "\n",
       "           Proj  Actual  \n",
       "2574  19.503190    11.0  \n",
       "2575  11.467978     6.9  \n",
       "2576   9.338627    12.3  "
      ]
     },
     "execution_count": 4,
     "metadata": {},
     "output_type": "execute_result"
    }
   ],
   "source": [
    "df.tail(3) # look at the last 3 rows of the kicker dataset"
   ]
  },
  {
   "cell_type": "code",
   "execution_count": 5,
   "id": "blond-summit",
   "metadata": {},
   "outputs": [
    {
     "data": {
      "text/plain": [
       "['Unnamed: 0',\n",
       " 'Week',\n",
       " 'Team',\n",
       " 'Player',\n",
       " 'Slot',\n",
       " 'Pos',\n",
       " 'Status',\n",
       " 'Proj',\n",
       " 'Actual']"
      ]
     },
     "execution_count": 5,
     "metadata": {},
     "output_type": "execute_result"
    }
   ],
   "source": [
    "list(df)"
   ]
  },
  {
   "cell_type": "code",
   "execution_count": 6,
   "id": "scenic-adoption",
   "metadata": {},
   "outputs": [
    {
     "name": "stdout",
     "output_type": "stream",
     "text": [
      "0 columns have been removed from the dataset\n"
     ]
    }
   ],
   "source": [
    "new_shape = df.shape[1]\n",
    "print('{} columns have been removed from the dataset' \n",
    "      .format( \n",
    "          abs(new_shape-shape_info[1]))) "
   ]
  },
  {
   "cell_type": "code",
   "execution_count": 7,
   "id": "worthy-intelligence",
   "metadata": {},
   "outputs": [],
   "source": [
    "df = df.drop(\n",
    "['Unnamed: 0',\n",
    "], axis=1)"
   ]
  },
  {
   "cell_type": "code",
   "execution_count": 8,
   "id": "sustained-training",
   "metadata": {},
   "outputs": [
    {
     "name": "stdout",
     "output_type": "stream",
     "text": [
      "1 columns have been removed from the dataset\n"
     ]
    }
   ],
   "source": [
    "new_shape = df.shape[1]\n",
    "\n",
    "print('{} columns have been removed from the dataset' \n",
    "      .format( \n",
    "          abs(new_shape-shape_info[1]))) "
   ]
  },
  {
   "cell_type": "code",
   "execution_count": 9,
   "id": "moderate-horizon",
   "metadata": {},
   "outputs": [],
   "source": [
    "df_old_cols = list(df)\n",
    "\n",
    "df_new_cols = [x.replace(\" \", \"\").capitalize() for x in df_old_cols]"
   ]
  },
  {
   "cell_type": "code",
   "execution_count": 10,
   "id": "going-audit",
   "metadata": {},
   "outputs": [
    {
     "data": {
      "text/html": [
       "<div>\n",
       "<style scoped>\n",
       "    .dataframe tbody tr th:only-of-type {\n",
       "        vertical-align: middle;\n",
       "    }\n",
       "\n",
       "    .dataframe tbody tr th {\n",
       "        vertical-align: top;\n",
       "    }\n",
       "\n",
       "    .dataframe thead th {\n",
       "        text-align: right;\n",
       "    }\n",
       "</style>\n",
       "<table border=\"1\" class=\"dataframe\">\n",
       "  <thead>\n",
       "    <tr style=\"text-align: right;\">\n",
       "      <th></th>\n",
       "      <th>Week</th>\n",
       "      <th>Team</th>\n",
       "      <th>Player</th>\n",
       "      <th>Slot</th>\n",
       "      <th>Pos</th>\n",
       "      <th>Status</th>\n",
       "      <th>Proj</th>\n",
       "      <th>Actual</th>\n",
       "    </tr>\n",
       "  </thead>\n",
       "  <tbody>\n",
       "    <tr>\n",
       "      <th>0</th>\n",
       "      <td>1</td>\n",
       "      <td>1</td>\n",
       "      <td>Saquon Barkley</td>\n",
       "      <td>2</td>\n",
       "      <td>RB</td>\n",
       "      <td>ACTIVE</td>\n",
       "      <td>23.115309</td>\n",
       "      <td>17.9</td>\n",
       "    </tr>\n",
       "    <tr>\n",
       "      <th>1</th>\n",
       "      <td>1</td>\n",
       "      <td>1</td>\n",
       "      <td>Alvin Kamara</td>\n",
       "      <td>2</td>\n",
       "      <td>RB</td>\n",
       "      <td>ACTIVE</td>\n",
       "      <td>21.168970</td>\n",
       "      <td>23.9</td>\n",
       "    </tr>\n",
       "  </tbody>\n",
       "</table>\n",
       "</div>"
      ],
      "text/plain": [
       "   Week  Team          Player  Slot Pos  Status       Proj  Actual\n",
       "0     1     1  Saquon Barkley     2  RB  ACTIVE  23.115309    17.9\n",
       "1     1     1    Alvin Kamara     2  RB  ACTIVE  21.168970    23.9"
      ]
     },
     "execution_count": 10,
     "metadata": {},
     "output_type": "execute_result"
    }
   ],
   "source": [
    "df.columns = df_new_cols\n",
    "df.head(2)"
   ]
  },
  {
   "cell_type": "code",
   "execution_count": 11,
   "id": "external-format",
   "metadata": {},
   "outputs": [
    {
     "data": {
      "text/plain": [
       "<AxesSubplot:>"
      ]
     },
     "execution_count": 11,
     "metadata": {},
     "output_type": "execute_result"
    },
    {
     "data": {
      "image/png": "[encoded data removed]",
      "text/plain": [
       "<Figure size 1800x720 with 2 Axes>"
      ]
     },
     "metadata": {
      "needs_background": "light"
     },
     "output_type": "display_data"
    }
   ],
   "source": [
    "msno.matrix(df)"
   ]
  },
  {
   "cell_type": "code",
   "execution_count": 12,
   "id": "aggregate-finnish",
   "metadata": {},
   "outputs": [
    {
     "data": {
      "text/html": [
       "<div>\n",
       "<style scoped>\n",
       "    .dataframe tbody tr th:only-of-type {\n",
       "        vertical-align: middle;\n",
       "    }\n",
       "\n",
       "    .dataframe tbody tr th {\n",
       "        vertical-align: top;\n",
       "    }\n",
       "\n",
       "    .dataframe thead th {\n",
       "        text-align: right;\n",
       "    }\n",
       "</style>\n",
       "<table border=\"1\" class=\"dataframe\">\n",
       "  <thead>\n",
       "    <tr style=\"text-align: right;\">\n",
       "      <th></th>\n",
       "      <th>Week</th>\n",
       "      <th>Team</th>\n",
       "      <th>Player</th>\n",
       "      <th>Slot</th>\n",
       "      <th>Pos</th>\n",
       "      <th>Status</th>\n",
       "      <th>Proj</th>\n",
       "      <th>Actual</th>\n",
       "    </tr>\n",
       "  </thead>\n",
       "  <tbody>\n",
       "    <tr>\n",
       "      <th>434</th>\n",
       "      <td>3</td>\n",
       "      <td>10</td>\n",
       "      <td>Antonio Brown</td>\n",
       "      <td>20</td>\n",
       "      <td>Bench</td>\n",
       "      <td>ACTIVE</td>\n",
       "      <td>0.0</td>\n",
       "      <td>NaN</td>\n",
       "    </tr>\n",
       "    <tr>\n",
       "      <th>503</th>\n",
       "      <td>4</td>\n",
       "      <td>2</td>\n",
       "      <td>Jamison Crowder</td>\n",
       "      <td>20</td>\n",
       "      <td>Bench</td>\n",
       "      <td>ACTIVE</td>\n",
       "      <td>0.0</td>\n",
       "      <td>NaN</td>\n",
       "    </tr>\n",
       "    <tr>\n",
       "      <th>505</th>\n",
       "      <td>4</td>\n",
       "      <td>2</td>\n",
       "      <td>Dante Pettis</td>\n",
       "      <td>20</td>\n",
       "      <td>Bench</td>\n",
       "      <td>ACTIVE</td>\n",
       "      <td>0.0</td>\n",
       "      <td>NaN</td>\n",
       "    </tr>\n",
       "    <tr>\n",
       "      <th>512</th>\n",
       "      <td>4</td>\n",
       "      <td>3</td>\n",
       "      <td>Robby Anderson</td>\n",
       "      <td>20</td>\n",
       "      <td>Bench</td>\n",
       "      <td>ACTIVE</td>\n",
       "      <td>0.0</td>\n",
       "      <td>NaN</td>\n",
       "    </tr>\n",
       "    <tr>\n",
       "      <th>533</th>\n",
       "      <td>4</td>\n",
       "      <td>5</td>\n",
       "      <td>Chris Herndon</td>\n",
       "      <td>20</td>\n",
       "      <td>Bench</td>\n",
       "      <td>QUESTIONABLE</td>\n",
       "      <td>0.0</td>\n",
       "      <td>NaN</td>\n",
       "    </tr>\n",
       "    <tr>\n",
       "      <th>...</th>\n",
       "      <td>...</td>\n",
       "      <td>...</td>\n",
       "      <td>...</td>\n",
       "      <td>...</td>\n",
       "      <td>...</td>\n",
       "      <td>...</td>\n",
       "      <td>...</td>\n",
       "      <td>...</td>\n",
       "    </tr>\n",
       "    <tr>\n",
       "      <th>1906</th>\n",
       "      <td>12</td>\n",
       "      <td>12</td>\n",
       "      <td>Dalvin Cook</td>\n",
       "      <td>20</td>\n",
       "      <td>Bench</td>\n",
       "      <td>ACTIVE</td>\n",
       "      <td>0.0</td>\n",
       "      <td>NaN</td>\n",
       "    </tr>\n",
       "    <tr>\n",
       "      <th>1910</th>\n",
       "      <td>12</td>\n",
       "      <td>12</td>\n",
       "      <td>Christian Kirk</td>\n",
       "      <td>20</td>\n",
       "      <td>Bench</td>\n",
       "      <td>ACTIVE</td>\n",
       "      <td>0.0</td>\n",
       "      <td>NaN</td>\n",
       "    </tr>\n",
       "    <tr>\n",
       "      <th>1926</th>\n",
       "      <td>12</td>\n",
       "      <td>13</td>\n",
       "      <td>LeSean McCoy</td>\n",
       "      <td>20</td>\n",
       "      <td>Bench</td>\n",
       "      <td>ACTIVE</td>\n",
       "      <td>0.0</td>\n",
       "      <td>NaN</td>\n",
       "    </tr>\n",
       "    <tr>\n",
       "      <th>1927</th>\n",
       "      <td>12</td>\n",
       "      <td>13</td>\n",
       "      <td>Austin Ekeler</td>\n",
       "      <td>20</td>\n",
       "      <td>Bench</td>\n",
       "      <td>ACTIVE</td>\n",
       "      <td>0.0</td>\n",
       "      <td>NaN</td>\n",
       "    </tr>\n",
       "    <tr>\n",
       "      <th>2013</th>\n",
       "      <td>13</td>\n",
       "      <td>7</td>\n",
       "      <td>Antonio Brown</td>\n",
       "      <td>20</td>\n",
       "      <td>Bench</td>\n",
       "      <td>ACTIVE</td>\n",
       "      <td>0.0</td>\n",
       "      <td>NaN</td>\n",
       "    </tr>\n",
       "  </tbody>\n",
       "</table>\n",
       "<p>154 rows × 8 columns</p>\n",
       "</div>"
      ],
      "text/plain": [
       "      Week  Team           Player  Slot    Pos        Status  Proj  Actual\n",
       "434      3    10    Antonio Brown    20  Bench        ACTIVE   0.0     NaN\n",
       "503      4     2  Jamison Crowder    20  Bench        ACTIVE   0.0     NaN\n",
       "505      4     2     Dante Pettis    20  Bench        ACTIVE   0.0     NaN\n",
       "512      4     3   Robby Anderson    20  Bench        ACTIVE   0.0     NaN\n",
       "533      4     5    Chris Herndon    20  Bench  QUESTIONABLE   0.0     NaN\n",
       "...    ...   ...              ...   ...    ...           ...   ...     ...\n",
       "1906    12    12      Dalvin Cook    20  Bench        ACTIVE   0.0     NaN\n",
       "1910    12    12   Christian Kirk    20  Bench        ACTIVE   0.0     NaN\n",
       "1926    12    13     LeSean McCoy    20  Bench        ACTIVE   0.0     NaN\n",
       "1927    12    13    Austin Ekeler    20  Bench        ACTIVE   0.0     NaN\n",
       "2013    13     7    Antonio Brown    20  Bench        ACTIVE   0.0     NaN\n",
       "\n",
       "[154 rows x 8 columns]"
      ]
     },
     "execution_count": 12,
     "metadata": {},
     "output_type": "execute_result"
    }
   ],
   "source": [
    "df[df['Actual'].isna()]"
   ]
  },
  {
   "cell_type": "code",
   "execution_count": 13,
   "id": "correct-poland",
   "metadata": {},
   "outputs": [],
   "source": [
    "df = df.fillna(0)"
   ]
  },
  {
   "cell_type": "code",
   "execution_count": 19,
   "id": "confirmed-steps",
   "metadata": {},
   "outputs": [
    {
     "data": {
      "text/plain": [
       "False"
      ]
     },
     "execution_count": 19,
     "metadata": {},
     "output_type": "execute_result"
    }
   ],
   "source": [
    "df.isnull().values.any()"
   ]
  },
  {
   "cell_type": "code",
   "execution_count": 18,
   "id": "flush-johnson",
   "metadata": {},
   "outputs": [],
   "source": [
    "df.to_csv('C:/Users/Yaphet Tewahade/Cloudy-with-a-Chance-of-Football/fixtures/raw_data/fantasyfootballdatapros_cleaned.csv')"
   ]
  },
  {
   "cell_type": "code",
   "execution_count": null,
   "id": "useful-budapest",
   "metadata": {},
   "outputs": [],
   "source": []
  }
 ],
 "metadata": {
  "kernelspec": {
   "display_name": "Python 3",
   "language": "python",
   "name": "python3"
  },
  "language_info": {
   "codemirror_mode": {
    "name": "ipython",
    "version": 3
   },
   "file_extension": ".py",
   "mimetype": "text/x-python",
   "name": "python",
   "nbconvert_exporter": "python",
   "pygments_lexer": "ipython3",
   "version": "3.8.8"
  }
 },
 "nbformat": 4,
 "nbformat_minor": 5
}
