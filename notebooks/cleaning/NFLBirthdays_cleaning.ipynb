{
 "cells": [
  {
   "cell_type": "code",
   "execution_count": 1,
   "metadata": {},
   "outputs": [],
   "source": [
    "import pandas as pd\n",
    "import missingno as msno\n",
    "from datetime import datetime, date"
   ]
  },
  {
   "cell_type": "code",
   "execution_count": 2,
   "metadata": {
    "scrolled": true
   },
   "outputs": [],
   "source": [
    "# bring in the kickers dataset as a pandas dataframe\n",
    "df = pd.read_csv(r\"C:\\Users\\griff\\Cloudy-with-a-Chance-of-Football\\fixtures\\raw_data\\NFLBirthdays.csv\")"
   ]
  },
  {
   "cell_type": "code",
   "execution_count": 3,
   "metadata": {},
   "outputs": [
    {
     "name": "stdout",
     "output_type": "stream",
     "text": [
      "            player position team    birthday\n",
      "0    Derrick Henry       RB  TEN  1994-01-04\n",
      "1     Alvin Kamara       RB   NO  1995-07-25\n",
      "2    Davante Adams       WR   GB  1992-12-24\n",
      "3      Dalvin Cook       RB  MIN  1995-08-10\n",
      "4      Tyreek Hill       WR   KC  1994-03-01\n",
      "..             ...      ...  ...         ...\n",
      "545  Justin Watson       WR   TB  1996-04-04\n",
      "546       Ian Book       QB   FA  1998-03-30\n",
      "547   Theo Riddick       RB   LV  1991-05-04\n",
      "548   Nick Mullens       QB   FA  1995-03-21\n",
      "549     Jake Fromm       QB  BUF  1998-07-30\n",
      "\n",
      "[550 rows x 4 columns]\n"
     ]
    }
   ],
   "source": [
    "print(df)"
   ]
  },
  {
   "cell_type": "code",
   "execution_count": 4,
   "metadata": {},
   "outputs": [
    {
     "name": "stdout",
     "output_type": "stream",
     "text": [
      "This dataset contains 550 active player birth dates  based on data from 4 columns\n"
     ]
    }
   ],
   "source": [
    "# see how many rows and columns are in this dataset\n",
    "shape_info = df.shape \n",
    "print('This dataset contains {} active player birth dates  based on data from {} columns' \n",
    "      .format(shape_info[0], \n",
    "              shape_info[1]))"
   ]
  },
  {
   "cell_type": "code",
   "execution_count": 5,
   "metadata": {},
   "outputs": [
    {
     "data": {
      "text/html": [
       "<div>\n",
       "<style scoped>\n",
       "    .dataframe tbody tr th:only-of-type {\n",
       "        vertical-align: middle;\n",
       "    }\n",
       "\n",
       "    .dataframe tbody tr th {\n",
       "        vertical-align: top;\n",
       "    }\n",
       "\n",
       "    .dataframe thead th {\n",
       "        text-align: right;\n",
       "    }\n",
       "</style>\n",
       "<table border=\"1\" class=\"dataframe\">\n",
       "  <thead>\n",
       "    <tr style=\"text-align: right;\">\n",
       "      <th></th>\n",
       "      <th>player</th>\n",
       "      <th>position</th>\n",
       "      <th>team</th>\n",
       "      <th>birthday</th>\n",
       "    </tr>\n",
       "  </thead>\n",
       "  <tbody>\n",
       "    <tr>\n",
       "      <th>0</th>\n",
       "      <td>Derrick Henry</td>\n",
       "      <td>RB</td>\n",
       "      <td>TEN</td>\n",
       "      <td>1994-01-04</td>\n",
       "    </tr>\n",
       "    <tr>\n",
       "      <th>1</th>\n",
       "      <td>Alvin Kamara</td>\n",
       "      <td>RB</td>\n",
       "      <td>NO</td>\n",
       "      <td>1995-07-25</td>\n",
       "    </tr>\n",
       "    <tr>\n",
       "      <th>2</th>\n",
       "      <td>Davante Adams</td>\n",
       "      <td>WR</td>\n",
       "      <td>GB</td>\n",
       "      <td>1992-12-24</td>\n",
       "    </tr>\n",
       "    <tr>\n",
       "      <th>3</th>\n",
       "      <td>Dalvin Cook</td>\n",
       "      <td>RB</td>\n",
       "      <td>MIN</td>\n",
       "      <td>1995-08-10</td>\n",
       "    </tr>\n",
       "    <tr>\n",
       "      <th>4</th>\n",
       "      <td>Tyreek Hill</td>\n",
       "      <td>WR</td>\n",
       "      <td>KC</td>\n",
       "      <td>1994-03-01</td>\n",
       "    </tr>\n",
       "  </tbody>\n",
       "</table>\n",
       "</div>"
      ],
      "text/plain": [
       "          player position team    birthday\n",
       "0  Derrick Henry       RB  TEN  1994-01-04\n",
       "1   Alvin Kamara       RB   NO  1995-07-25\n",
       "2  Davante Adams       WR   GB  1992-12-24\n",
       "3    Dalvin Cook       RB  MIN  1995-08-10\n",
       "4    Tyreek Hill       WR   KC  1994-03-01"
      ]
     },
     "execution_count": 5,
     "metadata": {},
     "output_type": "execute_result"
    }
   ],
   "source": [
    "# look at first 5 rows of data\n",
    "df.head()"
   ]
  },
  {
   "cell_type": "code",
   "execution_count": 6,
   "metadata": {},
   "outputs": [
    {
     "data": {
      "text/html": [
       "<div>\n",
       "<style scoped>\n",
       "    .dataframe tbody tr th:only-of-type {\n",
       "        vertical-align: middle;\n",
       "    }\n",
       "\n",
       "    .dataframe tbody tr th {\n",
       "        vertical-align: top;\n",
       "    }\n",
       "\n",
       "    .dataframe thead th {\n",
       "        text-align: right;\n",
       "    }\n",
       "</style>\n",
       "<table border=\"1\" class=\"dataframe\">\n",
       "  <thead>\n",
       "    <tr style=\"text-align: right;\">\n",
       "      <th></th>\n",
       "      <th>player</th>\n",
       "      <th>position</th>\n",
       "      <th>team</th>\n",
       "      <th>birthday</th>\n",
       "    </tr>\n",
       "  </thead>\n",
       "  <tbody>\n",
       "    <tr>\n",
       "      <th>545</th>\n",
       "      <td>Justin Watson</td>\n",
       "      <td>WR</td>\n",
       "      <td>TB</td>\n",
       "      <td>1996-04-04</td>\n",
       "    </tr>\n",
       "    <tr>\n",
       "      <th>546</th>\n",
       "      <td>Ian Book</td>\n",
       "      <td>QB</td>\n",
       "      <td>FA</td>\n",
       "      <td>1998-03-30</td>\n",
       "    </tr>\n",
       "    <tr>\n",
       "      <th>547</th>\n",
       "      <td>Theo Riddick</td>\n",
       "      <td>RB</td>\n",
       "      <td>LV</td>\n",
       "      <td>1991-05-04</td>\n",
       "    </tr>\n",
       "    <tr>\n",
       "      <th>548</th>\n",
       "      <td>Nick Mullens</td>\n",
       "      <td>QB</td>\n",
       "      <td>FA</td>\n",
       "      <td>1995-03-21</td>\n",
       "    </tr>\n",
       "    <tr>\n",
       "      <th>549</th>\n",
       "      <td>Jake Fromm</td>\n",
       "      <td>QB</td>\n",
       "      <td>BUF</td>\n",
       "      <td>1998-07-30</td>\n",
       "    </tr>\n",
       "  </tbody>\n",
       "</table>\n",
       "</div>"
      ],
      "text/plain": [
       "            player position team    birthday\n",
       "545  Justin Watson       WR   TB  1996-04-04\n",
       "546       Ian Book       QB   FA  1998-03-30\n",
       "547   Theo Riddick       RB   LV  1991-05-04\n",
       "548   Nick Mullens       QB   FA  1995-03-21\n",
       "549     Jake Fromm       QB  BUF  1998-07-30"
      ]
     },
     "execution_count": 6,
     "metadata": {},
     "output_type": "execute_result"
    }
   ],
   "source": [
    "# look at last 5 rows of data\n",
    "df.tail()"
   ]
  },
  {
   "cell_type": "code",
   "execution_count": 7,
   "metadata": {},
   "outputs": [
    {
     "data": {
      "text/plain": [
       "['player', 'position', 'team', 'birthday']"
      ]
     },
     "execution_count": 7,
     "metadata": {},
     "output_type": "execute_result"
    }
   ],
   "source": [
    "# see list of all columns\n",
    "list(df)"
   ]
  },
  {
   "cell_type": "code",
   "execution_count": 8,
   "metadata": {},
   "outputs": [
    {
     "data": {
      "text/plain": [
       "<AxesSubplot:>"
      ]
     },
     "execution_count": 8,
     "metadata": {},
     "output_type": "execute_result"
    },
    {
     "data": {
      "image/png": "[encoded data removed]",
      "text/plain": [
       "<Figure size 1800x720 with 2 Axes>"
      ]
     },
     "metadata": {
      "needs_background": "light"
     },
     "output_type": "display_data"
    }
   ],
   "source": [
    "# identify any missing values\n",
    "msno.matrix(df)"
   ]
  },
  {
   "cell_type": "code",
   "execution_count": 9,
   "metadata": {},
   "outputs": [
    {
     "data": {
      "text/html": [
       "<div>\n",
       "<style scoped>\n",
       "    .dataframe tbody tr th:only-of-type {\n",
       "        vertical-align: middle;\n",
       "    }\n",
       "\n",
       "    .dataframe tbody tr th {\n",
       "        vertical-align: top;\n",
       "    }\n",
       "\n",
       "    .dataframe thead th {\n",
       "        text-align: right;\n",
       "    }\n",
       "</style>\n",
       "<table border=\"1\" class=\"dataframe\">\n",
       "  <thead>\n",
       "    <tr style=\"text-align: right;\">\n",
       "      <th></th>\n",
       "      <th>player</th>\n",
       "      <th>position</th>\n",
       "      <th>team</th>\n",
       "      <th>birthday</th>\n",
       "    </tr>\n",
       "  </thead>\n",
       "  <tbody>\n",
       "    <tr>\n",
       "      <th>439</th>\n",
       "      <td>Seth Williams</td>\n",
       "      <td>WR</td>\n",
       "      <td>FA</td>\n",
       "      <td>NaN</td>\n",
       "    </tr>\n",
       "    <tr>\n",
       "      <th>443</th>\n",
       "      <td>Elijah Mitchell</td>\n",
       "      <td>RB</td>\n",
       "      <td>FA</td>\n",
       "      <td>NaN</td>\n",
       "    </tr>\n",
       "    <tr>\n",
       "      <th>447</th>\n",
       "      <td>Khalil Herbert</td>\n",
       "      <td>RB</td>\n",
       "      <td>FA</td>\n",
       "      <td>NaN</td>\n",
       "    </tr>\n",
       "    <tr>\n",
       "      <th>451</th>\n",
       "      <td>Marquez Stevenson</td>\n",
       "      <td>WR</td>\n",
       "      <td>FA</td>\n",
       "      <td>NaN</td>\n",
       "    </tr>\n",
       "    <tr>\n",
       "      <th>456</th>\n",
       "      <td>Larry Rountree III</td>\n",
       "      <td>RB</td>\n",
       "      <td>FA</td>\n",
       "      <td>NaN</td>\n",
       "    </tr>\n",
       "    <tr>\n",
       "      <th>461</th>\n",
       "      <td>Javian Hawkins</td>\n",
       "      <td>RB</td>\n",
       "      <td>FA</td>\n",
       "      <td>NaN</td>\n",
       "    </tr>\n",
       "    <tr>\n",
       "      <th>465</th>\n",
       "      <td>Marlon Williams</td>\n",
       "      <td>WR</td>\n",
       "      <td>FA</td>\n",
       "      <td>NaN</td>\n",
       "    </tr>\n",
       "    <tr>\n",
       "      <th>466</th>\n",
       "      <td>Hunter Long</td>\n",
       "      <td>TE</td>\n",
       "      <td>FA</td>\n",
       "      <td>NaN</td>\n",
       "    </tr>\n",
       "    <tr>\n",
       "      <th>468</th>\n",
       "      <td>Jaelon Darden</td>\n",
       "      <td>WR</td>\n",
       "      <td>FA</td>\n",
       "      <td>NaN</td>\n",
       "    </tr>\n",
       "    <tr>\n",
       "      <th>469</th>\n",
       "      <td>Rakeem Boyd</td>\n",
       "      <td>RB</td>\n",
       "      <td>FA</td>\n",
       "      <td>NaN</td>\n",
       "    </tr>\n",
       "    <tr>\n",
       "      <th>473</th>\n",
       "      <td>Cade Johnson</td>\n",
       "      <td>WR</td>\n",
       "      <td>FA</td>\n",
       "      <td>NaN</td>\n",
       "    </tr>\n",
       "    <tr>\n",
       "      <th>475</th>\n",
       "      <td>Trevon Grimes</td>\n",
       "      <td>WR</td>\n",
       "      <td>FA</td>\n",
       "      <td>NaN</td>\n",
       "    </tr>\n",
       "    <tr>\n",
       "      <th>485</th>\n",
       "      <td>Warren Jackson</td>\n",
       "      <td>WR</td>\n",
       "      <td>FA</td>\n",
       "      <td>NaN</td>\n",
       "    </tr>\n",
       "    <tr>\n",
       "      <th>487</th>\n",
       "      <td>Michael Carter</td>\n",
       "      <td>TE</td>\n",
       "      <td>FA</td>\n",
       "      <td>NaN</td>\n",
       "    </tr>\n",
       "    <tr>\n",
       "      <th>494</th>\n",
       "      <td>Pooka Williams</td>\n",
       "      <td>RB</td>\n",
       "      <td>FA</td>\n",
       "      <td>NaN</td>\n",
       "    </tr>\n",
       "    <tr>\n",
       "      <th>526</th>\n",
       "      <td>Damonte Coxie</td>\n",
       "      <td>WR</td>\n",
       "      <td>FA</td>\n",
       "      <td>NaN</td>\n",
       "    </tr>\n",
       "    <tr>\n",
       "      <th>535</th>\n",
       "      <td>Stevie Scott III</td>\n",
       "      <td>RB</td>\n",
       "      <td>FA</td>\n",
       "      <td>NaN</td>\n",
       "    </tr>\n",
       "    <tr>\n",
       "      <th>539</th>\n",
       "      <td>Kylen Granson</td>\n",
       "      <td>TE</td>\n",
       "      <td>FA</td>\n",
       "      <td>NaN</td>\n",
       "    </tr>\n",
       "    <tr>\n",
       "      <th>541</th>\n",
       "      <td>Frank Darby</td>\n",
       "      <td>WR</td>\n",
       "      <td>FA</td>\n",
       "      <td>NaN</td>\n",
       "    </tr>\n",
       "  </tbody>\n",
       "</table>\n",
       "</div>"
      ],
      "text/plain": [
       "                 player position team birthday\n",
       "439       Seth Williams       WR   FA      NaN\n",
       "443     Elijah Mitchell       RB   FA      NaN\n",
       "447      Khalil Herbert       RB   FA      NaN\n",
       "451   Marquez Stevenson       WR   FA      NaN\n",
       "456  Larry Rountree III       RB   FA      NaN\n",
       "461      Javian Hawkins       RB   FA      NaN\n",
       "465     Marlon Williams       WR   FA      NaN\n",
       "466         Hunter Long       TE   FA      NaN\n",
       "468       Jaelon Darden       WR   FA      NaN\n",
       "469         Rakeem Boyd       RB   FA      NaN\n",
       "473        Cade Johnson       WR   FA      NaN\n",
       "475       Trevon Grimes       WR   FA      NaN\n",
       "485      Warren Jackson       WR   FA      NaN\n",
       "487      Michael Carter       TE   FA      NaN\n",
       "494      Pooka Williams       RB   FA      NaN\n",
       "526       Damonte Coxie       WR   FA      NaN\n",
       "535    Stevie Scott III       RB   FA      NaN\n",
       "539       Kylen Granson       TE   FA      NaN\n",
       "541         Frank Darby       WR   FA      NaN"
      ]
     },
     "execution_count": 9,
     "metadata": {},
     "output_type": "execute_result"
    }
   ],
   "source": [
    "# show rows where birthday column is NaN\n",
    "pd.set_option('display.max_columns', None)\n",
    "df[df['birthday'].isna()] "
   ]
  },
  {
   "cell_type": "code",
   "execution_count": 10,
   "metadata": {},
   "outputs": [],
   "source": [
    "# create a new dataframe that only includes rows where birthday column is not NaN\n",
    "df = df[df['birthday'].notna()]"
   ]
  },
  {
   "cell_type": "code",
   "execution_count": 11,
   "metadata": {},
   "outputs": [
    {
     "data": {
      "text/plain": [
       "<AxesSubplot:>"
      ]
     },
     "execution_count": 11,
     "metadata": {},
     "output_type": "execute_result"
    },
    {
     "data": {
      "image/png": "[encoded data removed]",
      "text/plain": [
       "<Figure size 1800x720 with 2 Axes>"
      ]
     },
     "metadata": {
      "needs_background": "light"
     },
     "output_type": "display_data"
    }
   ],
   "source": [
    "# confirm new dataframe does not contain any missing values\n",
    "msno.matrix(df)"
   ]
  },
  {
   "cell_type": "code",
   "execution_count": 12,
   "metadata": {},
   "outputs": [
    {
     "name": "stdout",
     "output_type": "stream",
     "text": [
      "This dataset contains 531 active player birth dates  based on data from 4 columns\n"
     ]
    }
   ],
   "source": [
    "# review how many rows and columns after removing missing values\n",
    "shape_info = df.shape \n",
    "print('This dataset contains {} active player birth dates  based on data from {} columns' \n",
    "      .format(shape_info[0], \n",
    "              shape_info[1]))"
   ]
  },
  {
   "cell_type": "code",
   "execution_count": null,
   "metadata": {},
   "outputs": [],
   "source": []
  },
  {
   "cell_type": "code",
   "execution_count": 13,
   "metadata": {},
   "outputs": [],
   "source": [
    "# create a new column named birthyear which pulls the first 4 characters from birthday column\n",
    "df['birthyear'] = [x[:4] for x in df['birthday']]"
   ]
  },
  {
   "cell_type": "code",
   "execution_count": 14,
   "metadata": {},
   "outputs": [
    {
     "name": "stdout",
     "output_type": "stream",
     "text": [
      "            player position team    birthday birthyear\n",
      "0    Derrick Henry       RB  TEN  1994-01-04      1994\n",
      "1     Alvin Kamara       RB   NO  1995-07-25      1995\n",
      "2    Davante Adams       WR   GB  1992-12-24      1992\n",
      "3      Dalvin Cook       RB  MIN  1995-08-10      1995\n",
      "4      Tyreek Hill       WR   KC  1994-03-01      1994\n",
      "..             ...      ...  ...         ...       ...\n",
      "545  Justin Watson       WR   TB  1996-04-04      1996\n",
      "546       Ian Book       QB   FA  1998-03-30      1998\n",
      "547   Theo Riddick       RB   LV  1991-05-04      1991\n",
      "548   Nick Mullens       QB   FA  1995-03-21      1995\n",
      "549     Jake Fromm       QB  BUF  1998-07-30      1998\n",
      "\n",
      "[531 rows x 5 columns]\n"
     ]
    }
   ],
   "source": [
    "print(df)"
   ]
  },
  {
   "cell_type": "code",
   "execution_count": 15,
   "metadata": {},
   "outputs": [],
   "source": [
    "# create a new column named birthmonth which pulls 5:7 characters from birthday column\n",
    "df['birthmonth'] = [x[5:7] for x in df['birthday']]"
   ]
  },
  {
   "cell_type": "code",
   "execution_count": 16,
   "metadata": {},
   "outputs": [
    {
     "data": {
      "text/html": [
       "<div>\n",
       "<style scoped>\n",
       "    .dataframe tbody tr th:only-of-type {\n",
       "        vertical-align: middle;\n",
       "    }\n",
       "\n",
       "    .dataframe tbody tr th {\n",
       "        vertical-align: top;\n",
       "    }\n",
       "\n",
       "    .dataframe thead th {\n",
       "        text-align: right;\n",
       "    }\n",
       "</style>\n",
       "<table border=\"1\" class=\"dataframe\">\n",
       "  <thead>\n",
       "    <tr style=\"text-align: right;\">\n",
       "      <th></th>\n",
       "      <th>player</th>\n",
       "      <th>position</th>\n",
       "      <th>team</th>\n",
       "      <th>birthday</th>\n",
       "      <th>birthyear</th>\n",
       "      <th>birthmonth</th>\n",
       "    </tr>\n",
       "  </thead>\n",
       "  <tbody>\n",
       "    <tr>\n",
       "      <th>0</th>\n",
       "      <td>Derrick Henry</td>\n",
       "      <td>RB</td>\n",
       "      <td>TEN</td>\n",
       "      <td>1994-01-04</td>\n",
       "      <td>1994</td>\n",
       "      <td>01</td>\n",
       "    </tr>\n",
       "    <tr>\n",
       "      <th>1</th>\n",
       "      <td>Alvin Kamara</td>\n",
       "      <td>RB</td>\n",
       "      <td>NO</td>\n",
       "      <td>1995-07-25</td>\n",
       "      <td>1995</td>\n",
       "      <td>07</td>\n",
       "    </tr>\n",
       "    <tr>\n",
       "      <th>2</th>\n",
       "      <td>Davante Adams</td>\n",
       "      <td>WR</td>\n",
       "      <td>GB</td>\n",
       "      <td>1992-12-24</td>\n",
       "      <td>1992</td>\n",
       "      <td>12</td>\n",
       "    </tr>\n",
       "  </tbody>\n",
       "</table>\n",
       "</div>"
      ],
      "text/plain": [
       "          player position team    birthday birthyear birthmonth\n",
       "0  Derrick Henry       RB  TEN  1994-01-04      1994         01\n",
       "1   Alvin Kamara       RB   NO  1995-07-25      1995         07\n",
       "2  Davante Adams       WR   GB  1992-12-24      1992         12"
      ]
     },
     "execution_count": 16,
     "metadata": {},
     "output_type": "execute_result"
    }
   ],
   "source": [
    "df.head(3)"
   ]
  },
  {
   "cell_type": "code",
   "execution_count": 17,
   "metadata": {},
   "outputs": [],
   "source": [
    "# Rename birthday column to birthdate\n",
    "df.rename(columns={'birthday': 'birthdate'}, inplace=True)"
   ]
  },
  {
   "cell_type": "code",
   "execution_count": 18,
   "metadata": {},
   "outputs": [
    {
     "data": {
      "text/html": [
       "<div>\n",
       "<style scoped>\n",
       "    .dataframe tbody tr th:only-of-type {\n",
       "        vertical-align: middle;\n",
       "    }\n",
       "\n",
       "    .dataframe tbody tr th {\n",
       "        vertical-align: top;\n",
       "    }\n",
       "\n",
       "    .dataframe thead th {\n",
       "        text-align: right;\n",
       "    }\n",
       "</style>\n",
       "<table border=\"1\" class=\"dataframe\">\n",
       "  <thead>\n",
       "    <tr style=\"text-align: right;\">\n",
       "      <th></th>\n",
       "      <th>player</th>\n",
       "      <th>position</th>\n",
       "      <th>team</th>\n",
       "      <th>birthdate</th>\n",
       "      <th>birthyear</th>\n",
       "      <th>birthmonth</th>\n",
       "    </tr>\n",
       "  </thead>\n",
       "  <tbody>\n",
       "    <tr>\n",
       "      <th>0</th>\n",
       "      <td>Derrick Henry</td>\n",
       "      <td>RB</td>\n",
       "      <td>TEN</td>\n",
       "      <td>1994-01-04</td>\n",
       "      <td>1994</td>\n",
       "      <td>01</td>\n",
       "    </tr>\n",
       "    <tr>\n",
       "      <th>1</th>\n",
       "      <td>Alvin Kamara</td>\n",
       "      <td>RB</td>\n",
       "      <td>NO</td>\n",
       "      <td>1995-07-25</td>\n",
       "      <td>1995</td>\n",
       "      <td>07</td>\n",
       "    </tr>\n",
       "    <tr>\n",
       "      <th>2</th>\n",
       "      <td>Davante Adams</td>\n",
       "      <td>WR</td>\n",
       "      <td>GB</td>\n",
       "      <td>1992-12-24</td>\n",
       "      <td>1992</td>\n",
       "      <td>12</td>\n",
       "    </tr>\n",
       "    <tr>\n",
       "      <th>3</th>\n",
       "      <td>Dalvin Cook</td>\n",
       "      <td>RB</td>\n",
       "      <td>MIN</td>\n",
       "      <td>1995-08-10</td>\n",
       "      <td>1995</td>\n",
       "      <td>08</td>\n",
       "    </tr>\n",
       "    <tr>\n",
       "      <th>4</th>\n",
       "      <td>Tyreek Hill</td>\n",
       "      <td>WR</td>\n",
       "      <td>KC</td>\n",
       "      <td>1994-03-01</td>\n",
       "      <td>1994</td>\n",
       "      <td>03</td>\n",
       "    </tr>\n",
       "  </tbody>\n",
       "</table>\n",
       "</div>"
      ],
      "text/plain": [
       "          player position team   birthdate birthyear birthmonth\n",
       "0  Derrick Henry       RB  TEN  1994-01-04      1994         01\n",
       "1   Alvin Kamara       RB   NO  1995-07-25      1995         07\n",
       "2  Davante Adams       WR   GB  1992-12-24      1992         12\n",
       "3    Dalvin Cook       RB  MIN  1995-08-10      1995         08\n",
       "4    Tyreek Hill       WR   KC  1994-03-01      1994         03"
      ]
     },
     "execution_count": 18,
     "metadata": {},
     "output_type": "execute_result"
    }
   ],
   "source": [
    "df.head()"
   ]
  },
  {
   "cell_type": "code",
   "execution_count": 19,
   "metadata": {},
   "outputs": [],
   "source": [
    "# create a new column named birthday which pulls 8:10 characters from newly named birthdate column\n",
    "df['birthday'] = [x[8:10] for x in df['birthdate']]"
   ]
  },
  {
   "cell_type": "code",
   "execution_count": 20,
   "metadata": {},
   "outputs": [
    {
     "data": {
      "text/html": [
       "<div>\n",
       "<style scoped>\n",
       "    .dataframe tbody tr th:only-of-type {\n",
       "        vertical-align: middle;\n",
       "    }\n",
       "\n",
       "    .dataframe tbody tr th {\n",
       "        vertical-align: top;\n",
       "    }\n",
       "\n",
       "    .dataframe thead th {\n",
       "        text-align: right;\n",
       "    }\n",
       "</style>\n",
       "<table border=\"1\" class=\"dataframe\">\n",
       "  <thead>\n",
       "    <tr style=\"text-align: right;\">\n",
       "      <th></th>\n",
       "      <th>player</th>\n",
       "      <th>position</th>\n",
       "      <th>team</th>\n",
       "      <th>birthdate</th>\n",
       "      <th>birthyear</th>\n",
       "      <th>birthmonth</th>\n",
       "      <th>birthday</th>\n",
       "    </tr>\n",
       "  </thead>\n",
       "  <tbody>\n",
       "    <tr>\n",
       "      <th>0</th>\n",
       "      <td>Derrick Henry</td>\n",
       "      <td>RB</td>\n",
       "      <td>TEN</td>\n",
       "      <td>1994-01-04</td>\n",
       "      <td>1994</td>\n",
       "      <td>01</td>\n",
       "      <td>04</td>\n",
       "    </tr>\n",
       "    <tr>\n",
       "      <th>1</th>\n",
       "      <td>Alvin Kamara</td>\n",
       "      <td>RB</td>\n",
       "      <td>NO</td>\n",
       "      <td>1995-07-25</td>\n",
       "      <td>1995</td>\n",
       "      <td>07</td>\n",
       "      <td>25</td>\n",
       "    </tr>\n",
       "    <tr>\n",
       "      <th>2</th>\n",
       "      <td>Davante Adams</td>\n",
       "      <td>WR</td>\n",
       "      <td>GB</td>\n",
       "      <td>1992-12-24</td>\n",
       "      <td>1992</td>\n",
       "      <td>12</td>\n",
       "      <td>24</td>\n",
       "    </tr>\n",
       "    <tr>\n",
       "      <th>3</th>\n",
       "      <td>Dalvin Cook</td>\n",
       "      <td>RB</td>\n",
       "      <td>MIN</td>\n",
       "      <td>1995-08-10</td>\n",
       "      <td>1995</td>\n",
       "      <td>08</td>\n",
       "      <td>10</td>\n",
       "    </tr>\n",
       "    <tr>\n",
       "      <th>4</th>\n",
       "      <td>Tyreek Hill</td>\n",
       "      <td>WR</td>\n",
       "      <td>KC</td>\n",
       "      <td>1994-03-01</td>\n",
       "      <td>1994</td>\n",
       "      <td>03</td>\n",
       "      <td>01</td>\n",
       "    </tr>\n",
       "  </tbody>\n",
       "</table>\n",
       "</div>"
      ],
      "text/plain": [
       "          player position team   birthdate birthyear birthmonth birthday\n",
       "0  Derrick Henry       RB  TEN  1994-01-04      1994         01       04\n",
       "1   Alvin Kamara       RB   NO  1995-07-25      1995         07       25\n",
       "2  Davante Adams       WR   GB  1992-12-24      1992         12       24\n",
       "3    Dalvin Cook       RB  MIN  1995-08-10      1995         08       10\n",
       "4    Tyreek Hill       WR   KC  1994-03-01      1994         03       01"
      ]
     },
     "execution_count": 20,
     "metadata": {},
     "output_type": "execute_result"
    }
   ],
   "source": [
    "df.head()"
   ]
  },
  {
   "cell_type": "code",
   "execution_count": 21,
   "metadata": {},
   "outputs": [],
   "source": [
    "# create a column named current year and assigne a value of 2021\n",
    "df['currentyear'] = 2021"
   ]
  },
  {
   "cell_type": "code",
   "execution_count": 22,
   "metadata": {},
   "outputs": [
    {
     "data": {
      "text/html": [
       "<div>\n",
       "<style scoped>\n",
       "    .dataframe tbody tr th:only-of-type {\n",
       "        vertical-align: middle;\n",
       "    }\n",
       "\n",
       "    .dataframe tbody tr th {\n",
       "        vertical-align: top;\n",
       "    }\n",
       "\n",
       "    .dataframe thead th {\n",
       "        text-align: right;\n",
       "    }\n",
       "</style>\n",
       "<table border=\"1\" class=\"dataframe\">\n",
       "  <thead>\n",
       "    <tr style=\"text-align: right;\">\n",
       "      <th></th>\n",
       "      <th>player</th>\n",
       "      <th>position</th>\n",
       "      <th>team</th>\n",
       "      <th>birthdate</th>\n",
       "      <th>birthyear</th>\n",
       "      <th>birthmonth</th>\n",
       "      <th>birthday</th>\n",
       "      <th>currentyear</th>\n",
       "    </tr>\n",
       "  </thead>\n",
       "  <tbody>\n",
       "    <tr>\n",
       "      <th>0</th>\n",
       "      <td>Derrick Henry</td>\n",
       "      <td>RB</td>\n",
       "      <td>TEN</td>\n",
       "      <td>1994-01-04</td>\n",
       "      <td>1994</td>\n",
       "      <td>01</td>\n",
       "      <td>04</td>\n",
       "      <td>2021</td>\n",
       "    </tr>\n",
       "    <tr>\n",
       "      <th>1</th>\n",
       "      <td>Alvin Kamara</td>\n",
       "      <td>RB</td>\n",
       "      <td>NO</td>\n",
       "      <td>1995-07-25</td>\n",
       "      <td>1995</td>\n",
       "      <td>07</td>\n",
       "      <td>25</td>\n",
       "      <td>2021</td>\n",
       "    </tr>\n",
       "    <tr>\n",
       "      <th>2</th>\n",
       "      <td>Davante Adams</td>\n",
       "      <td>WR</td>\n",
       "      <td>GB</td>\n",
       "      <td>1992-12-24</td>\n",
       "      <td>1992</td>\n",
       "      <td>12</td>\n",
       "      <td>24</td>\n",
       "      <td>2021</td>\n",
       "    </tr>\n",
       "    <tr>\n",
       "      <th>3</th>\n",
       "      <td>Dalvin Cook</td>\n",
       "      <td>RB</td>\n",
       "      <td>MIN</td>\n",
       "      <td>1995-08-10</td>\n",
       "      <td>1995</td>\n",
       "      <td>08</td>\n",
       "      <td>10</td>\n",
       "      <td>2021</td>\n",
       "    </tr>\n",
       "    <tr>\n",
       "      <th>4</th>\n",
       "      <td>Tyreek Hill</td>\n",
       "      <td>WR</td>\n",
       "      <td>KC</td>\n",
       "      <td>1994-03-01</td>\n",
       "      <td>1994</td>\n",
       "      <td>03</td>\n",
       "      <td>01</td>\n",
       "      <td>2021</td>\n",
       "    </tr>\n",
       "  </tbody>\n",
       "</table>\n",
       "</div>"
      ],
      "text/plain": [
       "          player position team   birthdate birthyear birthmonth birthday  \\\n",
       "0  Derrick Henry       RB  TEN  1994-01-04      1994         01       04   \n",
       "1   Alvin Kamara       RB   NO  1995-07-25      1995         07       25   \n",
       "2  Davante Adams       WR   GB  1992-12-24      1992         12       24   \n",
       "3    Dalvin Cook       RB  MIN  1995-08-10      1995         08       10   \n",
       "4    Tyreek Hill       WR   KC  1994-03-01      1994         03       01   \n",
       "\n",
       "   currentyear  \n",
       "0         2021  \n",
       "1         2021  \n",
       "2         2021  \n",
       "3         2021  \n",
       "4         2021  "
      ]
     },
     "execution_count": 22,
     "metadata": {},
     "output_type": "execute_result"
    }
   ],
   "source": [
    "df.head()"
   ]
  },
  {
   "cell_type": "code",
   "execution_count": 23,
   "metadata": {},
   "outputs": [
    {
     "data": {
      "text/plain": [
       "player         object\n",
       "position       object\n",
       "team           object\n",
       "birthdate      object\n",
       "birthyear      object\n",
       "birthmonth     object\n",
       "birthday       object\n",
       "currentyear     int64\n",
       "dtype: object"
      ]
     },
     "execution_count": 23,
     "metadata": {},
     "output_type": "execute_result"
    }
   ],
   "source": [
    "# check data types to see if any need to be changed\n",
    "df.dtypes"
   ]
  },
  {
   "cell_type": "code",
   "execution_count": 24,
   "metadata": {},
   "outputs": [],
   "source": [
    "# changing three columns from objects to integers\n",
    "df[\"birthyear\"] = df[\"birthyear\"].astype(str).astype(int)\n",
    "df[\"birthmonth\"] = df[\"birthmonth\"].astype(str).astype(int)\n",
    "df[\"birthday\"] = df[\"birthday\"].astype(str).astype(int)"
   ]
  },
  {
   "cell_type": "code",
   "execution_count": 25,
   "metadata": {},
   "outputs": [
    {
     "data": {
      "text/plain": [
       "player         object\n",
       "position       object\n",
       "team           object\n",
       "birthdate      object\n",
       "birthyear       int32\n",
       "birthmonth      int32\n",
       "birthday        int32\n",
       "currentyear     int64\n",
       "dtype: object"
      ]
     },
     "execution_count": 25,
     "metadata": {},
     "output_type": "execute_result"
    }
   ],
   "source": [
    "df.dtypes"
   ]
  },
  {
   "cell_type": "code",
   "execution_count": 26,
   "metadata": {},
   "outputs": [],
   "source": [
    "# create a new calculated column named age which is the difference between currentyear and birthyear\n",
    "df['age'] = df['currentyear'] - df['birthyear']"
   ]
  },
  {
   "cell_type": "code",
   "execution_count": 27,
   "metadata": {},
   "outputs": [
    {
     "data": {
      "text/html": [
       "<div>\n",
       "<style scoped>\n",
       "    .dataframe tbody tr th:only-of-type {\n",
       "        vertical-align: middle;\n",
       "    }\n",
       "\n",
       "    .dataframe tbody tr th {\n",
       "        vertical-align: top;\n",
       "    }\n",
       "\n",
       "    .dataframe thead th {\n",
       "        text-align: right;\n",
       "    }\n",
       "</style>\n",
       "<table border=\"1\" class=\"dataframe\">\n",
       "  <thead>\n",
       "    <tr style=\"text-align: right;\">\n",
       "      <th></th>\n",
       "      <th>player</th>\n",
       "      <th>position</th>\n",
       "      <th>team</th>\n",
       "      <th>birthdate</th>\n",
       "      <th>birthyear</th>\n",
       "      <th>birthmonth</th>\n",
       "      <th>birthday</th>\n",
       "      <th>currentyear</th>\n",
       "      <th>age</th>\n",
       "    </tr>\n",
       "  </thead>\n",
       "  <tbody>\n",
       "    <tr>\n",
       "      <th>0</th>\n",
       "      <td>Derrick Henry</td>\n",
       "      <td>RB</td>\n",
       "      <td>TEN</td>\n",
       "      <td>1994-01-04</td>\n",
       "      <td>1994</td>\n",
       "      <td>1</td>\n",
       "      <td>4</td>\n",
       "      <td>2021</td>\n",
       "      <td>27</td>\n",
       "    </tr>\n",
       "    <tr>\n",
       "      <th>1</th>\n",
       "      <td>Alvin Kamara</td>\n",
       "      <td>RB</td>\n",
       "      <td>NO</td>\n",
       "      <td>1995-07-25</td>\n",
       "      <td>1995</td>\n",
       "      <td>7</td>\n",
       "      <td>25</td>\n",
       "      <td>2021</td>\n",
       "      <td>26</td>\n",
       "    </tr>\n",
       "    <tr>\n",
       "      <th>2</th>\n",
       "      <td>Davante Adams</td>\n",
       "      <td>WR</td>\n",
       "      <td>GB</td>\n",
       "      <td>1992-12-24</td>\n",
       "      <td>1992</td>\n",
       "      <td>12</td>\n",
       "      <td>24</td>\n",
       "      <td>2021</td>\n",
       "      <td>29</td>\n",
       "    </tr>\n",
       "    <tr>\n",
       "      <th>3</th>\n",
       "      <td>Dalvin Cook</td>\n",
       "      <td>RB</td>\n",
       "      <td>MIN</td>\n",
       "      <td>1995-08-10</td>\n",
       "      <td>1995</td>\n",
       "      <td>8</td>\n",
       "      <td>10</td>\n",
       "      <td>2021</td>\n",
       "      <td>26</td>\n",
       "    </tr>\n",
       "    <tr>\n",
       "      <th>4</th>\n",
       "      <td>Tyreek Hill</td>\n",
       "      <td>WR</td>\n",
       "      <td>KC</td>\n",
       "      <td>1994-03-01</td>\n",
       "      <td>1994</td>\n",
       "      <td>3</td>\n",
       "      <td>1</td>\n",
       "      <td>2021</td>\n",
       "      <td>27</td>\n",
       "    </tr>\n",
       "  </tbody>\n",
       "</table>\n",
       "</div>"
      ],
      "text/plain": [
       "          player position team   birthdate  birthyear  birthmonth  birthday  \\\n",
       "0  Derrick Henry       RB  TEN  1994-01-04       1994           1         4   \n",
       "1   Alvin Kamara       RB   NO  1995-07-25       1995           7        25   \n",
       "2  Davante Adams       WR   GB  1992-12-24       1992          12        24   \n",
       "3    Dalvin Cook       RB  MIN  1995-08-10       1995           8        10   \n",
       "4    Tyreek Hill       WR   KC  1994-03-01       1994           3         1   \n",
       "\n",
       "   currentyear  age  \n",
       "0         2021   27  \n",
       "1         2021   26  \n",
       "2         2021   29  \n",
       "3         2021   26  \n",
       "4         2021   27  "
      ]
     },
     "execution_count": 27,
     "metadata": {},
     "output_type": "execute_result"
    }
   ],
   "source": [
    "df.head()"
   ]
  },
  {
   "cell_type": "code",
   "execution_count": 28,
   "metadata": {},
   "outputs": [],
   "source": [
    "# export data frame to a csv\n",
    "df.to_csv('NFLBirthdays_cleaned.csv')"
   ]
  },
  {
   "cell_type": "code",
   "execution_count": 30,
   "metadata": {},
   "outputs": [
    {
     "data": {
      "text/plain": [
       "position\n",
       "K     31.270270\n",
       "QB    28.314286\n",
       "RB    25.806667\n",
       "TE    26.800000\n",
       "WR    26.036082\n",
       "Name: age, dtype: float64"
      ]
     },
     "execution_count": 30,
     "metadata": {},
     "output_type": "execute_result"
    }
   ],
   "source": [
    "# look at avg age by position\n",
    "\n",
    "df.groupby('position')['age'].mean()\n"
   ]
  },
  {
   "cell_type": "code",
   "execution_count": 31,
   "metadata": {},
   "outputs": [
    {
     "data": {
      "text/plain": [
       "team\n",
       "ARI    29.083333\n",
       "ATL    27.538462\n",
       "BAL    25.846154\n",
       "BUF    26.705882\n",
       "CAR    25.818182\n",
       "CHI    28.166667\n",
       "CIN    25.909091\n",
       "CLE    26.200000\n",
       "DAL    26.272727\n",
       "DEN    25.416667\n",
       "DET    27.461538\n",
       "FA     24.985294\n",
       "GB     27.571429\n",
       "HOU    27.529412\n",
       "IND    27.250000\n",
       "JAC    27.000000\n",
       "KC     27.142857\n",
       "LAC    26.214286\n",
       "LAR    27.000000\n",
       "LV     27.333333\n",
       "MIA    26.150000\n",
       "MIN    26.300000\n",
       "NE     26.764706\n",
       "NO     27.571429\n",
       "NYG    28.062500\n",
       "NYJ    26.866667\n",
       "PHI    26.111111\n",
       "PIT    26.285714\n",
       "SEA    26.142857\n",
       "SF     28.266667\n",
       "TB     28.866667\n",
       "TEN    27.750000\n",
       "WAS    27.315789\n",
       "Name: age, dtype: float64"
      ]
     },
     "execution_count": 31,
     "metadata": {},
     "output_type": "execute_result"
    }
   ],
   "source": [
    "# look at avg age by team\n",
    "\n",
    "df.groupby('team')['age'].mean()\n"
   ]
  },
  {
   "cell_type": "code",
   "execution_count": 36,
   "metadata": {},
   "outputs": [
    {
     "data": {
      "text/plain": [
       "count    531.000000\n",
       "mean      26.751412\n",
       "std        4.020510\n",
       "min       21.000000\n",
       "25%       24.000000\n",
       "50%       26.000000\n",
       "75%       28.000000\n",
       "max       49.000000\n",
       "Name: age, dtype: float64"
      ]
     },
     "execution_count": 36,
     "metadata": {},
     "output_type": "execute_result"
    }
   ],
   "source": [
    "# look at summary stats of age to see youngest, oldest, and avg age of player\n",
    "df['age'].describe()"
   ]
  },
  {
   "cell_type": "code",
   "execution_count": 43,
   "metadata": {},
   "outputs": [
    {
     "data": {
      "text/html": [
       "<div>\n",
       "<style scoped>\n",
       "    .dataframe tbody tr th:only-of-type {\n",
       "        vertical-align: middle;\n",
       "    }\n",
       "\n",
       "    .dataframe tbody tr th {\n",
       "        vertical-align: top;\n",
       "    }\n",
       "\n",
       "    .dataframe thead th {\n",
       "        text-align: right;\n",
       "    }\n",
       "</style>\n",
       "<table border=\"1\" class=\"dataframe\">\n",
       "  <thead>\n",
       "    <tr style=\"text-align: right;\">\n",
       "      <th></th>\n",
       "      <th>player</th>\n",
       "      <th>position</th>\n",
       "      <th>team</th>\n",
       "      <th>birthdate</th>\n",
       "      <th>birthyear</th>\n",
       "      <th>birthmonth</th>\n",
       "      <th>birthday</th>\n",
       "      <th>currentyear</th>\n",
       "      <th>age</th>\n",
       "    </tr>\n",
       "  </thead>\n",
       "  <tbody>\n",
       "    <tr>\n",
       "      <th>132</th>\n",
       "      <td>Ben Roethlisberger</td>\n",
       "      <td>QB</td>\n",
       "      <td>PIT</td>\n",
       "      <td>1982-03-02</td>\n",
       "      <td>1982</td>\n",
       "      <td>3</td>\n",
       "      <td>2</td>\n",
       "      <td>2021</td>\n",
       "      <td>39</td>\n",
       "    </tr>\n",
       "    <tr>\n",
       "      <th>287</th>\n",
       "      <td>Ryan Fitzpatrick</td>\n",
       "      <td>QB</td>\n",
       "      <td>WAS</td>\n",
       "      <td>1982-11-24</td>\n",
       "      <td>1982</td>\n",
       "      <td>11</td>\n",
       "      <td>24</td>\n",
       "      <td>2021</td>\n",
       "      <td>39</td>\n",
       "    </tr>\n",
       "    <tr>\n",
       "      <th>237</th>\n",
       "      <td>Robbie Gould</td>\n",
       "      <td>K</td>\n",
       "      <td>SF</td>\n",
       "      <td>1982-12-06</td>\n",
       "      <td>1982</td>\n",
       "      <td>12</td>\n",
       "      <td>6</td>\n",
       "      <td>2021</td>\n",
       "      <td>39</td>\n",
       "    </tr>\n",
       "    <tr>\n",
       "      <th>542</th>\n",
       "      <td>Jason Witten</td>\n",
       "      <td>TE</td>\n",
       "      <td>LV</td>\n",
       "      <td>1982-05-06</td>\n",
       "      <td>1982</td>\n",
       "      <td>5</td>\n",
       "      <td>6</td>\n",
       "      <td>2021</td>\n",
       "      <td>39</td>\n",
       "    </tr>\n",
       "    <tr>\n",
       "      <th>226</th>\n",
       "      <td>Mike Nugent</td>\n",
       "      <td>K</td>\n",
       "      <td>ARI</td>\n",
       "      <td>1982-03-02</td>\n",
       "      <td>1982</td>\n",
       "      <td>3</td>\n",
       "      <td>2</td>\n",
       "      <td>2021</td>\n",
       "      <td>39</td>\n",
       "    </tr>\n",
       "    <tr>\n",
       "      <th>165</th>\n",
       "      <td>Philip Rivers</td>\n",
       "      <td>QB</td>\n",
       "      <td>IND</td>\n",
       "      <td>1981-12-08</td>\n",
       "      <td>1981</td>\n",
       "      <td>12</td>\n",
       "      <td>8</td>\n",
       "      <td>2021</td>\n",
       "      <td>40</td>\n",
       "    </tr>\n",
       "    <tr>\n",
       "      <th>123</th>\n",
       "      <td>Drew Brees</td>\n",
       "      <td>QB</td>\n",
       "      <td>NO</td>\n",
       "      <td>1979-01-15</td>\n",
       "      <td>1979</td>\n",
       "      <td>1</td>\n",
       "      <td>15</td>\n",
       "      <td>2021</td>\n",
       "      <td>42</td>\n",
       "    </tr>\n",
       "    <tr>\n",
       "      <th>96</th>\n",
       "      <td>Tom Brady</td>\n",
       "      <td>QB</td>\n",
       "      <td>TB</td>\n",
       "      <td>1977-08-03</td>\n",
       "      <td>1977</td>\n",
       "      <td>8</td>\n",
       "      <td>3</td>\n",
       "      <td>2021</td>\n",
       "      <td>44</td>\n",
       "    </tr>\n",
       "    <tr>\n",
       "      <th>428</th>\n",
       "      <td>Matt Bryant</td>\n",
       "      <td>K</td>\n",
       "      <td>FA</td>\n",
       "      <td>1975-05-29</td>\n",
       "      <td>1975</td>\n",
       "      <td>5</td>\n",
       "      <td>29</td>\n",
       "      <td>2021</td>\n",
       "      <td>46</td>\n",
       "    </tr>\n",
       "    <tr>\n",
       "      <th>427</th>\n",
       "      <td>Adam Vinatieri</td>\n",
       "      <td>K</td>\n",
       "      <td>FA</td>\n",
       "      <td>1972-12-28</td>\n",
       "      <td>1972</td>\n",
       "      <td>12</td>\n",
       "      <td>28</td>\n",
       "      <td>2021</td>\n",
       "      <td>49</td>\n",
       "    </tr>\n",
       "  </tbody>\n",
       "</table>\n",
       "</div>"
      ],
      "text/plain": [
       "                 player position team   birthdate  birthyear  birthmonth  \\\n",
       "132  Ben Roethlisberger       QB  PIT  1982-03-02       1982           3   \n",
       "287    Ryan Fitzpatrick       QB  WAS  1982-11-24       1982          11   \n",
       "237        Robbie Gould        K   SF  1982-12-06       1982          12   \n",
       "542        Jason Witten       TE   LV  1982-05-06       1982           5   \n",
       "226         Mike Nugent        K  ARI  1982-03-02       1982           3   \n",
       "165       Philip Rivers       QB  IND  1981-12-08       1981          12   \n",
       "123          Drew Brees       QB   NO  1979-01-15       1979           1   \n",
       "96            Tom Brady       QB   TB  1977-08-03       1977           8   \n",
       "428         Matt Bryant        K   FA  1975-05-29       1975           5   \n",
       "427      Adam Vinatieri        K   FA  1972-12-28       1972          12   \n",
       "\n",
       "     birthday  currentyear  age  \n",
       "132         2         2021   39  \n",
       "287        24         2021   39  \n",
       "237         6         2021   39  \n",
       "542         6         2021   39  \n",
       "226         2         2021   39  \n",
       "165         8         2021   40  \n",
       "123        15         2021   42  \n",
       "96          3         2021   44  \n",
       "428        29         2021   46  \n",
       "427        28         2021   49  "
      ]
     },
     "execution_count": 43,
     "metadata": {},
     "output_type": "execute_result"
    }
   ],
   "source": [
    "# who are the 10 oldest active players?\n",
    "df.sort_values(by=['age']).tail(10)\n"
   ]
  },
  {
   "cell_type": "code",
   "execution_count": null,
   "metadata": {},
   "outputs": [],
   "source": []
  },
  {
   "cell_type": "code",
   "execution_count": null,
   "metadata": {},
   "outputs": [],
   "source": []
  }
 ],
 "metadata": {
  "kernelspec": {
   "display_name": "Python 3",
   "language": "python",
   "name": "python3"
  },
  "language_info": {
   "codemirror_mode": {
    "name": "ipython",
    "version": 3
   },
   "file_extension": ".py",
   "mimetype": "text/x-python",
   "name": "python",
   "nbconvert_exporter": "python",
   "pygments_lexer": "ipython3",
   "version": "3.8.5"
  }
 },
 "nbformat": 4,
 "nbformat_minor": 4
}
