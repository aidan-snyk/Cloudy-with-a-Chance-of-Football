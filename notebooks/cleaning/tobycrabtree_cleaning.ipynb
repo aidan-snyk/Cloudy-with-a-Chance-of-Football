{
 "cells": [
  {
   "cell_type": "markdown",
   "metadata": {},
   "source": [
    "# Cleaning and Exploring Weather Data from Kaggle User tobycrabtree\n",
    "<a id='header_cell'></a>\n",
    "This is a notebook to clean and conduct exploratory data analysis on the weather [data](https://www.kaggle.com/tobycrabtree/nfl-scores-and-betting-data?select=spreadspoke_scores.csv) provided by kaggle user tobycrabtree and [NFLWeather.com](http://www.nflweather.com/). \n",
    "\n",
    "In this notebook, I intend to:  \n",
    "- standardize all column names according to our project architecture with all special characters removed\n",
    "- find all null values and address them appropriately\n",
    "- fill in missing data as needed\n",
    "- Narrow the data to the 2019 and 2020 regular seasons\n",
    "\n",
    "At the end of this notebook, I'll write the cleaned tobycrabtree data to ```../../fixtures/cleaned_data/weather_data.csv``` and the cleaned days_since_last_game_df data to ```../../fixtures/cleaned_data/days_since_last_game.csv```"
   ]
  },
  {
   "cell_type": "markdown",
   "metadata": {},
   "source": [
    "### Table of Contents:\n",
    "<a id='toc_cell'></a>\n",
    "- [Cleaning and Exploring Weather Data from Kaggle User tobycrabtree](#header_cell)\n",
    "- [Table of Contents](#toc_cell)\n",
    "- [Import Packages and Read in Data](#import_and_read_cell)\n",
    "- [Cleaning the Data](#cleaning_the_data_header_cell)\n",
    "    - [Understanding the Data](#understanding_cell)\n",
    "    - [Answering Initial Questions](#answering_cell)\n",
    "    - [Filtering the Dataset and Transforming Column Datatypes and Values](#filtering_dataset_cell)\n",
    "    - [Finding and Addressing Null Values](#finding_addressing_null_values_cell)\n",
    "    - [Addressing Null Weather Values](#addressing_null_weather_values_cell)\n",
    "    - [Cleaning New Weather Data](#cleaning_new_weather_data_cell)\n",
    "- [Exploring the Data](#eda_header_cell)"
   ]
  },
  {
   "cell_type": "markdown",
   "metadata": {},
   "source": [
    "## Import Packages and Read in Data\n",
    "<a id='import_and_read_cell'></a>\n",
    "We'll start by importing pandas to manipulate and store the data, then matplotlib's pyplot module, seaborn, and missingno to visualize the data. We'll also set up Jupyter magic to visualize pyplot visualizations inline. Finally, we'll read the data into a dataframe."
   ]
  },
  {
   "cell_type": "code",
   "execution_count": 1,
   "metadata": {},
   "outputs": [],
   "source": [
    "# manipulation, data retrieval, and storage packages\n",
    "import pandas as pd\n",
    "import os\n",
    "import re\n",
    "import requests\n",
    "import ssl\n",
    "import json\n",
    "import datetime as dt\n",
    "from datetime import datetime\n",
    "from datetime import date\n",
    "import numpy as np\n",
    "\n",
    "# visualization packages\n",
    "import matplotlib.pyplot as plt\n",
    "import seaborn as sns\n",
    "import missingno as msno\n",
    "\n",
    "import urllib.request\n",
    "from bs4 import BeautifulSoup"
   ]
  },
  {
   "cell_type": "code",
   "execution_count": 2,
   "metadata": {},
   "outputs": [],
   "source": [
    "%matplotlib inline"
   ]
  },
  {
   "cell_type": "code",
   "execution_count": 3,
   "metadata": {},
   "outputs": [],
   "source": [
    "df = pd.read_csv('../../fixtures/raw_data/spreadspoke_scores.csv')"
   ]
  },
  {
   "cell_type": "markdown",
   "metadata": {},
   "source": [
    "## Cleaning the Data\n",
    "<a id='cleaning_the_data_header_cell'></a>"
   ]
  },
  {
   "cell_type": "markdown",
   "metadata": {},
   "source": [
    "### Understanding the Data\n",
    "<a id='understanding_cell'></a>"
   ]
  },
  {
   "cell_type": "code",
   "execution_count": 4,
   "metadata": {},
   "outputs": [
    {
     "data": {
      "text/html": [
       "<div>\n",
       "<style scoped>\n",
       "    .dataframe tbody tr th:only-of-type {\n",
       "        vertical-align: middle;\n",
       "    }\n",
       "\n",
       "    .dataframe tbody tr th {\n",
       "        vertical-align: top;\n",
       "    }\n",
       "\n",
       "    .dataframe thead th {\n",
       "        text-align: right;\n",
       "    }\n",
       "</style>\n",
       "<table border=\"1\" class=\"dataframe\">\n",
       "  <thead>\n",
       "    <tr style=\"text-align: right;\">\n",
       "      <th></th>\n",
       "      <th>schedule_date</th>\n",
       "      <th>schedule_season</th>\n",
       "      <th>schedule_week</th>\n",
       "      <th>schedule_playoff</th>\n",
       "      <th>team_home</th>\n",
       "      <th>score_home</th>\n",
       "      <th>score_away</th>\n",
       "      <th>team_away</th>\n",
       "      <th>team_favorite_id</th>\n",
       "      <th>spread_favorite</th>\n",
       "      <th>over_under_line</th>\n",
       "      <th>stadium</th>\n",
       "      <th>stadium_neutral</th>\n",
       "      <th>weather_temperature</th>\n",
       "      <th>weather_wind_mph</th>\n",
       "      <th>weather_humidity</th>\n",
       "      <th>weather_detail</th>\n",
       "    </tr>\n",
       "  </thead>\n",
       "  <tbody>\n",
       "    <tr>\n",
       "      <th>0</th>\n",
       "      <td>9/2/1966</td>\n",
       "      <td>1966</td>\n",
       "      <td>1</td>\n",
       "      <td>False</td>\n",
       "      <td>Miami Dolphins</td>\n",
       "      <td>14.0</td>\n",
       "      <td>23.0</td>\n",
       "      <td>Oakland Raiders</td>\n",
       "      <td>NaN</td>\n",
       "      <td>NaN</td>\n",
       "      <td>NaN</td>\n",
       "      <td>Orange Bowl</td>\n",
       "      <td>False</td>\n",
       "      <td>83.0</td>\n",
       "      <td>6.0</td>\n",
       "      <td>71</td>\n",
       "      <td>NaN</td>\n",
       "    </tr>\n",
       "    <tr>\n",
       "      <th>1</th>\n",
       "      <td>9/3/1966</td>\n",
       "      <td>1966</td>\n",
       "      <td>1</td>\n",
       "      <td>False</td>\n",
       "      <td>Houston Oilers</td>\n",
       "      <td>45.0</td>\n",
       "      <td>7.0</td>\n",
       "      <td>Denver Broncos</td>\n",
       "      <td>NaN</td>\n",
       "      <td>NaN</td>\n",
       "      <td>NaN</td>\n",
       "      <td>Rice Stadium</td>\n",
       "      <td>False</td>\n",
       "      <td>81.0</td>\n",
       "      <td>7.0</td>\n",
       "      <td>70</td>\n",
       "      <td>NaN</td>\n",
       "    </tr>\n",
       "    <tr>\n",
       "      <th>2</th>\n",
       "      <td>9/4/1966</td>\n",
       "      <td>1966</td>\n",
       "      <td>1</td>\n",
       "      <td>False</td>\n",
       "      <td>San Diego Chargers</td>\n",
       "      <td>27.0</td>\n",
       "      <td>7.0</td>\n",
       "      <td>Buffalo Bills</td>\n",
       "      <td>NaN</td>\n",
       "      <td>NaN</td>\n",
       "      <td>NaN</td>\n",
       "      <td>Balboa Stadium</td>\n",
       "      <td>False</td>\n",
       "      <td>70.0</td>\n",
       "      <td>7.0</td>\n",
       "      <td>82</td>\n",
       "      <td>NaN</td>\n",
       "    </tr>\n",
       "    <tr>\n",
       "      <th>3</th>\n",
       "      <td>9/9/1966</td>\n",
       "      <td>1966</td>\n",
       "      <td>2</td>\n",
       "      <td>False</td>\n",
       "      <td>Miami Dolphins</td>\n",
       "      <td>14.0</td>\n",
       "      <td>19.0</td>\n",
       "      <td>New York Jets</td>\n",
       "      <td>NaN</td>\n",
       "      <td>NaN</td>\n",
       "      <td>NaN</td>\n",
       "      <td>Orange Bowl</td>\n",
       "      <td>False</td>\n",
       "      <td>82.0</td>\n",
       "      <td>11.0</td>\n",
       "      <td>78</td>\n",
       "      <td>NaN</td>\n",
       "    </tr>\n",
       "    <tr>\n",
       "      <th>4</th>\n",
       "      <td>9/10/1966</td>\n",
       "      <td>1966</td>\n",
       "      <td>1</td>\n",
       "      <td>False</td>\n",
       "      <td>Green Bay Packers</td>\n",
       "      <td>24.0</td>\n",
       "      <td>3.0</td>\n",
       "      <td>Baltimore Colts</td>\n",
       "      <td>NaN</td>\n",
       "      <td>NaN</td>\n",
       "      <td>NaN</td>\n",
       "      <td>Lambeau Field</td>\n",
       "      <td>False</td>\n",
       "      <td>64.0</td>\n",
       "      <td>8.0</td>\n",
       "      <td>62</td>\n",
       "      <td>NaN</td>\n",
       "    </tr>\n",
       "  </tbody>\n",
       "</table>\n",
       "</div>"
      ],
      "text/plain": [
       "  schedule_date  schedule_season schedule_week  schedule_playoff  \\\n",
       "0      9/2/1966             1966             1             False   \n",
       "1      9/3/1966             1966             1             False   \n",
       "2      9/4/1966             1966             1             False   \n",
       "3      9/9/1966             1966             2             False   \n",
       "4     9/10/1966             1966             1             False   \n",
       "\n",
       "            team_home  score_home  score_away        team_away  \\\n",
       "0      Miami Dolphins        14.0        23.0  Oakland Raiders   \n",
       "1      Houston Oilers        45.0         7.0   Denver Broncos   \n",
       "2  San Diego Chargers        27.0         7.0    Buffalo Bills   \n",
       "3      Miami Dolphins        14.0        19.0    New York Jets   \n",
       "4   Green Bay Packers        24.0         3.0  Baltimore Colts   \n",
       "\n",
       "  team_favorite_id  spread_favorite over_under_line         stadium  \\\n",
       "0              NaN              NaN             NaN     Orange Bowl   \n",
       "1              NaN              NaN             NaN    Rice Stadium   \n",
       "2              NaN              NaN             NaN  Balboa Stadium   \n",
       "3              NaN              NaN             NaN     Orange Bowl   \n",
       "4              NaN              NaN             NaN   Lambeau Field   \n",
       "\n",
       "   stadium_neutral  weather_temperature  weather_wind_mph weather_humidity  \\\n",
       "0            False                 83.0               6.0               71   \n",
       "1            False                 81.0               7.0               70   \n",
       "2            False                 70.0               7.0               82   \n",
       "3            False                 82.0              11.0               78   \n",
       "4            False                 64.0               8.0               62   \n",
       "\n",
       "  weather_detail  \n",
       "0            NaN  \n",
       "1            NaN  \n",
       "2            NaN  \n",
       "3            NaN  \n",
       "4            NaN  "
      ]
     },
     "execution_count": 4,
     "metadata": {},
     "output_type": "execute_result"
    }
   ],
   "source": [
    "df.head()"
   ]
  },
  {
   "cell_type": "markdown",
   "metadata": {},
   "source": [
    "### Initial observations, to-dos, and questions from looking at the first few rows\n",
    "#### Questions I have about the data:\n",
    "- How many rows and columns are in the dataset?\n",
    "- What are the data types contained in the columns?\n",
    "- Are there any games not played at the home team's stadium?\n",
    "- The weather_temperature and weather_wind_mph columns are floats, but weather_humidity column is an integer. Is this distinction reflected in the data?\n",
    "- The first few rows of the weather_detail column are NaN. What is contained in the weather_detail column?\n",
    "\n",
    "#### Things to do to the data:\n",
    "- This dataset has the following columns, which I can use to produce columns for the database:\n",
    "    - schedule_week and schedule_year columns -> week_id column\n",
    "    - schedule_date -> days_since_last_game and week_day columns\n",
    "    - team_home and team_away -> location column, team_name, and opponent columns within the opponents_table\n",
    "- team_home and team_away columns need to be translated into the abbreviations that are the column names in the opponents_table"
   ]
  },
  {
   "cell_type": "markdown",
   "metadata": {},
   "source": [
    "### Answering Initial Questions\n",
    "<a id='answering_cell'></a>"
   ]
  },
  {
   "cell_type": "code",
   "execution_count": 5,
   "metadata": {},
   "outputs": [
    {
     "data": {
      "text/plain": [
       "'There are 12947 rows and 17 columns in this dataset'"
      ]
     },
     "execution_count": 5,
     "metadata": {},
     "output_type": "execute_result"
    }
   ],
   "source": [
    "# How many rows and columns are in the dataset?\n",
    "\n",
    "\"There are {} rows and {} columns in this dataset\".format(df.shape[0], df.shape[1])"
   ]
  },
  {
   "cell_type": "code",
   "execution_count": 6,
   "metadata": {},
   "outputs": [
    {
     "data": {
      "text/plain": [
       "schedule_date           object\n",
       "schedule_season          int64\n",
       "schedule_week           object\n",
       "schedule_playoff          bool\n",
       "team_home               object\n",
       "score_home             float64\n",
       "score_away             float64\n",
       "team_away               object\n",
       "team_favorite_id        object\n",
       "spread_favorite        float64\n",
       "over_under_line         object\n",
       "stadium                 object\n",
       "stadium_neutral           bool\n",
       "weather_temperature    float64\n",
       "weather_wind_mph       float64\n",
       "weather_humidity        object\n",
       "weather_detail          object\n",
       "dtype: object"
      ]
     },
     "execution_count": 6,
     "metadata": {},
     "output_type": "execute_result"
    }
   ],
   "source": [
    "# What are the data types contained in the columns?\n",
    "\n",
    "df.dtypes"
   ]
  },
  {
   "cell_type": "markdown",
   "metadata": {},
   "source": [
    "Are there any games not played at the home team's stadium? To answer this, I'll see how many unique combinations of the team_home and stadium columns"
   ]
  },
  {
   "cell_type": "code",
   "execution_count": 7,
   "metadata": {},
   "outputs": [
    {
     "name": "stdout",
     "output_type": "stream",
     "text": [
      "There are 177 unique home team/stadium combinations in this dataset\n"
     ]
    }
   ],
   "source": [
    "stadium_count = \"There are {} unique home team/stadium combinations in this dataset\".format(\n",
    "    df.groupby(['team_home','stadium']).size().reset_index().rename(columns={0:'count'}).shape[0])\n",
    "\n",
    "print(stadium_count)"
   ]
  },
  {
   "cell_type": "markdown",
   "metadata": {},
   "source": [
    "177 unique combinations? For 32 teams?   \n",
    "\n",
    "My NFL knowledge doesn't precede 2020, but I'm sure there's been a few teams added, a few stadium names changed, a few teams with name changes.   \n",
    "\n",
    "This doesn't answer whether or not all games are played at the home team's stadium, or in what circumstances in which they are played in a neutral stadium!   \n",
    "\n",
    "The stadium_neutral column might help, so I'll check it for True values and look at only at 2019 and later.   \n",
    "\n",
    "I'll filter out non-playoff games since that's what we'll use for our model"
   ]
  },
  {
   "cell_type": "code",
   "execution_count": 8,
   "metadata": {
    "scrolled": false
   },
   "outputs": [
    {
     "data": {
      "text/html": [
       "<div>\n",
       "<style scoped>\n",
       "    .dataframe tbody tr th:only-of-type {\n",
       "        vertical-align: middle;\n",
       "    }\n",
       "\n",
       "    .dataframe tbody tr th {\n",
       "        vertical-align: top;\n",
       "    }\n",
       "\n",
       "    .dataframe thead th {\n",
       "        text-align: right;\n",
       "    }\n",
       "</style>\n",
       "<table border=\"1\" class=\"dataframe\">\n",
       "  <thead>\n",
       "    <tr style=\"text-align: right;\">\n",
       "      <th></th>\n",
       "      <th>schedule_date</th>\n",
       "      <th>schedule_season</th>\n",
       "      <th>schedule_week</th>\n",
       "      <th>schedule_playoff</th>\n",
       "      <th>team_home</th>\n",
       "      <th>score_home</th>\n",
       "      <th>score_away</th>\n",
       "      <th>team_away</th>\n",
       "      <th>team_favorite_id</th>\n",
       "      <th>spread_favorite</th>\n",
       "      <th>over_under_line</th>\n",
       "      <th>stadium</th>\n",
       "      <th>stadium_neutral</th>\n",
       "      <th>weather_temperature</th>\n",
       "      <th>weather_wind_mph</th>\n",
       "      <th>weather_humidity</th>\n",
       "      <th>weather_detail</th>\n",
       "    </tr>\n",
       "  </thead>\n",
       "  <tbody>\n",
       "    <tr>\n",
       "      <th>12483</th>\n",
       "      <td>10/6/2019</td>\n",
       "      <td>2019</td>\n",
       "      <td>5</td>\n",
       "      <td>False</td>\n",
       "      <td>Oakland Raiders</td>\n",
       "      <td>24.0</td>\n",
       "      <td>21.0</td>\n",
       "      <td>Chicago Bears</td>\n",
       "      <td>CHI</td>\n",
       "      <td>-6.5</td>\n",
       "      <td>39.5</td>\n",
       "      <td>Tottenham Hotspur Stadium</td>\n",
       "      <td>True</td>\n",
       "      <td>NaN</td>\n",
       "      <td>NaN</td>\n",
       "      <td>NaN</td>\n",
       "      <td>NaN</td>\n",
       "    </tr>\n",
       "    <tr>\n",
       "      <th>12501</th>\n",
       "      <td>10/13/2019</td>\n",
       "      <td>2019</td>\n",
       "      <td>6</td>\n",
       "      <td>False</td>\n",
       "      <td>Tampa Bay Buccaneers</td>\n",
       "      <td>26.0</td>\n",
       "      <td>37.0</td>\n",
       "      <td>Carolina Panthers</td>\n",
       "      <td>CAR</td>\n",
       "      <td>-2.0</td>\n",
       "      <td>47.5</td>\n",
       "      <td>Tottenham Hotspur Stadium</td>\n",
       "      <td>True</td>\n",
       "      <td>NaN</td>\n",
       "      <td>NaN</td>\n",
       "      <td>NaN</td>\n",
       "      <td>NaN</td>\n",
       "    </tr>\n",
       "    <tr>\n",
       "      <th>12526</th>\n",
       "      <td>10/27/2019</td>\n",
       "      <td>2019</td>\n",
       "      <td>8</td>\n",
       "      <td>False</td>\n",
       "      <td>Los Angeles Rams</td>\n",
       "      <td>24.0</td>\n",
       "      <td>10.0</td>\n",
       "      <td>Cincinnati Bengals</td>\n",
       "      <td>LAR</td>\n",
       "      <td>-12.0</td>\n",
       "      <td>48.5</td>\n",
       "      <td>Wembley Stadium</td>\n",
       "      <td>True</td>\n",
       "      <td>NaN</td>\n",
       "      <td>NaN</td>\n",
       "      <td>NaN</td>\n",
       "      <td>NaN</td>\n",
       "    </tr>\n",
       "    <tr>\n",
       "      <th>12537</th>\n",
       "      <td>11/3/2019</td>\n",
       "      <td>2019</td>\n",
       "      <td>9</td>\n",
       "      <td>False</td>\n",
       "      <td>Jacksonville Jaguars</td>\n",
       "      <td>3.0</td>\n",
       "      <td>26.0</td>\n",
       "      <td>Houston Texans</td>\n",
       "      <td>JAX</td>\n",
       "      <td>-1.0</td>\n",
       "      <td>46</td>\n",
       "      <td>Wembley Stadium</td>\n",
       "      <td>True</td>\n",
       "      <td>NaN</td>\n",
       "      <td>NaN</td>\n",
       "      <td>NaN</td>\n",
       "      <td>NaN</td>\n",
       "    </tr>\n",
       "    <tr>\n",
       "      <th>12572</th>\n",
       "      <td>11/18/2019</td>\n",
       "      <td>2019</td>\n",
       "      <td>11</td>\n",
       "      <td>False</td>\n",
       "      <td>Los Angeles Chargers</td>\n",
       "      <td>17.0</td>\n",
       "      <td>24.0</td>\n",
       "      <td>Kansas City Chiefs</td>\n",
       "      <td>KC</td>\n",
       "      <td>-5.5</td>\n",
       "      <td>52.5</td>\n",
       "      <td>Estadio Azteca</td>\n",
       "      <td>True</td>\n",
       "      <td>NaN</td>\n",
       "      <td>NaN</td>\n",
       "      <td>NaN</td>\n",
       "      <td>NaN</td>\n",
       "    </tr>\n",
       "    <tr>\n",
       "      <th>12868</th>\n",
       "      <td>12/7/2020</td>\n",
       "      <td>2020</td>\n",
       "      <td>13</td>\n",
       "      <td>False</td>\n",
       "      <td>San Francisco 49ers</td>\n",
       "      <td>24.0</td>\n",
       "      <td>34.0</td>\n",
       "      <td>Buffalo Bills</td>\n",
       "      <td>SF</td>\n",
       "      <td>-1.5</td>\n",
       "      <td>48</td>\n",
       "      <td>State Farm Stadium</td>\n",
       "      <td>True</td>\n",
       "      <td>NaN</td>\n",
       "      <td>NaN</td>\n",
       "      <td>NaN</td>\n",
       "      <td>NaN</td>\n",
       "    </tr>\n",
       "  </tbody>\n",
       "</table>\n",
       "</div>"
      ],
      "text/plain": [
       "      schedule_date  schedule_season schedule_week  schedule_playoff  \\\n",
       "12483     10/6/2019             2019             5             False   \n",
       "12501    10/13/2019             2019             6             False   \n",
       "12526    10/27/2019             2019             8             False   \n",
       "12537     11/3/2019             2019             9             False   \n",
       "12572    11/18/2019             2019            11             False   \n",
       "12868     12/7/2020             2020            13             False   \n",
       "\n",
       "                  team_home  score_home  score_away           team_away  \\\n",
       "12483       Oakland Raiders        24.0        21.0       Chicago Bears   \n",
       "12501  Tampa Bay Buccaneers        26.0        37.0   Carolina Panthers   \n",
       "12526      Los Angeles Rams        24.0        10.0  Cincinnati Bengals   \n",
       "12537  Jacksonville Jaguars         3.0        26.0      Houston Texans   \n",
       "12572  Los Angeles Chargers        17.0        24.0  Kansas City Chiefs   \n",
       "12868   San Francisco 49ers        24.0        34.0       Buffalo Bills   \n",
       "\n",
       "      team_favorite_id  spread_favorite over_under_line  \\\n",
       "12483              CHI             -6.5            39.5   \n",
       "12501              CAR             -2.0            47.5   \n",
       "12526              LAR            -12.0            48.5   \n",
       "12537              JAX             -1.0              46   \n",
       "12572               KC             -5.5            52.5   \n",
       "12868               SF             -1.5              48   \n",
       "\n",
       "                         stadium  stadium_neutral  weather_temperature  \\\n",
       "12483  Tottenham Hotspur Stadium             True                  NaN   \n",
       "12501  Tottenham Hotspur Stadium             True                  NaN   \n",
       "12526            Wembley Stadium             True                  NaN   \n",
       "12537            Wembley Stadium             True                  NaN   \n",
       "12572             Estadio Azteca             True                  NaN   \n",
       "12868         State Farm Stadium             True                  NaN   \n",
       "\n",
       "       weather_wind_mph weather_humidity weather_detail  \n",
       "12483               NaN              NaN            NaN  \n",
       "12501               NaN              NaN            NaN  \n",
       "12526               NaN              NaN            NaN  \n",
       "12537               NaN              NaN            NaN  \n",
       "12572               NaN              NaN            NaN  \n",
       "12868               NaN              NaN            NaN  "
      ]
     },
     "execution_count": 8,
     "metadata": {},
     "output_type": "execute_result"
    }
   ],
   "source": [
    "df.loc[(df['stadium_neutral'] == True)\n",
    "    & (df['schedule_playoff'] == False)\n",
    "    & (df['schedule_season'] >= 2019)]"
   ]
  },
  {
   "cell_type": "markdown",
   "metadata": {},
   "source": [
    "6 non-playoff games between 2019 and 2020 were played in neutral locations, and (after a wikipedia search) 5 of these games were played in England or Mexico all in the 2019 season. The only other one was played in Arizona by the 49ers and Bills in 2020, which Google told me was due to COVID-19 restrictions preventing the 49ers from playing in their home county.   \n",
    "\n",
    "When creating the team_home column, I'll set both teams to 0 for these 6 games since it's not in the typical home stadium for home team fans to come out for the team.   \n",
    "\n",
    "This, however, has me thinking about COVID-19 restrictions on home teams in 2020. Did being the home team matter in 2020 as it did in 2019? The simple answer is no: fans were allowed in stadiums without restrictions in 2019 but were heavily restricted in 2020.   \n",
    "\n",
    "*But does being the home team matter at all, regardless of fan attendance restrictions?*   \n",
    "\n",
    "I think it does. While professional football fields don't deviate from one another anywhere near how much MLB stadiums deviate from one another, a player would be most comfortable at his home stadium due to spotting the ball among the seats and knowing where the sun will hit his eyes and when, among other things.   \n",
    "\n",
    "I think we should add another column where we either describe the number of fans in attendance or specify whether or not fan attendance restrictions were in place.\n",
    "\n",
    "To-do: fan restrictions column"
   ]
  },
  {
   "cell_type": "code",
   "execution_count": 9,
   "metadata": {},
   "outputs": [],
   "source": [
    "# The weather_temperature and weather_wind_mph columns are floats, but weather_humidity column is an integer.\n",
    "# Is this distinction reflected in the data?\n",
    "\n",
    "cols = ['weather_temperature','weather_wind_mph']\n",
    "\n",
    "for x in cols:\n",
    "    # reveal values in these two columns that are not evenly divisible by zero\n",
    "    [print(n) for n in df[x] if n % 1 != 0.0 == True]"
   ]
  },
  {
   "cell_type": "markdown",
   "metadata": {},
   "source": [
    "weather_temperature and weather_wind_mph do not have values that do not end with .0, so we'll convert these columns to integers   \n",
    "\n",
    "To-do: convert weather_temperature and weather_wind_mph to integer"
   ]
  },
  {
   "cell_type": "code",
   "execution_count": 10,
   "metadata": {},
   "outputs": [
    {
     "name": "stdout",
     "output_type": "stream",
     "text": [
      "[nan 'DOME' 'Rain' 'Rain | Fog' 'Fog' 'Snow' 'DOME (Open Roof)'\n",
      " 'Snow | Fog' 'Snow | Freezing Rain']\n"
     ]
    }
   ],
   "source": [
    "# The first few rows of the weather_detail column are NaN. What is contained in the weather_detail column?\n",
    "\n",
    "print(df['weather_detail'].unique())"
   ]
  },
  {
   "cell_type": "markdown",
   "metadata": {},
   "source": [
    "Seems like a helpful column to contribute to our precipitation column in the database. Let's see what the unique values are in the 2019 and 2020 season."
   ]
  },
  {
   "cell_type": "code",
   "execution_count": 11,
   "metadata": {},
   "outputs": [
    {
     "data": {
      "text/html": [
       "<div>\n",
       "<style scoped>\n",
       "    .dataframe tbody tr th:only-of-type {\n",
       "        vertical-align: middle;\n",
       "    }\n",
       "\n",
       "    .dataframe tbody tr th {\n",
       "        vertical-align: top;\n",
       "    }\n",
       "\n",
       "    .dataframe thead th {\n",
       "        text-align: right;\n",
       "    }\n",
       "</style>\n",
       "<table border=\"1\" class=\"dataframe\">\n",
       "  <thead>\n",
       "    <tr style=\"text-align: right;\">\n",
       "      <th></th>\n",
       "      <th>schedule_date</th>\n",
       "      <th>schedule_season</th>\n",
       "      <th>schedule_week</th>\n",
       "      <th>schedule_playoff</th>\n",
       "      <th>team_home</th>\n",
       "      <th>score_home</th>\n",
       "      <th>score_away</th>\n",
       "      <th>team_away</th>\n",
       "      <th>team_favorite_id</th>\n",
       "      <th>spread_favorite</th>\n",
       "      <th>over_under_line</th>\n",
       "      <th>stadium</th>\n",
       "      <th>stadium_neutral</th>\n",
       "      <th>weather_temperature</th>\n",
       "      <th>weather_wind_mph</th>\n",
       "      <th>weather_humidity</th>\n",
       "      <th>weather_detail</th>\n",
       "    </tr>\n",
       "  </thead>\n",
       "  <tbody>\n",
       "    <tr>\n",
       "      <th>12412</th>\n",
       "      <td>9/8/2019</td>\n",
       "      <td>2019</td>\n",
       "      <td>1</td>\n",
       "      <td>False</td>\n",
       "      <td>Arizona Cardinals</td>\n",
       "      <td>27.0</td>\n",
       "      <td>27.0</td>\n",
       "      <td>Detroit Lions</td>\n",
       "      <td>DET</td>\n",
       "      <td>-3.0</td>\n",
       "      <td>45.5</td>\n",
       "      <td>University of Phoenix Stadium</td>\n",
       "      <td>False</td>\n",
       "      <td>72.0</td>\n",
       "      <td>0.0</td>\n",
       "      <td>NaN</td>\n",
       "      <td>DOME</td>\n",
       "    </tr>\n",
       "    <tr>\n",
       "      <th>12415</th>\n",
       "      <td>9/8/2019</td>\n",
       "      <td>2019</td>\n",
       "      <td>1</td>\n",
       "      <td>False</td>\n",
       "      <td>Dallas Cowboys</td>\n",
       "      <td>35.0</td>\n",
       "      <td>17.0</td>\n",
       "      <td>New York Giants</td>\n",
       "      <td>DAL</td>\n",
       "      <td>-7.0</td>\n",
       "      <td>44</td>\n",
       "      <td>AT&amp;T Stadium</td>\n",
       "      <td>False</td>\n",
       "      <td>72.0</td>\n",
       "      <td>0.0</td>\n",
       "      <td>NaN</td>\n",
       "      <td>DOME</td>\n",
       "    </tr>\n",
       "    <tr>\n",
       "      <th>12419</th>\n",
       "      <td>9/8/2019</td>\n",
       "      <td>2019</td>\n",
       "      <td>1</td>\n",
       "      <td>False</td>\n",
       "      <td>Minnesota Vikings</td>\n",
       "      <td>28.0</td>\n",
       "      <td>12.0</td>\n",
       "      <td>Atlanta Falcons</td>\n",
       "      <td>MIN</td>\n",
       "      <td>-3.5</td>\n",
       "      <td>47</td>\n",
       "      <td>U.S. Bank Stadium</td>\n",
       "      <td>False</td>\n",
       "      <td>72.0</td>\n",
       "      <td>0.0</td>\n",
       "      <td>NaN</td>\n",
       "      <td>DOME</td>\n",
       "    </tr>\n",
       "    <tr>\n",
       "      <th>12425</th>\n",
       "      <td>9/9/2019</td>\n",
       "      <td>2019</td>\n",
       "      <td>1</td>\n",
       "      <td>False</td>\n",
       "      <td>New Orleans Saints</td>\n",
       "      <td>30.0</td>\n",
       "      <td>28.0</td>\n",
       "      <td>Houston Texans</td>\n",
       "      <td>NO</td>\n",
       "      <td>-6.5</td>\n",
       "      <td>51.5</td>\n",
       "      <td>Mercedes-Benz Superdome</td>\n",
       "      <td>False</td>\n",
       "      <td>72.0</td>\n",
       "      <td>0.0</td>\n",
       "      <td>NaN</td>\n",
       "      <td>DOME</td>\n",
       "    </tr>\n",
       "    <tr>\n",
       "      <th>12428</th>\n",
       "      <td>9/15/2019</td>\n",
       "      <td>2019</td>\n",
       "      <td>2</td>\n",
       "      <td>False</td>\n",
       "      <td>Atlanta Falcons</td>\n",
       "      <td>24.0</td>\n",
       "      <td>20.0</td>\n",
       "      <td>Philadelphia Eagles</td>\n",
       "      <td>PHI</td>\n",
       "      <td>-1.0</td>\n",
       "      <td>53</td>\n",
       "      <td>Mercedes-Benz Stadium</td>\n",
       "      <td>False</td>\n",
       "      <td>72.0</td>\n",
       "      <td>0.0</td>\n",
       "      <td>NaN</td>\n",
       "      <td>DOME</td>\n",
       "    </tr>\n",
       "    <tr>\n",
       "      <th>...</th>\n",
       "      <td>...</td>\n",
       "      <td>...</td>\n",
       "      <td>...</td>\n",
       "      <td>...</td>\n",
       "      <td>...</td>\n",
       "      <td>...</td>\n",
       "      <td>...</td>\n",
       "      <td>...</td>\n",
       "      <td>...</td>\n",
       "      <td>...</td>\n",
       "      <td>...</td>\n",
       "      <td>...</td>\n",
       "      <td>...</td>\n",
       "      <td>...</td>\n",
       "      <td>...</td>\n",
       "      <td>...</td>\n",
       "      <td>...</td>\n",
       "    </tr>\n",
       "    <tr>\n",
       "      <th>12907</th>\n",
       "      <td>12/27/2020</td>\n",
       "      <td>2020</td>\n",
       "      <td>16</td>\n",
       "      <td>False</td>\n",
       "      <td>Dallas Cowboys</td>\n",
       "      <td>37.0</td>\n",
       "      <td>17.0</td>\n",
       "      <td>Philadelphia Eagles</td>\n",
       "      <td>PHI</td>\n",
       "      <td>-3.0</td>\n",
       "      <td>50.5</td>\n",
       "      <td>AT&amp;T Stadium</td>\n",
       "      <td>False</td>\n",
       "      <td>72.0</td>\n",
       "      <td>0.0</td>\n",
       "      <td>NaN</td>\n",
       "      <td>DOME</td>\n",
       "    </tr>\n",
       "    <tr>\n",
       "      <th>12909</th>\n",
       "      <td>12/27/2020</td>\n",
       "      <td>2020</td>\n",
       "      <td>16</td>\n",
       "      <td>False</td>\n",
       "      <td>Houston Texans</td>\n",
       "      <td>31.0</td>\n",
       "      <td>37.0</td>\n",
       "      <td>Cincinnati Bengals</td>\n",
       "      <td>HOU</td>\n",
       "      <td>-7.5</td>\n",
       "      <td>46</td>\n",
       "      <td>NRG Stadium</td>\n",
       "      <td>False</td>\n",
       "      <td>72.0</td>\n",
       "      <td>0.0</td>\n",
       "      <td>NaN</td>\n",
       "      <td>DOME</td>\n",
       "    </tr>\n",
       "    <tr>\n",
       "      <th>12924</th>\n",
       "      <td>1/3/2021</td>\n",
       "      <td>2020</td>\n",
       "      <td>17</td>\n",
       "      <td>False</td>\n",
       "      <td>Detroit Lions</td>\n",
       "      <td>35.0</td>\n",
       "      <td>37.0</td>\n",
       "      <td>Minnesota Vikings</td>\n",
       "      <td>MIN</td>\n",
       "      <td>-3.0</td>\n",
       "      <td>53.5</td>\n",
       "      <td>Ford Field</td>\n",
       "      <td>False</td>\n",
       "      <td>72.0</td>\n",
       "      <td>0.0</td>\n",
       "      <td>NaN</td>\n",
       "      <td>DOME</td>\n",
       "    </tr>\n",
       "    <tr>\n",
       "      <th>12925</th>\n",
       "      <td>1/3/2021</td>\n",
       "      <td>2020</td>\n",
       "      <td>17</td>\n",
       "      <td>False</td>\n",
       "      <td>Houston Texans</td>\n",
       "      <td>38.0</td>\n",
       "      <td>41.0</td>\n",
       "      <td>Tennessee Titans</td>\n",
       "      <td>TEN</td>\n",
       "      <td>-7.0</td>\n",
       "      <td>55.5</td>\n",
       "      <td>NRG Stadium</td>\n",
       "      <td>False</td>\n",
       "      <td>72.0</td>\n",
       "      <td>0.0</td>\n",
       "      <td>NaN</td>\n",
       "      <td>DOME</td>\n",
       "    </tr>\n",
       "    <tr>\n",
       "      <th>12926</th>\n",
       "      <td>1/3/2021</td>\n",
       "      <td>2020</td>\n",
       "      <td>17</td>\n",
       "      <td>False</td>\n",
       "      <td>Indianapolis Colts</td>\n",
       "      <td>28.0</td>\n",
       "      <td>14.0</td>\n",
       "      <td>Jacksonville Jaguars</td>\n",
       "      <td>IND</td>\n",
       "      <td>-15.5</td>\n",
       "      <td>48</td>\n",
       "      <td>Lucas Oil Stadium</td>\n",
       "      <td>False</td>\n",
       "      <td>72.0</td>\n",
       "      <td>0.0</td>\n",
       "      <td>NaN</td>\n",
       "      <td>DOME</td>\n",
       "    </tr>\n",
       "  </tbody>\n",
       "</table>\n",
       "<p>128 rows × 17 columns</p>\n",
       "</div>"
      ],
      "text/plain": [
       "      schedule_date  schedule_season schedule_week  schedule_playoff  \\\n",
       "12412      9/8/2019             2019             1             False   \n",
       "12415      9/8/2019             2019             1             False   \n",
       "12419      9/8/2019             2019             1             False   \n",
       "12425      9/9/2019             2019             1             False   \n",
       "12428     9/15/2019             2019             2             False   \n",
       "...             ...              ...           ...               ...   \n",
       "12907    12/27/2020             2020            16             False   \n",
       "12909    12/27/2020             2020            16             False   \n",
       "12924      1/3/2021             2020            17             False   \n",
       "12925      1/3/2021             2020            17             False   \n",
       "12926      1/3/2021             2020            17             False   \n",
       "\n",
       "                team_home  score_home  score_away             team_away  \\\n",
       "12412   Arizona Cardinals        27.0        27.0         Detroit Lions   \n",
       "12415      Dallas Cowboys        35.0        17.0       New York Giants   \n",
       "12419   Minnesota Vikings        28.0        12.0       Atlanta Falcons   \n",
       "12425  New Orleans Saints        30.0        28.0        Houston Texans   \n",
       "12428     Atlanta Falcons        24.0        20.0   Philadelphia Eagles   \n",
       "...                   ...         ...         ...                   ...   \n",
       "12907      Dallas Cowboys        37.0        17.0   Philadelphia Eagles   \n",
       "12909      Houston Texans        31.0        37.0    Cincinnati Bengals   \n",
       "12924       Detroit Lions        35.0        37.0     Minnesota Vikings   \n",
       "12925      Houston Texans        38.0        41.0      Tennessee Titans   \n",
       "12926  Indianapolis Colts        28.0        14.0  Jacksonville Jaguars   \n",
       "\n",
       "      team_favorite_id  spread_favorite over_under_line  \\\n",
       "12412              DET             -3.0            45.5   \n",
       "12415              DAL             -7.0              44   \n",
       "12419              MIN             -3.5              47   \n",
       "12425               NO             -6.5            51.5   \n",
       "12428              PHI             -1.0              53   \n",
       "...                ...              ...             ...   \n",
       "12907              PHI             -3.0            50.5   \n",
       "12909              HOU             -7.5              46   \n",
       "12924              MIN             -3.0            53.5   \n",
       "12925              TEN             -7.0            55.5   \n",
       "12926              IND            -15.5              48   \n",
       "\n",
       "                             stadium  stadium_neutral  weather_temperature  \\\n",
       "12412  University of Phoenix Stadium            False                 72.0   \n",
       "12415                   AT&T Stadium            False                 72.0   \n",
       "12419              U.S. Bank Stadium            False                 72.0   \n",
       "12425        Mercedes-Benz Superdome            False                 72.0   \n",
       "12428          Mercedes-Benz Stadium            False                 72.0   \n",
       "...                              ...              ...                  ...   \n",
       "12907                   AT&T Stadium            False                 72.0   \n",
       "12909                    NRG Stadium            False                 72.0   \n",
       "12924                     Ford Field            False                 72.0   \n",
       "12925                    NRG Stadium            False                 72.0   \n",
       "12926              Lucas Oil Stadium            False                 72.0   \n",
       "\n",
       "       weather_wind_mph weather_humidity weather_detail  \n",
       "12412               0.0              NaN           DOME  \n",
       "12415               0.0              NaN           DOME  \n",
       "12419               0.0              NaN           DOME  \n",
       "12425               0.0              NaN           DOME  \n",
       "12428               0.0              NaN           DOME  \n",
       "...                 ...              ...            ...  \n",
       "12907               0.0              NaN           DOME  \n",
       "12909               0.0              NaN           DOME  \n",
       "12924               0.0              NaN           DOME  \n",
       "12925               0.0              NaN           DOME  \n",
       "12926               0.0              NaN           DOME  \n",
       "\n",
       "[128 rows x 17 columns]"
      ]
     },
     "execution_count": 11,
     "metadata": {},
     "output_type": "execute_result"
    }
   ],
   "source": [
    "df.loc[\n",
    "    (df['weather_detail'].notnull())\n",
    "    & (df['schedule_season'] >= 2019)\n",
    "    & (df['schedule_playoff'] == False)]"
   ]
  },
  {
   "cell_type": "markdown",
   "metadata": {},
   "source": [
    "I'm seeing a pattern: 128 rows with all displayed being 'DOME' weather_detail values? I'll see what values appear if non-'DOME' values are selected"
   ]
  },
  {
   "cell_type": "code",
   "execution_count": 12,
   "metadata": {},
   "outputs": [
    {
     "data": {
      "text/html": [
       "<div>\n",
       "<style scoped>\n",
       "    .dataframe tbody tr th:only-of-type {\n",
       "        vertical-align: middle;\n",
       "    }\n",
       "\n",
       "    .dataframe tbody tr th {\n",
       "        vertical-align: top;\n",
       "    }\n",
       "\n",
       "    .dataframe thead th {\n",
       "        text-align: right;\n",
       "    }\n",
       "</style>\n",
       "<table border=\"1\" class=\"dataframe\">\n",
       "  <thead>\n",
       "    <tr style=\"text-align: right;\">\n",
       "      <th></th>\n",
       "      <th>schedule_date</th>\n",
       "      <th>schedule_season</th>\n",
       "      <th>schedule_week</th>\n",
       "      <th>schedule_playoff</th>\n",
       "      <th>team_home</th>\n",
       "      <th>score_home</th>\n",
       "      <th>score_away</th>\n",
       "      <th>team_away</th>\n",
       "      <th>team_favorite_id</th>\n",
       "      <th>spread_favorite</th>\n",
       "      <th>over_under_line</th>\n",
       "      <th>stadium</th>\n",
       "      <th>stadium_neutral</th>\n",
       "      <th>weather_temperature</th>\n",
       "      <th>weather_wind_mph</th>\n",
       "      <th>weather_humidity</th>\n",
       "      <th>weather_detail</th>\n",
       "    </tr>\n",
       "  </thead>\n",
       "  <tbody>\n",
       "    <tr>\n",
       "      <th>12411</th>\n",
       "      <td>9/5/2019</td>\n",
       "      <td>2019</td>\n",
       "      <td>1</td>\n",
       "      <td>False</td>\n",
       "      <td>Chicago Bears</td>\n",
       "      <td>3.0</td>\n",
       "      <td>10.0</td>\n",
       "      <td>Green Bay Packers</td>\n",
       "      <td>CHI</td>\n",
       "      <td>-3.0</td>\n",
       "      <td>46.5</td>\n",
       "      <td>Soldier Field</td>\n",
       "      <td>False</td>\n",
       "      <td>NaN</td>\n",
       "      <td>NaN</td>\n",
       "      <td>NaN</td>\n",
       "      <td>NaN</td>\n",
       "    </tr>\n",
       "    <tr>\n",
       "      <th>12413</th>\n",
       "      <td>9/8/2019</td>\n",
       "      <td>2019</td>\n",
       "      <td>1</td>\n",
       "      <td>False</td>\n",
       "      <td>Carolina Panthers</td>\n",
       "      <td>27.0</td>\n",
       "      <td>30.0</td>\n",
       "      <td>Los Angeles Rams</td>\n",
       "      <td>LAR</td>\n",
       "      <td>-2.0</td>\n",
       "      <td>49.5</td>\n",
       "      <td>Bank of America Stadium</td>\n",
       "      <td>False</td>\n",
       "      <td>NaN</td>\n",
       "      <td>NaN</td>\n",
       "      <td>NaN</td>\n",
       "      <td>NaN</td>\n",
       "    </tr>\n",
       "    <tr>\n",
       "      <th>12414</th>\n",
       "      <td>9/8/2019</td>\n",
       "      <td>2019</td>\n",
       "      <td>1</td>\n",
       "      <td>False</td>\n",
       "      <td>Cleveland Browns</td>\n",
       "      <td>13.0</td>\n",
       "      <td>43.0</td>\n",
       "      <td>Tennessee Titans</td>\n",
       "      <td>CLE</td>\n",
       "      <td>-5.5</td>\n",
       "      <td>44</td>\n",
       "      <td>FirstEnergy Stadium</td>\n",
       "      <td>False</td>\n",
       "      <td>NaN</td>\n",
       "      <td>NaN</td>\n",
       "      <td>NaN</td>\n",
       "      <td>NaN</td>\n",
       "    </tr>\n",
       "    <tr>\n",
       "      <th>12416</th>\n",
       "      <td>9/8/2019</td>\n",
       "      <td>2019</td>\n",
       "      <td>1</td>\n",
       "      <td>False</td>\n",
       "      <td>Jacksonville Jaguars</td>\n",
       "      <td>26.0</td>\n",
       "      <td>40.0</td>\n",
       "      <td>Kansas City Chiefs</td>\n",
       "      <td>KC</td>\n",
       "      <td>-3.5</td>\n",
       "      <td>49</td>\n",
       "      <td>TIAA Bank Field</td>\n",
       "      <td>False</td>\n",
       "      <td>NaN</td>\n",
       "      <td>NaN</td>\n",
       "      <td>NaN</td>\n",
       "      <td>NaN</td>\n",
       "    </tr>\n",
       "    <tr>\n",
       "      <th>12417</th>\n",
       "      <td>9/8/2019</td>\n",
       "      <td>2019</td>\n",
       "      <td>1</td>\n",
       "      <td>False</td>\n",
       "      <td>Los Angeles Chargers</td>\n",
       "      <td>30.0</td>\n",
       "      <td>24.0</td>\n",
       "      <td>Indianapolis Colts</td>\n",
       "      <td>LAC</td>\n",
       "      <td>-6.0</td>\n",
       "      <td>44.5</td>\n",
       "      <td>StubHub Center</td>\n",
       "      <td>False</td>\n",
       "      <td>NaN</td>\n",
       "      <td>NaN</td>\n",
       "      <td>NaN</td>\n",
       "      <td>NaN</td>\n",
       "    </tr>\n",
       "    <tr>\n",
       "      <th>...</th>\n",
       "      <td>...</td>\n",
       "      <td>...</td>\n",
       "      <td>...</td>\n",
       "      <td>...</td>\n",
       "      <td>...</td>\n",
       "      <td>...</td>\n",
       "      <td>...</td>\n",
       "      <td>...</td>\n",
       "      <td>...</td>\n",
       "      <td>...</td>\n",
       "      <td>...</td>\n",
       "      <td>...</td>\n",
       "      <td>...</td>\n",
       "      <td>...</td>\n",
       "      <td>...</td>\n",
       "      <td>...</td>\n",
       "      <td>...</td>\n",
       "    </tr>\n",
       "    <tr>\n",
       "      <th>12929</th>\n",
       "      <td>1/3/2021</td>\n",
       "      <td>2020</td>\n",
       "      <td>17</td>\n",
       "      <td>False</td>\n",
       "      <td>New England Patriots</td>\n",
       "      <td>28.0</td>\n",
       "      <td>14.0</td>\n",
       "      <td>New York Jets</td>\n",
       "      <td>NE</td>\n",
       "      <td>-3.0</td>\n",
       "      <td>41</td>\n",
       "      <td>Gillette Stadium</td>\n",
       "      <td>False</td>\n",
       "      <td>NaN</td>\n",
       "      <td>NaN</td>\n",
       "      <td>NaN</td>\n",
       "      <td>NaN</td>\n",
       "    </tr>\n",
       "    <tr>\n",
       "      <th>12930</th>\n",
       "      <td>1/3/2021</td>\n",
       "      <td>2020</td>\n",
       "      <td>17</td>\n",
       "      <td>False</td>\n",
       "      <td>New York Giants</td>\n",
       "      <td>23.0</td>\n",
       "      <td>19.0</td>\n",
       "      <td>Dallas Cowboys</td>\n",
       "      <td>DAL</td>\n",
       "      <td>-1.5</td>\n",
       "      <td>43.5</td>\n",
       "      <td>MetLife Stadium</td>\n",
       "      <td>False</td>\n",
       "      <td>NaN</td>\n",
       "      <td>NaN</td>\n",
       "      <td>NaN</td>\n",
       "      <td>NaN</td>\n",
       "    </tr>\n",
       "    <tr>\n",
       "      <th>12931</th>\n",
       "      <td>1/3/2021</td>\n",
       "      <td>2020</td>\n",
       "      <td>17</td>\n",
       "      <td>False</td>\n",
       "      <td>Philadelphia Eagles</td>\n",
       "      <td>14.0</td>\n",
       "      <td>20.0</td>\n",
       "      <td>Washington Football Team</td>\n",
       "      <td>WAS</td>\n",
       "      <td>-6.5</td>\n",
       "      <td>43.5</td>\n",
       "      <td>Lincoln Financial Field</td>\n",
       "      <td>False</td>\n",
       "      <td>NaN</td>\n",
       "      <td>NaN</td>\n",
       "      <td>NaN</td>\n",
       "      <td>NaN</td>\n",
       "    </tr>\n",
       "    <tr>\n",
       "      <th>12932</th>\n",
       "      <td>1/3/2021</td>\n",
       "      <td>2020</td>\n",
       "      <td>17</td>\n",
       "      <td>False</td>\n",
       "      <td>San Francisco 49ers</td>\n",
       "      <td>23.0</td>\n",
       "      <td>26.0</td>\n",
       "      <td>Seattle Seahawks</td>\n",
       "      <td>SEA</td>\n",
       "      <td>-7.0</td>\n",
       "      <td>45</td>\n",
       "      <td>Levi's Stadium</td>\n",
       "      <td>False</td>\n",
       "      <td>NaN</td>\n",
       "      <td>NaN</td>\n",
       "      <td>NaN</td>\n",
       "      <td>NaN</td>\n",
       "    </tr>\n",
       "    <tr>\n",
       "      <th>12933</th>\n",
       "      <td>1/3/2021</td>\n",
       "      <td>2020</td>\n",
       "      <td>17</td>\n",
       "      <td>False</td>\n",
       "      <td>Tampa Bay Buccaneers</td>\n",
       "      <td>44.0</td>\n",
       "      <td>27.0</td>\n",
       "      <td>Atlanta Falcons</td>\n",
       "      <td>TB</td>\n",
       "      <td>-7.0</td>\n",
       "      <td>51</td>\n",
       "      <td>Raymond James Stadium</td>\n",
       "      <td>False</td>\n",
       "      <td>NaN</td>\n",
       "      <td>NaN</td>\n",
       "      <td>NaN</td>\n",
       "      <td>NaN</td>\n",
       "    </tr>\n",
       "  </tbody>\n",
       "</table>\n",
       "<p>384 rows × 17 columns</p>\n",
       "</div>"
      ],
      "text/plain": [
       "      schedule_date  schedule_season schedule_week  schedule_playoff  \\\n",
       "12411      9/5/2019             2019             1             False   \n",
       "12413      9/8/2019             2019             1             False   \n",
       "12414      9/8/2019             2019             1             False   \n",
       "12416      9/8/2019             2019             1             False   \n",
       "12417      9/8/2019             2019             1             False   \n",
       "...             ...              ...           ...               ...   \n",
       "12929      1/3/2021             2020            17             False   \n",
       "12930      1/3/2021             2020            17             False   \n",
       "12931      1/3/2021             2020            17             False   \n",
       "12932      1/3/2021             2020            17             False   \n",
       "12933      1/3/2021             2020            17             False   \n",
       "\n",
       "                  team_home  score_home  score_away                 team_away  \\\n",
       "12411         Chicago Bears         3.0        10.0         Green Bay Packers   \n",
       "12413     Carolina Panthers        27.0        30.0          Los Angeles Rams   \n",
       "12414      Cleveland Browns        13.0        43.0          Tennessee Titans   \n",
       "12416  Jacksonville Jaguars        26.0        40.0        Kansas City Chiefs   \n",
       "12417  Los Angeles Chargers        30.0        24.0        Indianapolis Colts   \n",
       "...                     ...         ...         ...                       ...   \n",
       "12929  New England Patriots        28.0        14.0             New York Jets   \n",
       "12930       New York Giants        23.0        19.0            Dallas Cowboys   \n",
       "12931   Philadelphia Eagles        14.0        20.0  Washington Football Team   \n",
       "12932   San Francisco 49ers        23.0        26.0          Seattle Seahawks   \n",
       "12933  Tampa Bay Buccaneers        44.0        27.0           Atlanta Falcons   \n",
       "\n",
       "      team_favorite_id  spread_favorite over_under_line  \\\n",
       "12411              CHI             -3.0            46.5   \n",
       "12413              LAR             -2.0            49.5   \n",
       "12414              CLE             -5.5              44   \n",
       "12416               KC             -3.5              49   \n",
       "12417              LAC             -6.0            44.5   \n",
       "...                ...              ...             ...   \n",
       "12929               NE             -3.0              41   \n",
       "12930              DAL             -1.5            43.5   \n",
       "12931              WAS             -6.5            43.5   \n",
       "12932              SEA             -7.0              45   \n",
       "12933               TB             -7.0              51   \n",
       "\n",
       "                       stadium  stadium_neutral  weather_temperature  \\\n",
       "12411            Soldier Field            False                  NaN   \n",
       "12413  Bank of America Stadium            False                  NaN   \n",
       "12414      FirstEnergy Stadium            False                  NaN   \n",
       "12416          TIAA Bank Field            False                  NaN   \n",
       "12417           StubHub Center            False                  NaN   \n",
       "...                        ...              ...                  ...   \n",
       "12929         Gillette Stadium            False                  NaN   \n",
       "12930          MetLife Stadium            False                  NaN   \n",
       "12931  Lincoln Financial Field            False                  NaN   \n",
       "12932           Levi's Stadium            False                  NaN   \n",
       "12933    Raymond James Stadium            False                  NaN   \n",
       "\n",
       "       weather_wind_mph weather_humidity weather_detail  \n",
       "12411               NaN              NaN            NaN  \n",
       "12413               NaN              NaN            NaN  \n",
       "12414               NaN              NaN            NaN  \n",
       "12416               NaN              NaN            NaN  \n",
       "12417               NaN              NaN            NaN  \n",
       "...                 ...              ...            ...  \n",
       "12929               NaN              NaN            NaN  \n",
       "12930               NaN              NaN            NaN  \n",
       "12931               NaN              NaN            NaN  \n",
       "12932               NaN              NaN            NaN  \n",
       "12933               NaN              NaN            NaN  \n",
       "\n",
       "[384 rows x 17 columns]"
      ]
     },
     "execution_count": 12,
     "metadata": {},
     "output_type": "execute_result"
    }
   ],
   "source": [
    "df.loc[\n",
    "    (df['weather_detail'] != 'DOME')\n",
    "    & (df['schedule_season'] >= 2019)\n",
    "    & (df['schedule_playoff'] == False)]"
   ]
  },
  {
   "cell_type": "markdown",
   "metadata": {},
   "source": [
    "### Filtering the Dataset and Transforming Column Datatypes and Values\n",
    "<a id='filtering_dataset_cell'></a>\n",
    "Before progressing with further data exploration and cleaning, I'm going to start by filtering the dataset to post-2019 data and non-playoff data. I'm also going to drop the team_favorite_id, spread_favorite, and over_under_line columns as these aren't applicable for this project. I'll also transform score_home and score_away from float to integer and schedule_date to datetime."
   ]
  },
  {
   "cell_type": "code",
   "execution_count": 13,
   "metadata": {},
   "outputs": [
    {
     "name": "stdout",
     "output_type": "stream",
     "text": [
      "There are 512 rows and 13 columns in this dataset\n"
     ]
    }
   ],
   "source": [
    "df = df[(df['schedule_season'] >= 2019) & (df['schedule_playoff'] == False)].drop(\n",
    "    ['team_favorite_id','spread_favorite','over_under_line','schedule_playoff'], axis = 1).astype(\n",
    "    {'score_home': int, 'score_away': int, 'schedule_week' : str, 'schedule_season' : str}\n",
    ")\n",
    "\n",
    "df['schedule_date'] = pd.to_datetime(df['schedule_date'], infer_datetime_format=True)\n",
    "\n",
    "print(\"There are {} rows and {} columns in this dataset\".format(df.shape[0], df.shape[1]))"
   ]
  },
  {
   "cell_type": "markdown",
   "metadata": {},
   "source": [
    "Next, I'll convert the team names in the team_home and team_away columns into the abbreviations that are the column names in the opponents_table within the database schema using a dictionary."
   ]
  },
  {
   "cell_type": "code",
   "execution_count": 14,
   "metadata": {},
   "outputs": [],
   "source": [
    "team_dict = {\n",
    "    \"Arizona Cardinals\":\"ARZ\",\n",
    "    \"Atlanta Falcons\":\"ATL\",\n",
    "    \"Baltimore Ravens\":\"BLT\",\n",
    "    \"Buffalo Bills\":\"BUF\",\n",
    "    \"Carolina Panthers\":\"CAR\",\n",
    "    \"Chicago Bears\":\"CHI\",\n",
    "    \"Cincinnati Bengals\":\"CIN\",\n",
    "    \"Cleveland Browns\":\"CLV\",\n",
    "    \"Dallas Cowboys\":\"DAL\",\n",
    "    \"Denver Broncos\":\"DEN\",\n",
    "    \"Detroit Lions\":\"DET\",\n",
    "    \"Green Bay Packers\":\"GB\",\n",
    "    \"Houston Texans\":\"HST\",\n",
    "    \"Indianapolis Colts\":\"IND\",\n",
    "    \"Jacksonville Jaguars\":\"JAX\",\n",
    "    \"Kansas City Chiefs\":\"KC\",\n",
    "    \"Oakland Raiders\":\"LV\",\n",
    "    \"Las Vegas Raiders\":\"LV\",\n",
    "    \"Los Angeles Chargers\":\"LAC\",\n",
    "    \"Los Angeles Rams\":\"LAR\",\n",
    "    \"Miami Dolphins\":\"MIA\",\n",
    "    \"Minnesota Vikings\":\"MIN\",\n",
    "    \"New England Patriots\":\"NE\",\n",
    "    \"New Orleans Saints\":\"NO\",\n",
    "    \"New York Giants\":\"NYG\",\n",
    "    \"New York Jets\":\"NYJ\",\n",
    "    \"Philadelphia Eagles\":\"PHI\",\n",
    "    \"Pittsburgh Steelers\":\"PIT\",\n",
    "    \"San Francisco 49ers\":\"SF\",\n",
    "    \"Seattle Seahawks\":\"SEA\",\n",
    "    \"Tampa Bay Buccaneers\":\"TB\",\n",
    "    \"Tennessee Titans\":\"TEN\",\n",
    "    \"Washington Redskins\":\"WAS\",\n",
    "    \"Washington Football Team\":\"WAS\"\n",
    "}"
   ]
  },
  {
   "cell_type": "code",
   "execution_count": 15,
   "metadata": {},
   "outputs": [],
   "source": [
    "df['team_away_short'] = df['team_away'].map(team_dict)\n",
    "df['team_home_short'] = df['team_home'].map(team_dict)"
   ]
  },
  {
   "cell_type": "markdown",
   "metadata": {},
   "source": [
    "Next, I'll create the week_id column using the schedule_season and schedule_week columns to add to the database. I'll keep the schedule_season and schedule_week columns in case I need to order by week (since the week_id column is a string and not sortable) or filter by year"
   ]
  },
  {
   "cell_type": "code",
   "execution_count": 16,
   "metadata": {},
   "outputs": [],
   "source": [
    "df['week_id'] = df['schedule_season'] + \"_\" + df['schedule_week']"
   ]
  },
  {
   "cell_type": "markdown",
   "metadata": {},
   "source": [
    "Now I'll make the week_day column by iterating through the schedule_date column using the weekday() method from the datetime package"
   ]
  },
  {
   "cell_type": "code",
   "execution_count": 17,
   "metadata": {},
   "outputs": [],
   "source": [
    "df['week_day'] = [x.weekday() for x in df['schedule_date']]"
   ]
  },
  {
   "cell_type": "code",
   "execution_count": 18,
   "metadata": {},
   "outputs": [],
   "source": [
    "team_names = df['team_home'].unique()"
   ]
  },
  {
   "cell_type": "markdown",
   "metadata": {},
   "source": [
    "Next, I'll engineer the ```days_since_last_game``` column identified as needed in our architecture, which I'll make using ```schedule_date, team_away, team_home``` and ```schedule_week```"
   ]
  },
  {
   "cell_type": "code",
   "execution_count": 229,
   "metadata": {},
   "outputs": [
    {
     "data": {
      "text/html": [
       "<div>\n",
       "<style scoped>\n",
       "    .dataframe tbody tr th:only-of-type {\n",
       "        vertical-align: middle;\n",
       "    }\n",
       "\n",
       "    .dataframe tbody tr th {\n",
       "        vertical-align: top;\n",
       "    }\n",
       "\n",
       "    .dataframe thead th {\n",
       "        text-align: right;\n",
       "    }\n",
       "</style>\n",
       "<table border=\"1\" class=\"dataframe\">\n",
       "  <thead>\n",
       "    <tr style=\"text-align: right;\">\n",
       "      <th></th>\n",
       "      <th>team_name</th>\n",
       "      <th>week_id</th>\n",
       "      <th>days_since_last_game</th>\n",
       "    </tr>\n",
       "  </thead>\n",
       "  <tbody>\n",
       "    <tr>\n",
       "      <th>0</th>\n",
       "      <td>CHI</td>\n",
       "      <td>2019_1</td>\n",
       "      <td>NaN</td>\n",
       "    </tr>\n",
       "    <tr>\n",
       "      <th>1</th>\n",
       "      <td>CHI</td>\n",
       "      <td>2019_2</td>\n",
       "      <td>10.0</td>\n",
       "    </tr>\n",
       "    <tr>\n",
       "      <th>2</th>\n",
       "      <td>CHI</td>\n",
       "      <td>2019_3</td>\n",
       "      <td>8.0</td>\n",
       "    </tr>\n",
       "    <tr>\n",
       "      <th>3</th>\n",
       "      <td>CHI</td>\n",
       "      <td>2019_4</td>\n",
       "      <td>6.0</td>\n",
       "    </tr>\n",
       "    <tr>\n",
       "      <th>4</th>\n",
       "      <td>CHI</td>\n",
       "      <td>2019_5</td>\n",
       "      <td>7.0</td>\n",
       "    </tr>\n",
       "  </tbody>\n",
       "</table>\n",
       "</div>"
      ],
      "text/plain": [
       "  team_name week_id  days_since_last_game\n",
       "0       CHI  2019_1                   NaN\n",
       "1       CHI  2019_2                  10.0\n",
       "2       CHI  2019_3                   8.0\n",
       "3       CHI  2019_4                   6.0\n",
       "4       CHI  2019_5                   7.0"
      ]
     },
     "execution_count": 229,
     "metadata": {},
     "output_type": "execute_result"
    }
   ],
   "source": [
    "cols = ['team_home_short', 'team_away_short']\n",
    "\n",
    "teams = df['team_home_short'].unique()\n",
    "\n",
    "# Create new columns for all teams as long as they appear in either home or away\n",
    "for n in teams:\n",
    "    df[n] = (df[cols] == n).any(axis = \"columns\")\n",
    "    \n",
    "# Create new columns for all teams where we record days since they last played\n",
    "for n in teams:\n",
    "    df[n+'_days_since_last_game'] = df[df[n] == True].groupby(n)['schedule_date'].diff().apply(lambda x: x.days)\n",
    "\n",
    "\n",
    "days_since_last_game_df = pd.DataFrame()\n",
    "\n",
    "team_name = []\n",
    "week_id = []\n",
    "days_since_last_game = []\n",
    "\n",
    "for n in teams:\n",
    "    for x in range(0,df.shape[0]):\n",
    "        if df.iloc[x][n] == True:\n",
    "            team_name.append(n)\n",
    "            week_id.append(df['week_id'].iloc[x])\n",
    "            days_since_last_game.append(df[n+'_days_since_last_game'].iloc[x])\n",
    "        else:\n",
    "            pass\n",
    "            \n",
    "days_since_last_game_df['team_name'] = team_name\n",
    "days_since_last_game_df['week_id'] = week_id\n",
    "days_since_last_game_df['days_since_last_game'] = days_since_last_game\n",
    "\n",
    "days_since_last_game_df.head()"
   ]
  },
  {
   "cell_type": "code",
   "execution_count": 232,
   "metadata": {},
   "outputs": [],
   "source": [
    "days_since_last_game_df['days_since_last_game'] = days_since_last_game_df['days_since_last_game'].fillna(365)"
   ]
  },
  {
   "cell_type": "code",
   "execution_count": 233,
   "metadata": {},
   "outputs": [],
   "source": [
    "days_since_last_game_df['days_since_last_game'] = [int(x) for x in days_since_last_game_df['days_since_last_game']]"
   ]
  },
  {
   "cell_type": "code",
   "execution_count": 234,
   "metadata": {},
   "outputs": [
    {
     "data": {
      "text/html": [
       "<div>\n",
       "<style scoped>\n",
       "    .dataframe tbody tr th:only-of-type {\n",
       "        vertical-align: middle;\n",
       "    }\n",
       "\n",
       "    .dataframe tbody tr th {\n",
       "        vertical-align: top;\n",
       "    }\n",
       "\n",
       "    .dataframe thead th {\n",
       "        text-align: right;\n",
       "    }\n",
       "</style>\n",
       "<table border=\"1\" class=\"dataframe\">\n",
       "  <thead>\n",
       "    <tr style=\"text-align: right;\">\n",
       "      <th></th>\n",
       "      <th>team_name</th>\n",
       "      <th>week_id</th>\n",
       "      <th>days_since_last_game</th>\n",
       "    </tr>\n",
       "  </thead>\n",
       "  <tbody>\n",
       "    <tr>\n",
       "      <th>0</th>\n",
       "      <td>CHI</td>\n",
       "      <td>2019_1</td>\n",
       "      <td>365</td>\n",
       "    </tr>\n",
       "    <tr>\n",
       "      <th>1</th>\n",
       "      <td>CHI</td>\n",
       "      <td>2019_2</td>\n",
       "      <td>10</td>\n",
       "    </tr>\n",
       "    <tr>\n",
       "      <th>2</th>\n",
       "      <td>CHI</td>\n",
       "      <td>2019_3</td>\n",
       "      <td>8</td>\n",
       "    </tr>\n",
       "    <tr>\n",
       "      <th>3</th>\n",
       "      <td>CHI</td>\n",
       "      <td>2019_4</td>\n",
       "      <td>6</td>\n",
       "    </tr>\n",
       "    <tr>\n",
       "      <th>4</th>\n",
       "      <td>CHI</td>\n",
       "      <td>2019_5</td>\n",
       "      <td>7</td>\n",
       "    </tr>\n",
       "    <tr>\n",
       "      <th>...</th>\n",
       "      <td>...</td>\n",
       "      <td>...</td>\n",
       "      <td>...</td>\n",
       "    </tr>\n",
       "    <tr>\n",
       "      <th>1019</th>\n",
       "      <td>SF</td>\n",
       "      <td>2020_13</td>\n",
       "      <td>8</td>\n",
       "    </tr>\n",
       "    <tr>\n",
       "      <th>1020</th>\n",
       "      <td>SF</td>\n",
       "      <td>2020_14</td>\n",
       "      <td>6</td>\n",
       "    </tr>\n",
       "    <tr>\n",
       "      <th>1021</th>\n",
       "      <td>SF</td>\n",
       "      <td>2020_15</td>\n",
       "      <td>7</td>\n",
       "    </tr>\n",
       "    <tr>\n",
       "      <th>1022</th>\n",
       "      <td>SF</td>\n",
       "      <td>2020_16</td>\n",
       "      <td>6</td>\n",
       "    </tr>\n",
       "    <tr>\n",
       "      <th>1023</th>\n",
       "      <td>SF</td>\n",
       "      <td>2020_17</td>\n",
       "      <td>8</td>\n",
       "    </tr>\n",
       "  </tbody>\n",
       "</table>\n",
       "<p>1024 rows × 3 columns</p>\n",
       "</div>"
      ],
      "text/plain": [
       "     team_name  week_id  days_since_last_game\n",
       "0          CHI   2019_1                   365\n",
       "1          CHI   2019_2                    10\n",
       "2          CHI   2019_3                     8\n",
       "3          CHI   2019_4                     6\n",
       "4          CHI   2019_5                     7\n",
       "...        ...      ...                   ...\n",
       "1019        SF  2020_13                     8\n",
       "1020        SF  2020_14                     6\n",
       "1021        SF  2020_15                     7\n",
       "1022        SF  2020_16                     6\n",
       "1023        SF  2020_17                     8\n",
       "\n",
       "[1024 rows x 3 columns]"
      ]
     },
     "execution_count": 234,
     "metadata": {},
     "output_type": "execute_result"
    }
   ],
   "source": [
    "days_since_last_game_df"
   ]
  },
  {
   "cell_type": "markdown",
   "metadata": {},
   "source": [
    "Now that I have satsifed the need for these columns for our database, I'll make a new dataframe and drop all rows made during this process"
   ]
  },
  {
   "cell_type": "code",
   "execution_count": 235,
   "metadata": {},
   "outputs": [],
   "source": [
    "days_since_last_game_df.to_csv('../../fixtures/cleaned_data/days_since_last_game.csv')"
   ]
  },
  {
   "cell_type": "code",
   "execution_count": 237,
   "metadata": {},
   "outputs": [],
   "source": [
    "df = df.drop([\n",
    " 'SEA',\n",
    " 'CHI',\n",
    " 'ARZ',\n",
    " 'CAR',\n",
    " 'CLV',\n",
    " 'DAL',\n",
    " 'JAX',\n",
    " 'LAC',\n",
    " 'MIA',\n",
    " 'MIN',\n",
    " 'NE',\n",
    " 'NYJ',\n",
    " 'PHI',\n",
    " 'TB',\n",
    " 'NO',\n",
    " 'LV',\n",
    " 'ATL',\n",
    " 'BLT',\n",
    " 'CIN',\n",
    " 'DEN',\n",
    " 'DET',\n",
    " 'GB',\n",
    " 'HST',\n",
    " 'LAR',\n",
    " 'NYG',\n",
    " 'PIT',\n",
    " 'TEN',\n",
    " 'WAS',\n",
    " 'BUF',\n",
    " 'IND',\n",
    " 'KC',\n",
    " 'SF',\n",
    " 'CHI_days_since_last_game',\n",
    " 'ARZ_days_since_last_game',\n",
    " 'CAR_days_since_last_game',\n",
    " 'CLV_days_since_last_game',\n",
    " 'DAL_days_since_last_game',\n",
    " 'JAX_days_since_last_game',\n",
    " 'LAC_days_since_last_game',\n",
    " 'MIA_days_since_last_game',\n",
    " 'MIN_days_since_last_game',\n",
    " 'NE_days_since_last_game',\n",
    " 'NYJ_days_since_last_game',\n",
    " 'PHI_days_since_last_game',\n",
    " 'SEA_days_since_last_game',\n",
    " 'TB_days_since_last_game',\n",
    " 'NO_days_since_last_game',\n",
    " 'LV_days_since_last_game',\n",
    " 'ATL_days_since_last_game',\n",
    " 'BLT_days_since_last_game',\n",
    " 'CIN_days_since_last_game',\n",
    " 'DEN_days_since_last_game',\n",
    " 'DET_days_since_last_game',\n",
    " 'GB_days_since_last_game',\n",
    " 'HST_days_since_last_game',\n",
    " 'LAR_days_since_last_game',\n",
    " 'NYG_days_since_last_game',\n",
    " 'PIT_days_since_last_game',\n",
    " 'TEN_days_since_last_game',\n",
    " 'WAS_days_since_last_game',\n",
    " 'BUF_days_since_last_game',\n",
    " 'IND_days_since_last_game',\n",
    " 'KC_days_since_last_game',\n",
    " 'SF_days_since_last_game'\n",
    "], axis = 1)"
   ]
  },
  {
   "cell_type": "markdown",
   "metadata": {},
   "source": [
    "### Finding and Addressing Null Values\n",
    "<a id='finding_addressing_null_values_cell'></a>"
   ]
  },
  {
   "cell_type": "code",
   "execution_count": 238,
   "metadata": {},
   "outputs": [
    {
     "data": {
      "image/png": "[encoded data removed]",
      "text/plain": [
       "<Figure size 1800x720 with 2 Axes>"
      ]
     },
     "metadata": {
      "needs_background": "light"
     },
     "output_type": "display_data"
    }
   ],
   "source": [
    "msno.matrix(df) # show missing values with a missing number matrix\n",
    "plt.show() # hide image metadata"
   ]
  },
  {
   "cell_type": "markdown",
   "metadata": {},
   "source": [
    "The far right vertical bar shows us that the columns with null values range between 13 and 16 nulls. The temperature, wind, and weather detail columns are spotty in terms of nulls, and humidity looks to be blank altogether. We'll need to fill in these gaps "
   ]
  },
  {
   "cell_type": "markdown",
   "metadata": {},
   "source": [
    "### Addressing Null Weather Values\n",
    "<a id='addressing_null_weather_values_cell'></a>\n",
    "To fill in the weather column gaps and seek other weather factors for use in our data, I will be using data from [NFLWeather.com](http://www.nflweather.com/), which does not have an API but does have a sensible URL structure from which I can pull weather data.   \n",
    "\n",
    "I'll \n",
    "\n",
    "I'll start by making a new column that holds the last word of each team name and converting it to all lower case letters, then I'll create another column for the last part of the URL and finally go through all values in this URL column to pull our weather data.   \n",
    "\n",
    "Finally, I'll take my new weather data, use the fillna() method to full in my null values and then get rid of the extra columns created during this process."
   ]
  },
  {
   "cell_type": "code",
   "execution_count": 23,
   "metadata": {},
   "outputs": [],
   "source": [
    "f = lambda x: x['team_away'].split()[-1].lower()\n",
    "f1 = lambda x: x['team_home'].split()[-1].lower()"
   ]
  },
  {
   "cell_type": "code",
   "execution_count": 24,
   "metadata": {},
   "outputs": [],
   "source": [
    "df['team_away_last'] = df.apply(f, axis =1)\n",
    "df['team_home_last'] = df.apply(f1, axis = 1)"
   ]
  },
  {
   "cell_type": "code",
   "execution_count": 25,
   "metadata": {},
   "outputs": [],
   "source": [
    "df['weather_url'] = df['schedule_season'] + '/week-' + df['schedule_week'] + '/' + df['team_away_last'] + '-at-' + df['team_home_last']"
   ]
  },
  {
   "cell_type": "code",
   "execution_count": 26,
   "metadata": {},
   "outputs": [],
   "source": [
    "detail = []\n",
    "temp = []\n",
    "wind = []\n",
    "humidity = []\n",
    "cloud_cover = []\n",
    "precipitation = []\n",
    "\n",
    "for n in df['weather_url']:\n",
    "    \n",
    "    try:\n",
    "    \n",
    "        source = urllib.request.urlopen('http://www.nflweather.com/en/game/' + n).read()\n",
    "        soup = BeautifulSoup(source, 'html.parser')\n",
    "    \n",
    "        detail.append(soup.find_all('p')[3].text.strip())\n",
    "        temp.append(soup.find_all('p')[4].text.strip())\n",
    "        wind.append(soup.find_all('p')[6].text.strip())\n",
    "        humidity.append(soup.find_all('p')[7].text.strip())\n",
    "        cloud_cover.append(soup.find_all('p')[11].text.strip())\n",
    "        precipitation.append(soup.find_all('p')[12].text.strip())\n",
    "        \n",
    "    except Exception:\n",
    "        \n",
    "        try:\n",
    "            \n",
    "            source = urllib.request.urlopen('http://www.nflweather.com/en/game/' + (n.replace('team','redskins'))).read()\n",
    "            soup = BeautifulSoup(source, 'html.parser')\n",
    "\n",
    "            detail.append(soup.find_all('p')[3].text.strip())\n",
    "            temp.append(soup.find_all('p')[4].text.strip())\n",
    "            wind.append(soup.find_all('p')[6].text.strip())\n",
    "            humidity.append(soup.find_all('p')[7].text.strip())\n",
    "            cloud_cover.append(soup.find_all('p')[11].text.strip())\n",
    "            precipitation.append(soup.find_all('p')[12].text.strip())\n",
    "        \n",
    "        except Exception:\n",
    "            \n",
    "            try:\n",
    "            \n",
    "                source = urllib.request.urlopen('http://www.nflweather.com/en/game/' + (n.replace('team','football%20team'))).read()\n",
    "                soup = BeautifulSoup(source, 'html.parser')\n",
    "\n",
    "                detail.append(soup.find_all('p')[3].text.strip())\n",
    "                temp.append(soup.find_all('p')[4].text.strip())\n",
    "                wind.append(soup.find_all('p')[6].text.strip())\n",
    "                humidity.append(soup.find_all('p')[7].text.strip())\n",
    "                cloud_cover.append(soup.find_all('p')[11].text.strip())\n",
    "                precipitation.append(soup.find_all('p')[12].text.strip())\n",
    "                \n",
    "            except Exception:\n",
    "            \n",
    "                try:\n",
    "\n",
    "                    source = urllib.request.urlopen('http://www.nflweather.com/en/game/' + (n.replace('team','washington'))).read()\n",
    "                    soup = BeautifulSoup(source, 'html.parser')\n",
    "\n",
    "                    detail.append(soup.find_all('p')[3].text.strip())\n",
    "                    temp.append(soup.find_all('p')[4].text.strip())\n",
    "                    wind.append(soup.find_all('p')[6].text.strip())\n",
    "                    humidity.append(soup.find_all('p')[7].text.strip())\n",
    "                    cloud_cover.append(soup.find_all('p')[11].text.strip())\n",
    "                    precipitation.append(soup.find_all('p')[12].text.strip())\n",
    "                \n",
    "                except Exception:\n",
    "                    print(f'Error with url http://www.nflweather.com/en/game/{n}')"
   ]
  },
  {
   "cell_type": "code",
   "execution_count": 50,
   "metadata": {},
   "outputs": [],
   "source": [
    "df['detail'] = detail\n",
    "df['temp'] = temp\n",
    "df['wind'] = wind\n",
    "df['humidity'] = humidity\n",
    "df['cloud_cover'] = cloud_cover\n",
    "df['precipitation'] = precipitation"
   ]
  },
  {
   "cell_type": "code",
   "execution_count": 53,
   "metadata": {},
   "outputs": [],
   "source": [
    "df['weather_temperature'].fillna(df['temp'], inplace = True)\n",
    "df['weather_humidity'].fillna(df['humidity'], inplace = True)\n",
    "df['weather_detail'].fillna(df['detail'], inplace = True)\n",
    "df['weather_wind_mph'].fillna(df['wind'], inplace = True)"
   ]
  },
  {
   "cell_type": "code",
   "execution_count": 46,
   "metadata": {},
   "outputs": [
    {
     "data": {
      "image/png": "[encoded data removed]",
      "text/plain": [
       "<Figure size 1800x720 with 2 Axes>"
      ]
     },
     "metadata": {
      "needs_background": "light"
     },
     "output_type": "display_data"
    }
   ],
   "source": [
    "msno.matrix(df) # show missing values with a missing number matrix\n",
    "plt.show() # hide image metadata"
   ]
  },
  {
   "cell_type": "code",
   "execution_count": 51,
   "metadata": {},
   "outputs": [
    {
     "ename": "KeyError",
     "evalue": "\"['team_away_last' 'team_home_last'] not found in axis\"",
     "output_type": "error",
     "traceback": [
      "\u001b[0;31m---------------------------------------------------------------------------\u001b[0m",
      "\u001b[0;31mKeyError\u001b[0m                                  Traceback (most recent call last)",
      "\u001b[0;32m<ipython-input-51-30939699315d>\u001b[0m in \u001b[0;36m<module>\u001b[0;34m\u001b[0m\n\u001b[0;32m----> 1\u001b[0;31m df = df.drop([\n\u001b[0m\u001b[1;32m      2\u001b[0m     \u001b[0;34m'team_away_last'\u001b[0m\u001b[0;34m,\u001b[0m\u001b[0;34m\u001b[0m\u001b[0;34m\u001b[0m\u001b[0m\n\u001b[1;32m      3\u001b[0m     \u001b[0;34m'team_home_last'\u001b[0m\u001b[0;34m,\u001b[0m\u001b[0;34m\u001b[0m\u001b[0;34m\u001b[0m\u001b[0m\n\u001b[1;32m      4\u001b[0m     \u001b[0;34m'humidity'\u001b[0m\u001b[0;34m,\u001b[0m\u001b[0;34m\u001b[0m\u001b[0;34m\u001b[0m\u001b[0m\n\u001b[1;32m      5\u001b[0m     \u001b[0;34m'wind'\u001b[0m\u001b[0;34m,\u001b[0m\u001b[0;34m\u001b[0m\u001b[0;34m\u001b[0m\u001b[0m\n",
      "\u001b[0;32m~/opt/anaconda3/lib/python3.8/site-packages/pandas/core/frame.py\u001b[0m in \u001b[0;36mdrop\u001b[0;34m(self, labels, axis, index, columns, level, inplace, errors)\u001b[0m\n\u001b[1;32m   4165\u001b[0m                 \u001b[0mweight\u001b[0m  \u001b[0;36m1.0\u001b[0m     \u001b[0;36m0.8\u001b[0m\u001b[0;34m\u001b[0m\u001b[0;34m\u001b[0m\u001b[0m\n\u001b[1;32m   4166\u001b[0m         \"\"\"\n\u001b[0;32m-> 4167\u001b[0;31m         return super().drop(\n\u001b[0m\u001b[1;32m   4168\u001b[0m             \u001b[0mlabels\u001b[0m\u001b[0;34m=\u001b[0m\u001b[0mlabels\u001b[0m\u001b[0;34m,\u001b[0m\u001b[0;34m\u001b[0m\u001b[0;34m\u001b[0m\u001b[0m\n\u001b[1;32m   4169\u001b[0m             \u001b[0maxis\u001b[0m\u001b[0;34m=\u001b[0m\u001b[0maxis\u001b[0m\u001b[0;34m,\u001b[0m\u001b[0;34m\u001b[0m\u001b[0;34m\u001b[0m\u001b[0m\n",
      "\u001b[0;32m~/opt/anaconda3/lib/python3.8/site-packages/pandas/core/generic.py\u001b[0m in \u001b[0;36mdrop\u001b[0;34m(self, labels, axis, index, columns, level, inplace, errors)\u001b[0m\n\u001b[1;32m   3885\u001b[0m         \u001b[0;32mfor\u001b[0m \u001b[0maxis\u001b[0m\u001b[0;34m,\u001b[0m \u001b[0mlabels\u001b[0m \u001b[0;32min\u001b[0m \u001b[0maxes\u001b[0m\u001b[0;34m.\u001b[0m\u001b[0mitems\u001b[0m\u001b[0;34m(\u001b[0m\u001b[0;34m)\u001b[0m\u001b[0;34m:\u001b[0m\u001b[0;34m\u001b[0m\u001b[0;34m\u001b[0m\u001b[0m\n\u001b[1;32m   3886\u001b[0m             \u001b[0;32mif\u001b[0m \u001b[0mlabels\u001b[0m \u001b[0;32mis\u001b[0m \u001b[0;32mnot\u001b[0m \u001b[0;32mNone\u001b[0m\u001b[0;34m:\u001b[0m\u001b[0;34m\u001b[0m\u001b[0;34m\u001b[0m\u001b[0m\n\u001b[0;32m-> 3887\u001b[0;31m                 \u001b[0mobj\u001b[0m \u001b[0;34m=\u001b[0m \u001b[0mobj\u001b[0m\u001b[0;34m.\u001b[0m\u001b[0m_drop_axis\u001b[0m\u001b[0;34m(\u001b[0m\u001b[0mlabels\u001b[0m\u001b[0;34m,\u001b[0m \u001b[0maxis\u001b[0m\u001b[0;34m,\u001b[0m \u001b[0mlevel\u001b[0m\u001b[0;34m=\u001b[0m\u001b[0mlevel\u001b[0m\u001b[0;34m,\u001b[0m \u001b[0merrors\u001b[0m\u001b[0;34m=\u001b[0m\u001b[0merrors\u001b[0m\u001b[0;34m)\u001b[0m\u001b[0;34m\u001b[0m\u001b[0;34m\u001b[0m\u001b[0m\n\u001b[0m\u001b[1;32m   3888\u001b[0m \u001b[0;34m\u001b[0m\u001b[0m\n\u001b[1;32m   3889\u001b[0m         \u001b[0;32mif\u001b[0m \u001b[0minplace\u001b[0m\u001b[0;34m:\u001b[0m\u001b[0;34m\u001b[0m\u001b[0;34m\u001b[0m\u001b[0m\n",
      "\u001b[0;32m~/opt/anaconda3/lib/python3.8/site-packages/pandas/core/generic.py\u001b[0m in \u001b[0;36m_drop_axis\u001b[0;34m(self, labels, axis, level, errors)\u001b[0m\n\u001b[1;32m   3919\u001b[0m                 \u001b[0mnew_axis\u001b[0m \u001b[0;34m=\u001b[0m \u001b[0maxis\u001b[0m\u001b[0;34m.\u001b[0m\u001b[0mdrop\u001b[0m\u001b[0;34m(\u001b[0m\u001b[0mlabels\u001b[0m\u001b[0;34m,\u001b[0m \u001b[0mlevel\u001b[0m\u001b[0;34m=\u001b[0m\u001b[0mlevel\u001b[0m\u001b[0;34m,\u001b[0m \u001b[0merrors\u001b[0m\u001b[0;34m=\u001b[0m\u001b[0merrors\u001b[0m\u001b[0;34m)\u001b[0m\u001b[0;34m\u001b[0m\u001b[0;34m\u001b[0m\u001b[0m\n\u001b[1;32m   3920\u001b[0m             \u001b[0;32melse\u001b[0m\u001b[0;34m:\u001b[0m\u001b[0;34m\u001b[0m\u001b[0;34m\u001b[0m\u001b[0m\n\u001b[0;32m-> 3921\u001b[0;31m                 \u001b[0mnew_axis\u001b[0m \u001b[0;34m=\u001b[0m \u001b[0maxis\u001b[0m\u001b[0;34m.\u001b[0m\u001b[0mdrop\u001b[0m\u001b[0;34m(\u001b[0m\u001b[0mlabels\u001b[0m\u001b[0;34m,\u001b[0m \u001b[0merrors\u001b[0m\u001b[0;34m=\u001b[0m\u001b[0merrors\u001b[0m\u001b[0;34m)\u001b[0m\u001b[0;34m\u001b[0m\u001b[0;34m\u001b[0m\u001b[0m\n\u001b[0m\u001b[1;32m   3922\u001b[0m             \u001b[0mresult\u001b[0m \u001b[0;34m=\u001b[0m \u001b[0mself\u001b[0m\u001b[0;34m.\u001b[0m\u001b[0mreindex\u001b[0m\u001b[0;34m(\u001b[0m\u001b[0;34m**\u001b[0m\u001b[0;34m{\u001b[0m\u001b[0maxis_name\u001b[0m\u001b[0;34m:\u001b[0m \u001b[0mnew_axis\u001b[0m\u001b[0;34m}\u001b[0m\u001b[0;34m)\u001b[0m\u001b[0;34m\u001b[0m\u001b[0;34m\u001b[0m\u001b[0m\n\u001b[1;32m   3923\u001b[0m \u001b[0;34m\u001b[0m\u001b[0m\n",
      "\u001b[0;32m~/opt/anaconda3/lib/python3.8/site-packages/pandas/core/indexes/base.py\u001b[0m in \u001b[0;36mdrop\u001b[0;34m(self, labels, errors)\u001b[0m\n\u001b[1;32m   5282\u001b[0m         \u001b[0;32mif\u001b[0m \u001b[0mmask\u001b[0m\u001b[0;34m.\u001b[0m\u001b[0many\u001b[0m\u001b[0;34m(\u001b[0m\u001b[0;34m)\u001b[0m\u001b[0;34m:\u001b[0m\u001b[0;34m\u001b[0m\u001b[0;34m\u001b[0m\u001b[0m\n\u001b[1;32m   5283\u001b[0m             \u001b[0;32mif\u001b[0m \u001b[0merrors\u001b[0m \u001b[0;34m!=\u001b[0m \u001b[0;34m\"ignore\"\u001b[0m\u001b[0;34m:\u001b[0m\u001b[0;34m\u001b[0m\u001b[0;34m\u001b[0m\u001b[0m\n\u001b[0;32m-> 5284\u001b[0;31m                 \u001b[0;32mraise\u001b[0m \u001b[0mKeyError\u001b[0m\u001b[0;34m(\u001b[0m\u001b[0;34mf\"{labels[mask]} not found in axis\"\u001b[0m\u001b[0;34m)\u001b[0m\u001b[0;34m\u001b[0m\u001b[0;34m\u001b[0m\u001b[0m\n\u001b[0m\u001b[1;32m   5285\u001b[0m             \u001b[0mindexer\u001b[0m \u001b[0;34m=\u001b[0m \u001b[0mindexer\u001b[0m\u001b[0;34m[\u001b[0m\u001b[0;34m~\u001b[0m\u001b[0mmask\u001b[0m\u001b[0;34m]\u001b[0m\u001b[0;34m\u001b[0m\u001b[0;34m\u001b[0m\u001b[0m\n\u001b[1;32m   5286\u001b[0m         \u001b[0;32mreturn\u001b[0m \u001b[0mself\u001b[0m\u001b[0;34m.\u001b[0m\u001b[0mdelete\u001b[0m\u001b[0;34m(\u001b[0m\u001b[0mindexer\u001b[0m\u001b[0;34m)\u001b[0m\u001b[0;34m\u001b[0m\u001b[0;34m\u001b[0m\u001b[0m\n",
      "\u001b[0;31mKeyError\u001b[0m: \"['team_away_last' 'team_home_last'] not found in axis\""
     ]
    }
   ],
   "source": [
    "df = df.drop([\n",
    "    'team_away_last',\n",
    "    'team_home_last',\n",
    "    'humidity',\n",
    "    'wind',\n",
    "    'temp',\n",
    "    'detail'\n",
    "], axis = 1)"
   ]
  },
  {
   "cell_type": "markdown",
   "metadata": {},
   "source": [
    "### Cleaning New Weather Data\n",
    "<a id='cleaning_new_weather_data_cell'></a>\n",
    "Now I'll clean and standardize the new weather data!   \n",
    "I'll make all applicable weather data into either integers or floats and correct any other issues"
   ]
  },
  {
   "cell_type": "code",
   "execution_count": 137,
   "metadata": {},
   "outputs": [
    {
     "data": {
      "text/plain": [
       "array([65, 72, 85, 69, 93, 73, 89, 64, 74, 79, 66, 91, 86, 81, 82, 88, 84,\n",
       "       90, 80, 78, 92, 71, 62, 60, 57, 70, 75, 55, 76, 58, 67, 68, 87, 54,\n",
       "       61, 83, 51, 42, 59, 53, 49, 56, 52, 48, 50, 63, 45, 35, 47, 46, 40,\n",
       "       33, 37, 41, 44, 43, 38, 30, 34, 32, 13, 25, 31, 39, 95, 77, 14, 27,\n",
       "       36])"
      ]
     },
     "execution_count": 137,
     "metadata": {},
     "output_type": "execute_result"
    }
   ],
   "source": [
    "df['weather_temperature'].unique()"
   ]
  },
  {
   "cell_type": "code",
   "execution_count": 135,
   "metadata": {},
   "outputs": [
    {
     "ename": "TypeError",
     "evalue": "Cannot compare types 'ndarray(dtype=int64)' and 'str'",
     "output_type": "error",
     "traceback": [
      "\u001b[0;31m---------------------------------------------------------------------------\u001b[0m",
      "\u001b[0;31mTypeError\u001b[0m                                 Traceback (most recent call last)",
      "\u001b[0;32m<ipython-input-135-9a83ab4b1f94>\u001b[0m in \u001b[0;36m<module>\u001b[0;34m\u001b[0m\n\u001b[0;32m----> 1\u001b[0;31m \u001b[0mdf\u001b[0m\u001b[0;34m[\u001b[0m\u001b[0;34m'weather_temperature'\u001b[0m\u001b[0;34m]\u001b[0m \u001b[0;34m=\u001b[0m \u001b[0mdf\u001b[0m\u001b[0;34m[\u001b[0m\u001b[0;34m'weather_temperature'\u001b[0m\u001b[0;34m]\u001b[0m\u001b[0;34m.\u001b[0m\u001b[0mreplace\u001b[0m\u001b[0;34m(\u001b[0m\u001b[0;34m{\u001b[0m\u001b[0;34m'Temperature: '\u001b[0m\u001b[0;34m:\u001b[0m\u001b[0;34m''\u001b[0m\u001b[0;34m,\u001b[0m\u001b[0;34m'f.'\u001b[0m\u001b[0;34m:\u001b[0m\u001b[0;34m''\u001b[0m\u001b[0;34m}\u001b[0m\u001b[0;34m,\u001b[0m \u001b[0mregex\u001b[0m \u001b[0;34m=\u001b[0m \u001b[0;32mTrue\u001b[0m\u001b[0;34m)\u001b[0m\u001b[0;34m\u001b[0m\u001b[0;34m\u001b[0m\u001b[0m\n\u001b[0m\u001b[1;32m      2\u001b[0m \u001b[0mdf\u001b[0m\u001b[0;34m[\u001b[0m\u001b[0;34m'weather_temperature'\u001b[0m\u001b[0;34m]\u001b[0m \u001b[0;34m=\u001b[0m \u001b[0;34m[\u001b[0m\u001b[0mint\u001b[0m\u001b[0;34m(\u001b[0m\u001b[0mn\u001b[0m\u001b[0;34m)\u001b[0m \u001b[0;32mfor\u001b[0m \u001b[0mn\u001b[0m \u001b[0;32min\u001b[0m \u001b[0mdf\u001b[0m\u001b[0;34m[\u001b[0m\u001b[0;34m'weather_temperature'\u001b[0m\u001b[0;34m]\u001b[0m\u001b[0;34m]\u001b[0m\u001b[0;34m\u001b[0m\u001b[0;34m\u001b[0m\u001b[0m\n",
      "\u001b[0;32m~/opt/anaconda3/lib/python3.8/site-packages/pandas/core/series.py\u001b[0m in \u001b[0;36mreplace\u001b[0;34m(self, to_replace, value, inplace, limit, regex, method)\u001b[0m\n\u001b[1;32m   4573\u001b[0m         \u001b[0mmethod\u001b[0m\u001b[0;34m=\u001b[0m\u001b[0;34m\"pad\"\u001b[0m\u001b[0;34m,\u001b[0m\u001b[0;34m\u001b[0m\u001b[0;34m\u001b[0m\u001b[0m\n\u001b[1;32m   4574\u001b[0m     ):\n\u001b[0;32m-> 4575\u001b[0;31m         return super().replace(\n\u001b[0m\u001b[1;32m   4576\u001b[0m             \u001b[0mto_replace\u001b[0m\u001b[0;34m=\u001b[0m\u001b[0mto_replace\u001b[0m\u001b[0;34m,\u001b[0m\u001b[0;34m\u001b[0m\u001b[0;34m\u001b[0m\u001b[0m\n\u001b[1;32m   4577\u001b[0m             \u001b[0mvalue\u001b[0m\u001b[0;34m=\u001b[0m\u001b[0mvalue\u001b[0m\u001b[0;34m,\u001b[0m\u001b[0;34m\u001b[0m\u001b[0;34m\u001b[0m\u001b[0m\n",
      "\u001b[0;32m~/opt/anaconda3/lib/python3.8/site-packages/pandas/core/generic.py\u001b[0m in \u001b[0;36mreplace\u001b[0;34m(self, to_replace, value, inplace, limit, regex, method)\u001b[0m\n\u001b[1;32m   6498\u001b[0m                 \u001b[0mto_replace\u001b[0m\u001b[0;34m,\u001b[0m \u001b[0mvalue\u001b[0m \u001b[0;34m=\u001b[0m \u001b[0mkeys\u001b[0m\u001b[0;34m,\u001b[0m \u001b[0mvalues\u001b[0m\u001b[0;34m\u001b[0m\u001b[0;34m\u001b[0m\u001b[0m\n\u001b[1;32m   6499\u001b[0m \u001b[0;34m\u001b[0m\u001b[0m\n\u001b[0;32m-> 6500\u001b[0;31m             return self.replace(\n\u001b[0m\u001b[1;32m   6501\u001b[0m                 \u001b[0mto_replace\u001b[0m\u001b[0;34m,\u001b[0m \u001b[0mvalue\u001b[0m\u001b[0;34m,\u001b[0m \u001b[0minplace\u001b[0m\u001b[0;34m=\u001b[0m\u001b[0minplace\u001b[0m\u001b[0;34m,\u001b[0m \u001b[0mlimit\u001b[0m\u001b[0;34m=\u001b[0m\u001b[0mlimit\u001b[0m\u001b[0;34m,\u001b[0m \u001b[0mregex\u001b[0m\u001b[0;34m=\u001b[0m\u001b[0mregex\u001b[0m\u001b[0;34m\u001b[0m\u001b[0;34m\u001b[0m\u001b[0m\n\u001b[1;32m   6502\u001b[0m             )\n",
      "\u001b[0;32m~/opt/anaconda3/lib/python3.8/site-packages/pandas/core/series.py\u001b[0m in \u001b[0;36mreplace\u001b[0;34m(self, to_replace, value, inplace, limit, regex, method)\u001b[0m\n\u001b[1;32m   4573\u001b[0m         \u001b[0mmethod\u001b[0m\u001b[0;34m=\u001b[0m\u001b[0;34m\"pad\"\u001b[0m\u001b[0;34m,\u001b[0m\u001b[0;34m\u001b[0m\u001b[0;34m\u001b[0m\u001b[0m\n\u001b[1;32m   4574\u001b[0m     ):\n\u001b[0;32m-> 4575\u001b[0;31m         return super().replace(\n\u001b[0m\u001b[1;32m   4576\u001b[0m             \u001b[0mto_replace\u001b[0m\u001b[0;34m=\u001b[0m\u001b[0mto_replace\u001b[0m\u001b[0;34m,\u001b[0m\u001b[0;34m\u001b[0m\u001b[0;34m\u001b[0m\u001b[0m\n\u001b[1;32m   4577\u001b[0m             \u001b[0mvalue\u001b[0m\u001b[0;34m=\u001b[0m\u001b[0mvalue\u001b[0m\u001b[0;34m,\u001b[0m\u001b[0;34m\u001b[0m\u001b[0;34m\u001b[0m\u001b[0m\n",
      "\u001b[0;32m~/opt/anaconda3/lib/python3.8/site-packages/pandas/core/generic.py\u001b[0m in \u001b[0;36mreplace\u001b[0;34m(self, to_replace, value, inplace, limit, regex, method)\u001b[0m\n\u001b[1;32m   6541\u001b[0m                         )\n\u001b[1;32m   6542\u001b[0m                     \u001b[0mself\u001b[0m\u001b[0;34m.\u001b[0m\u001b[0m_consolidate_inplace\u001b[0m\u001b[0;34m(\u001b[0m\u001b[0;34m)\u001b[0m\u001b[0;34m\u001b[0m\u001b[0;34m\u001b[0m\u001b[0m\n\u001b[0;32m-> 6543\u001b[0;31m                     new_data = self._mgr.replace_list(\n\u001b[0m\u001b[1;32m   6544\u001b[0m                         \u001b[0msrc_list\u001b[0m\u001b[0;34m=\u001b[0m\u001b[0mto_replace\u001b[0m\u001b[0;34m,\u001b[0m\u001b[0;34m\u001b[0m\u001b[0;34m\u001b[0m\u001b[0m\n\u001b[1;32m   6545\u001b[0m                         \u001b[0mdest_list\u001b[0m\u001b[0;34m=\u001b[0m\u001b[0mvalue\u001b[0m\u001b[0;34m,\u001b[0m\u001b[0;34m\u001b[0m\u001b[0;34m\u001b[0m\u001b[0m\n",
      "\u001b[0;32m~/opt/anaconda3/lib/python3.8/site-packages/pandas/core/internals/managers.py\u001b[0m in \u001b[0;36mreplace_list\u001b[0;34m(self, src_list, dest_list, inplace, regex)\u001b[0m\n\u001b[1;32m    640\u001b[0m         \u001b[0mmask\u001b[0m \u001b[0;34m=\u001b[0m \u001b[0;34m~\u001b[0m\u001b[0misna\u001b[0m\u001b[0;34m(\u001b[0m\u001b[0mvalues\u001b[0m\u001b[0;34m)\u001b[0m\u001b[0;34m\u001b[0m\u001b[0;34m\u001b[0m\u001b[0m\n\u001b[1;32m    641\u001b[0m \u001b[0;34m\u001b[0m\u001b[0m\n\u001b[0;32m--> 642\u001b[0;31m         \u001b[0mmasks\u001b[0m \u001b[0;34m=\u001b[0m \u001b[0;34m[\u001b[0m\u001b[0mcomp\u001b[0m\u001b[0;34m(\u001b[0m\u001b[0ms\u001b[0m\u001b[0;34m,\u001b[0m \u001b[0mmask\u001b[0m\u001b[0;34m,\u001b[0m \u001b[0mregex\u001b[0m\u001b[0;34m)\u001b[0m \u001b[0;32mfor\u001b[0m \u001b[0ms\u001b[0m \u001b[0;32min\u001b[0m \u001b[0msrc_list\u001b[0m\u001b[0;34m]\u001b[0m\u001b[0;34m\u001b[0m\u001b[0;34m\u001b[0m\u001b[0m\n\u001b[0m\u001b[1;32m    643\u001b[0m \u001b[0;34m\u001b[0m\u001b[0m\n\u001b[1;32m    644\u001b[0m         \u001b[0mresult_blocks\u001b[0m \u001b[0;34m=\u001b[0m \u001b[0;34m[\u001b[0m\u001b[0;34m]\u001b[0m\u001b[0;34m\u001b[0m\u001b[0;34m\u001b[0m\u001b[0m\n",
      "\u001b[0;32m~/opt/anaconda3/lib/python3.8/site-packages/pandas/core/internals/managers.py\u001b[0m in \u001b[0;36m<listcomp>\u001b[0;34m(.0)\u001b[0m\n\u001b[1;32m    640\u001b[0m         \u001b[0mmask\u001b[0m \u001b[0;34m=\u001b[0m \u001b[0;34m~\u001b[0m\u001b[0misna\u001b[0m\u001b[0;34m(\u001b[0m\u001b[0mvalues\u001b[0m\u001b[0;34m)\u001b[0m\u001b[0;34m\u001b[0m\u001b[0;34m\u001b[0m\u001b[0m\n\u001b[1;32m    641\u001b[0m \u001b[0;34m\u001b[0m\u001b[0m\n\u001b[0;32m--> 642\u001b[0;31m         \u001b[0mmasks\u001b[0m \u001b[0;34m=\u001b[0m \u001b[0;34m[\u001b[0m\u001b[0mcomp\u001b[0m\u001b[0;34m(\u001b[0m\u001b[0ms\u001b[0m\u001b[0;34m,\u001b[0m \u001b[0mmask\u001b[0m\u001b[0;34m,\u001b[0m \u001b[0mregex\u001b[0m\u001b[0;34m)\u001b[0m \u001b[0;32mfor\u001b[0m \u001b[0ms\u001b[0m \u001b[0;32min\u001b[0m \u001b[0msrc_list\u001b[0m\u001b[0;34m]\u001b[0m\u001b[0;34m\u001b[0m\u001b[0;34m\u001b[0m\u001b[0m\n\u001b[0m\u001b[1;32m    643\u001b[0m \u001b[0;34m\u001b[0m\u001b[0m\n\u001b[1;32m    644\u001b[0m         \u001b[0mresult_blocks\u001b[0m \u001b[0;34m=\u001b[0m \u001b[0;34m[\u001b[0m\u001b[0;34m]\u001b[0m\u001b[0;34m\u001b[0m\u001b[0;34m\u001b[0m\u001b[0m\n",
      "\u001b[0;32m~/opt/anaconda3/lib/python3.8/site-packages/pandas/core/internals/managers.py\u001b[0m in \u001b[0;36mcomp\u001b[0;34m(s, mask, regex)\u001b[0m\n\u001b[1;32m    634\u001b[0m \u001b[0;34m\u001b[0m\u001b[0m\n\u001b[1;32m    635\u001b[0m             \u001b[0ms\u001b[0m \u001b[0;34m=\u001b[0m \u001b[0mcom\u001b[0m\u001b[0;34m.\u001b[0m\u001b[0mmaybe_box_datetimelike\u001b[0m\u001b[0;34m(\u001b[0m\u001b[0ms\u001b[0m\u001b[0;34m)\u001b[0m\u001b[0;34m\u001b[0m\u001b[0;34m\u001b[0m\u001b[0m\n\u001b[0;32m--> 636\u001b[0;31m             \u001b[0;32mreturn\u001b[0m \u001b[0m_compare_or_regex_search\u001b[0m\u001b[0;34m(\u001b[0m\u001b[0mvalues\u001b[0m\u001b[0;34m,\u001b[0m \u001b[0ms\u001b[0m\u001b[0;34m,\u001b[0m \u001b[0mregex\u001b[0m\u001b[0;34m,\u001b[0m \u001b[0mmask\u001b[0m\u001b[0;34m)\u001b[0m\u001b[0;34m\u001b[0m\u001b[0;34m\u001b[0m\u001b[0m\n\u001b[0m\u001b[1;32m    637\u001b[0m \u001b[0;34m\u001b[0m\u001b[0m\n\u001b[1;32m    638\u001b[0m         \u001b[0;31m# Calculate the mask once, prior to the call of comp\u001b[0m\u001b[0;34m\u001b[0m\u001b[0;34m\u001b[0m\u001b[0;34m\u001b[0m\u001b[0m\n",
      "\u001b[0;32m~/opt/anaconda3/lib/python3.8/site-packages/pandas/core/internals/managers.py\u001b[0m in \u001b[0;36m_compare_or_regex_search\u001b[0;34m(a, b, regex, mask)\u001b[0m\n\u001b[1;32m   1990\u001b[0m     \u001b[0;32mif\u001b[0m \u001b[0mis_datetimelike_v_numeric\u001b[0m\u001b[0;34m(\u001b[0m\u001b[0ma\u001b[0m\u001b[0;34m,\u001b[0m \u001b[0mb\u001b[0m\u001b[0;34m)\u001b[0m \u001b[0;32mor\u001b[0m \u001b[0mis_numeric_v_string_like\u001b[0m\u001b[0;34m(\u001b[0m\u001b[0ma\u001b[0m\u001b[0;34m,\u001b[0m \u001b[0mb\u001b[0m\u001b[0;34m)\u001b[0m\u001b[0;34m:\u001b[0m\u001b[0;34m\u001b[0m\u001b[0;34m\u001b[0m\u001b[0m\n\u001b[1;32m   1991\u001b[0m         \u001b[0;31m# GH#29553 avoid deprecation warnings from numpy\u001b[0m\u001b[0;34m\u001b[0m\u001b[0;34m\u001b[0m\u001b[0;34m\u001b[0m\u001b[0m\n\u001b[0;32m-> 1992\u001b[0;31m         \u001b[0m_check_comparison_types\u001b[0m\u001b[0;34m(\u001b[0m\u001b[0;32mFalse\u001b[0m\u001b[0;34m,\u001b[0m \u001b[0ma\u001b[0m\u001b[0;34m,\u001b[0m \u001b[0mb\u001b[0m\u001b[0;34m)\u001b[0m\u001b[0;34m\u001b[0m\u001b[0;34m\u001b[0m\u001b[0m\n\u001b[0m\u001b[1;32m   1993\u001b[0m         \u001b[0;32mreturn\u001b[0m \u001b[0;32mFalse\u001b[0m\u001b[0;34m\u001b[0m\u001b[0;34m\u001b[0m\u001b[0m\n\u001b[1;32m   1994\u001b[0m \u001b[0;34m\u001b[0m\u001b[0m\n",
      "\u001b[0;32m~/opt/anaconda3/lib/python3.8/site-packages/pandas/core/internals/managers.py\u001b[0m in \u001b[0;36m_check_comparison_types\u001b[0;34m(result, a, b)\u001b[0m\n\u001b[1;32m   1969\u001b[0m                 \u001b[0mtype_names\u001b[0m\u001b[0;34m[\u001b[0m\u001b[0;36m0\u001b[0m\u001b[0;34m]\u001b[0m \u001b[0;34m=\u001b[0m \u001b[0;34mf\"ndarray(dtype={a.dtype})\"\u001b[0m\u001b[0;34m\u001b[0m\u001b[0;34m\u001b[0m\u001b[0m\n\u001b[1;32m   1970\u001b[0m \u001b[0;34m\u001b[0m\u001b[0m\n\u001b[0;32m-> 1971\u001b[0;31m             raise TypeError(\n\u001b[0m\u001b[1;32m   1972\u001b[0m                 \u001b[0;34mf\"Cannot compare types {repr(type_names[0])} and {repr(type_names[1])}\"\u001b[0m\u001b[0;34m\u001b[0m\u001b[0;34m\u001b[0m\u001b[0m\n\u001b[1;32m   1973\u001b[0m             )\n",
      "\u001b[0;31mTypeError\u001b[0m: Cannot compare types 'ndarray(dtype=int64)' and 'str'"
     ]
    }
   ],
   "source": [
    "df['weather_temperature'] = df['weather_temperature'].replace({'Temperature: ':'','f.':''}, regex = True)\n",
    "df['weather_temperature'] = [int(n) for n in df['weather_temperature']]"
   ]
  },
  {
   "cell_type": "code",
   "execution_count": 58,
   "metadata": {},
   "outputs": [
    {
     "data": {
      "text/plain": [
       "array([65, 72, 85, 69, 93, 73, 89, 64, 74, 79])"
      ]
     },
     "execution_count": 58,
     "metadata": {},
     "output_type": "execute_result"
    }
   ],
   "source": [
    "df['weather_temperature'].unique()[:10]"
   ]
  },
  {
   "cell_type": "code",
   "execution_count": 59,
   "metadata": {},
   "outputs": [
    {
     "data": {
      "text/plain": [
       "array([0.66, 0.32, 0.48, 0.64, 0.28, 0.67, 0.63, 0.93, 0.5 , 0.39])"
      ]
     },
     "execution_count": 59,
     "metadata": {},
     "output_type": "execute_result"
    }
   ],
   "source": [
    "df['weather_humidity'].unique()[:10]"
   ]
  },
  {
   "cell_type": "code",
   "execution_count": 60,
   "metadata": {},
   "outputs": [
    {
     "ename": "TypeError",
     "evalue": "Cannot compare types 'ndarray(dtype=float64)' and 'str'",
     "output_type": "error",
     "traceback": [
      "\u001b[0;31m---------------------------------------------------------------------------\u001b[0m",
      "\u001b[0;31mTypeError\u001b[0m                                 Traceback (most recent call last)",
      "\u001b[0;32m<ipython-input-60-1218dcab2266>\u001b[0m in \u001b[0;36m<module>\u001b[0;34m\u001b[0m\n\u001b[0;32m----> 1\u001b[0;31m \u001b[0mdf\u001b[0m\u001b[0;34m[\u001b[0m\u001b[0;34m'weather_humidity'\u001b[0m\u001b[0;34m]\u001b[0m \u001b[0;34m=\u001b[0m \u001b[0mdf\u001b[0m\u001b[0;34m[\u001b[0m\u001b[0;34m'weather_humidity'\u001b[0m\u001b[0;34m]\u001b[0m\u001b[0;34m.\u001b[0m\u001b[0mreplace\u001b[0m\u001b[0;34m(\u001b[0m\u001b[0;34m{\u001b[0m\u001b[0;34m'Humidity: '\u001b[0m\u001b[0;34m:\u001b[0m\u001b[0;34m'0.'\u001b[0m\u001b[0;34m,\u001b[0m\u001b[0;34m'%'\u001b[0m\u001b[0;34m:\u001b[0m\u001b[0;34m''\u001b[0m\u001b[0;34m}\u001b[0m\u001b[0;34m,\u001b[0m \u001b[0mregex\u001b[0m \u001b[0;34m=\u001b[0m \u001b[0;32mTrue\u001b[0m\u001b[0;34m)\u001b[0m\u001b[0;34m\u001b[0m\u001b[0;34m\u001b[0m\u001b[0m\n\u001b[0m\u001b[1;32m      2\u001b[0m \u001b[0mdf\u001b[0m\u001b[0;34m[\u001b[0m\u001b[0;34m'weather_humidity'\u001b[0m\u001b[0;34m]\u001b[0m \u001b[0;34m=\u001b[0m \u001b[0;34m[\u001b[0m\u001b[0mfloat\u001b[0m\u001b[0;34m(\u001b[0m\u001b[0mn\u001b[0m\u001b[0;34m)\u001b[0m \u001b[0;32mfor\u001b[0m \u001b[0mn\u001b[0m \u001b[0;32min\u001b[0m \u001b[0mdf\u001b[0m\u001b[0;34m[\u001b[0m\u001b[0;34m'weather_humidity'\u001b[0m\u001b[0;34m]\u001b[0m\u001b[0;34m]\u001b[0m\u001b[0;34m\u001b[0m\u001b[0;34m\u001b[0m\u001b[0m\n",
      "\u001b[0;32m~/opt/anaconda3/lib/python3.8/site-packages/pandas/core/series.py\u001b[0m in \u001b[0;36mreplace\u001b[0;34m(self, to_replace, value, inplace, limit, regex, method)\u001b[0m\n\u001b[1;32m   4573\u001b[0m         \u001b[0mmethod\u001b[0m\u001b[0;34m=\u001b[0m\u001b[0;34m\"pad\"\u001b[0m\u001b[0;34m,\u001b[0m\u001b[0;34m\u001b[0m\u001b[0;34m\u001b[0m\u001b[0m\n\u001b[1;32m   4574\u001b[0m     ):\n\u001b[0;32m-> 4575\u001b[0;31m         return super().replace(\n\u001b[0m\u001b[1;32m   4576\u001b[0m             \u001b[0mto_replace\u001b[0m\u001b[0;34m=\u001b[0m\u001b[0mto_replace\u001b[0m\u001b[0;34m,\u001b[0m\u001b[0;34m\u001b[0m\u001b[0;34m\u001b[0m\u001b[0m\n\u001b[1;32m   4577\u001b[0m             \u001b[0mvalue\u001b[0m\u001b[0;34m=\u001b[0m\u001b[0mvalue\u001b[0m\u001b[0;34m,\u001b[0m\u001b[0;34m\u001b[0m\u001b[0;34m\u001b[0m\u001b[0m\n",
      "\u001b[0;32m~/opt/anaconda3/lib/python3.8/site-packages/pandas/core/generic.py\u001b[0m in \u001b[0;36mreplace\u001b[0;34m(self, to_replace, value, inplace, limit, regex, method)\u001b[0m\n\u001b[1;32m   6498\u001b[0m                 \u001b[0mto_replace\u001b[0m\u001b[0;34m,\u001b[0m \u001b[0mvalue\u001b[0m \u001b[0;34m=\u001b[0m \u001b[0mkeys\u001b[0m\u001b[0;34m,\u001b[0m \u001b[0mvalues\u001b[0m\u001b[0;34m\u001b[0m\u001b[0;34m\u001b[0m\u001b[0m\n\u001b[1;32m   6499\u001b[0m \u001b[0;34m\u001b[0m\u001b[0m\n\u001b[0;32m-> 6500\u001b[0;31m             return self.replace(\n\u001b[0m\u001b[1;32m   6501\u001b[0m                 \u001b[0mto_replace\u001b[0m\u001b[0;34m,\u001b[0m \u001b[0mvalue\u001b[0m\u001b[0;34m,\u001b[0m \u001b[0minplace\u001b[0m\u001b[0;34m=\u001b[0m\u001b[0minplace\u001b[0m\u001b[0;34m,\u001b[0m \u001b[0mlimit\u001b[0m\u001b[0;34m=\u001b[0m\u001b[0mlimit\u001b[0m\u001b[0;34m,\u001b[0m \u001b[0mregex\u001b[0m\u001b[0;34m=\u001b[0m\u001b[0mregex\u001b[0m\u001b[0;34m\u001b[0m\u001b[0;34m\u001b[0m\u001b[0m\n\u001b[1;32m   6502\u001b[0m             )\n",
      "\u001b[0;32m~/opt/anaconda3/lib/python3.8/site-packages/pandas/core/series.py\u001b[0m in \u001b[0;36mreplace\u001b[0;34m(self, to_replace, value, inplace, limit, regex, method)\u001b[0m\n\u001b[1;32m   4573\u001b[0m         \u001b[0mmethod\u001b[0m\u001b[0;34m=\u001b[0m\u001b[0;34m\"pad\"\u001b[0m\u001b[0;34m,\u001b[0m\u001b[0;34m\u001b[0m\u001b[0;34m\u001b[0m\u001b[0m\n\u001b[1;32m   4574\u001b[0m     ):\n\u001b[0;32m-> 4575\u001b[0;31m         return super().replace(\n\u001b[0m\u001b[1;32m   4576\u001b[0m             \u001b[0mto_replace\u001b[0m\u001b[0;34m=\u001b[0m\u001b[0mto_replace\u001b[0m\u001b[0;34m,\u001b[0m\u001b[0;34m\u001b[0m\u001b[0;34m\u001b[0m\u001b[0m\n\u001b[1;32m   4577\u001b[0m             \u001b[0mvalue\u001b[0m\u001b[0;34m=\u001b[0m\u001b[0mvalue\u001b[0m\u001b[0;34m,\u001b[0m\u001b[0;34m\u001b[0m\u001b[0;34m\u001b[0m\u001b[0m\n",
      "\u001b[0;32m~/opt/anaconda3/lib/python3.8/site-packages/pandas/core/generic.py\u001b[0m in \u001b[0;36mreplace\u001b[0;34m(self, to_replace, value, inplace, limit, regex, method)\u001b[0m\n\u001b[1;32m   6541\u001b[0m                         )\n\u001b[1;32m   6542\u001b[0m                     \u001b[0mself\u001b[0m\u001b[0;34m.\u001b[0m\u001b[0m_consolidate_inplace\u001b[0m\u001b[0;34m(\u001b[0m\u001b[0;34m)\u001b[0m\u001b[0;34m\u001b[0m\u001b[0;34m\u001b[0m\u001b[0m\n\u001b[0;32m-> 6543\u001b[0;31m                     new_data = self._mgr.replace_list(\n\u001b[0m\u001b[1;32m   6544\u001b[0m                         \u001b[0msrc_list\u001b[0m\u001b[0;34m=\u001b[0m\u001b[0mto_replace\u001b[0m\u001b[0;34m,\u001b[0m\u001b[0;34m\u001b[0m\u001b[0;34m\u001b[0m\u001b[0m\n\u001b[1;32m   6545\u001b[0m                         \u001b[0mdest_list\u001b[0m\u001b[0;34m=\u001b[0m\u001b[0mvalue\u001b[0m\u001b[0;34m,\u001b[0m\u001b[0;34m\u001b[0m\u001b[0;34m\u001b[0m\u001b[0m\n",
      "\u001b[0;32m~/opt/anaconda3/lib/python3.8/site-packages/pandas/core/internals/managers.py\u001b[0m in \u001b[0;36mreplace_list\u001b[0;34m(self, src_list, dest_list, inplace, regex)\u001b[0m\n\u001b[1;32m    640\u001b[0m         \u001b[0mmask\u001b[0m \u001b[0;34m=\u001b[0m \u001b[0;34m~\u001b[0m\u001b[0misna\u001b[0m\u001b[0;34m(\u001b[0m\u001b[0mvalues\u001b[0m\u001b[0;34m)\u001b[0m\u001b[0;34m\u001b[0m\u001b[0;34m\u001b[0m\u001b[0m\n\u001b[1;32m    641\u001b[0m \u001b[0;34m\u001b[0m\u001b[0m\n\u001b[0;32m--> 642\u001b[0;31m         \u001b[0mmasks\u001b[0m \u001b[0;34m=\u001b[0m \u001b[0;34m[\u001b[0m\u001b[0mcomp\u001b[0m\u001b[0;34m(\u001b[0m\u001b[0ms\u001b[0m\u001b[0;34m,\u001b[0m \u001b[0mmask\u001b[0m\u001b[0;34m,\u001b[0m \u001b[0mregex\u001b[0m\u001b[0;34m)\u001b[0m \u001b[0;32mfor\u001b[0m \u001b[0ms\u001b[0m \u001b[0;32min\u001b[0m \u001b[0msrc_list\u001b[0m\u001b[0;34m]\u001b[0m\u001b[0;34m\u001b[0m\u001b[0;34m\u001b[0m\u001b[0m\n\u001b[0m\u001b[1;32m    643\u001b[0m \u001b[0;34m\u001b[0m\u001b[0m\n\u001b[1;32m    644\u001b[0m         \u001b[0mresult_blocks\u001b[0m \u001b[0;34m=\u001b[0m \u001b[0;34m[\u001b[0m\u001b[0;34m]\u001b[0m\u001b[0;34m\u001b[0m\u001b[0;34m\u001b[0m\u001b[0m\n",
      "\u001b[0;32m~/opt/anaconda3/lib/python3.8/site-packages/pandas/core/internals/managers.py\u001b[0m in \u001b[0;36m<listcomp>\u001b[0;34m(.0)\u001b[0m\n\u001b[1;32m    640\u001b[0m         \u001b[0mmask\u001b[0m \u001b[0;34m=\u001b[0m \u001b[0;34m~\u001b[0m\u001b[0misna\u001b[0m\u001b[0;34m(\u001b[0m\u001b[0mvalues\u001b[0m\u001b[0;34m)\u001b[0m\u001b[0;34m\u001b[0m\u001b[0;34m\u001b[0m\u001b[0m\n\u001b[1;32m    641\u001b[0m \u001b[0;34m\u001b[0m\u001b[0m\n\u001b[0;32m--> 642\u001b[0;31m         \u001b[0mmasks\u001b[0m \u001b[0;34m=\u001b[0m \u001b[0;34m[\u001b[0m\u001b[0mcomp\u001b[0m\u001b[0;34m(\u001b[0m\u001b[0ms\u001b[0m\u001b[0;34m,\u001b[0m \u001b[0mmask\u001b[0m\u001b[0;34m,\u001b[0m \u001b[0mregex\u001b[0m\u001b[0;34m)\u001b[0m \u001b[0;32mfor\u001b[0m \u001b[0ms\u001b[0m \u001b[0;32min\u001b[0m \u001b[0msrc_list\u001b[0m\u001b[0;34m]\u001b[0m\u001b[0;34m\u001b[0m\u001b[0;34m\u001b[0m\u001b[0m\n\u001b[0m\u001b[1;32m    643\u001b[0m \u001b[0;34m\u001b[0m\u001b[0m\n\u001b[1;32m    644\u001b[0m         \u001b[0mresult_blocks\u001b[0m \u001b[0;34m=\u001b[0m \u001b[0;34m[\u001b[0m\u001b[0;34m]\u001b[0m\u001b[0;34m\u001b[0m\u001b[0;34m\u001b[0m\u001b[0m\n",
      "\u001b[0;32m~/opt/anaconda3/lib/python3.8/site-packages/pandas/core/internals/managers.py\u001b[0m in \u001b[0;36mcomp\u001b[0;34m(s, mask, regex)\u001b[0m\n\u001b[1;32m    634\u001b[0m \u001b[0;34m\u001b[0m\u001b[0m\n\u001b[1;32m    635\u001b[0m             \u001b[0ms\u001b[0m \u001b[0;34m=\u001b[0m \u001b[0mcom\u001b[0m\u001b[0;34m.\u001b[0m\u001b[0mmaybe_box_datetimelike\u001b[0m\u001b[0;34m(\u001b[0m\u001b[0ms\u001b[0m\u001b[0;34m)\u001b[0m\u001b[0;34m\u001b[0m\u001b[0;34m\u001b[0m\u001b[0m\n\u001b[0;32m--> 636\u001b[0;31m             \u001b[0;32mreturn\u001b[0m \u001b[0m_compare_or_regex_search\u001b[0m\u001b[0;34m(\u001b[0m\u001b[0mvalues\u001b[0m\u001b[0;34m,\u001b[0m \u001b[0ms\u001b[0m\u001b[0;34m,\u001b[0m \u001b[0mregex\u001b[0m\u001b[0;34m,\u001b[0m \u001b[0mmask\u001b[0m\u001b[0;34m)\u001b[0m\u001b[0;34m\u001b[0m\u001b[0;34m\u001b[0m\u001b[0m\n\u001b[0m\u001b[1;32m    637\u001b[0m \u001b[0;34m\u001b[0m\u001b[0m\n\u001b[1;32m    638\u001b[0m         \u001b[0;31m# Calculate the mask once, prior to the call of comp\u001b[0m\u001b[0;34m\u001b[0m\u001b[0;34m\u001b[0m\u001b[0;34m\u001b[0m\u001b[0m\n",
      "\u001b[0;32m~/opt/anaconda3/lib/python3.8/site-packages/pandas/core/internals/managers.py\u001b[0m in \u001b[0;36m_compare_or_regex_search\u001b[0;34m(a, b, regex, mask)\u001b[0m\n\u001b[1;32m   1990\u001b[0m     \u001b[0;32mif\u001b[0m \u001b[0mis_datetimelike_v_numeric\u001b[0m\u001b[0;34m(\u001b[0m\u001b[0ma\u001b[0m\u001b[0;34m,\u001b[0m \u001b[0mb\u001b[0m\u001b[0;34m)\u001b[0m \u001b[0;32mor\u001b[0m \u001b[0mis_numeric_v_string_like\u001b[0m\u001b[0;34m(\u001b[0m\u001b[0ma\u001b[0m\u001b[0;34m,\u001b[0m \u001b[0mb\u001b[0m\u001b[0;34m)\u001b[0m\u001b[0;34m:\u001b[0m\u001b[0;34m\u001b[0m\u001b[0;34m\u001b[0m\u001b[0m\n\u001b[1;32m   1991\u001b[0m         \u001b[0;31m# GH#29553 avoid deprecation warnings from numpy\u001b[0m\u001b[0;34m\u001b[0m\u001b[0;34m\u001b[0m\u001b[0;34m\u001b[0m\u001b[0m\n\u001b[0;32m-> 1992\u001b[0;31m         \u001b[0m_check_comparison_types\u001b[0m\u001b[0;34m(\u001b[0m\u001b[0;32mFalse\u001b[0m\u001b[0;34m,\u001b[0m \u001b[0ma\u001b[0m\u001b[0;34m,\u001b[0m \u001b[0mb\u001b[0m\u001b[0;34m)\u001b[0m\u001b[0;34m\u001b[0m\u001b[0;34m\u001b[0m\u001b[0m\n\u001b[0m\u001b[1;32m   1993\u001b[0m         \u001b[0;32mreturn\u001b[0m \u001b[0;32mFalse\u001b[0m\u001b[0;34m\u001b[0m\u001b[0;34m\u001b[0m\u001b[0m\n\u001b[1;32m   1994\u001b[0m \u001b[0;34m\u001b[0m\u001b[0m\n",
      "\u001b[0;32m~/opt/anaconda3/lib/python3.8/site-packages/pandas/core/internals/managers.py\u001b[0m in \u001b[0;36m_check_comparison_types\u001b[0;34m(result, a, b)\u001b[0m\n\u001b[1;32m   1969\u001b[0m                 \u001b[0mtype_names\u001b[0m\u001b[0;34m[\u001b[0m\u001b[0;36m0\u001b[0m\u001b[0;34m]\u001b[0m \u001b[0;34m=\u001b[0m \u001b[0;34mf\"ndarray(dtype={a.dtype})\"\u001b[0m\u001b[0;34m\u001b[0m\u001b[0;34m\u001b[0m\u001b[0m\n\u001b[1;32m   1970\u001b[0m \u001b[0;34m\u001b[0m\u001b[0m\n\u001b[0;32m-> 1971\u001b[0;31m             raise TypeError(\n\u001b[0m\u001b[1;32m   1972\u001b[0m                 \u001b[0;34mf\"Cannot compare types {repr(type_names[0])} and {repr(type_names[1])}\"\u001b[0m\u001b[0;34m\u001b[0m\u001b[0;34m\u001b[0m\u001b[0m\n\u001b[1;32m   1973\u001b[0m             )\n",
      "\u001b[0;31mTypeError\u001b[0m: Cannot compare types 'ndarray(dtype=float64)' and 'str'"
     ]
    }
   ],
   "source": [
    "df['weather_humidity'] = df['weather_humidity'].replace({'Humidity: ':'0.','%':''}, regex = True)\n",
    "df['weather_humidity'] = [float(n) for n in df['weather_humidity']]"
   ]
  },
  {
   "cell_type": "code",
   "execution_count": 61,
   "metadata": {},
   "outputs": [
    {
     "data": {
      "text/plain": [
       "array([0.66, 0.32, 0.48, 0.64, 0.28, 0.67, 0.63, 0.93, 0.5 , 0.39])"
      ]
     },
     "execution_count": 61,
     "metadata": {},
     "output_type": "execute_result"
    }
   ],
   "source": [
    "df['weather_humidity'].unique()[:10]"
   ]
  },
  {
   "cell_type": "code",
   "execution_count": 62,
   "metadata": {},
   "outputs": [
    {
     "data": {
      "text/plain": [
       "array(['Wind: 7mi East - SouthEast', 'Wind: 6mi West - SouthWest',\n",
       "       'Wind: 3mi East', 'Wind: 6mi NorthEast',\n",
       "       'Wind: 9mi South - SouthEast', 'Wind: 3mi SouthWest',\n",
       "       'Wind: 6mi South - SouthWest', 'Wind: 7mi SouthEast',\n",
       "       'Wind: 3mi East - NorthEast', 'Wind: 3mi NorthWest'], dtype=object)"
      ]
     },
     "execution_count": 62,
     "metadata": {},
     "output_type": "execute_result"
    }
   ],
   "source": [
    "df['weather_wind_mph'].unique()[:10]"
   ]
  },
  {
   "cell_type": "code",
   "execution_count": 63,
   "metadata": {},
   "outputs": [],
   "source": [
    "df['weather_wind_mph'] = df['weather_wind_mph'].replace('Wind: ','', regex = True)"
   ]
  },
  {
   "cell_type": "code",
   "execution_count": 69,
   "metadata": {},
   "outputs": [
    {
     "data": {
      "text/plain": [
       "array(['7mi East - SouthEast', '6mi West - SouthWest', '3mi East',\n",
       "       '6mi NorthEast', '9mi South - SouthEast', '3mi SouthWest',\n",
       "       '6mi South - SouthWest', '7mi SouthEast', '3mi East - NorthEast',\n",
       "       '3mi NorthWest'], dtype=object)"
      ]
     },
     "execution_count": 69,
     "metadata": {},
     "output_type": "execute_result"
    }
   ],
   "source": [
    "df['weather_wind_mph'].unique()[:10]"
   ]
  },
  {
   "cell_type": "code",
   "execution_count": 106,
   "metadata": {},
   "outputs": [
    {
     "data": {
      "text/plain": [
       "['East', '-', 'SouthEast']"
      ]
     },
     "execution_count": 106,
     "metadata": {},
     "output_type": "execute_result"
    }
   ],
   "source": [
    "df['weather_wind_mph'].iloc[0].split()[1:]"
   ]
  },
  {
   "cell_type": "code",
   "execution_count": 108,
   "metadata": {},
   "outputs": [],
   "source": [
    "f2 = lambda x: int(x['weather_wind_mph'].split()[0][:-2])\n",
    "f3 = lambda x: ''.join([s.strip() for s in x['weather_wind_mph'].split(' ', 1) [1:]])"
   ]
  },
  {
   "cell_type": "code",
   "execution_count": 109,
   "metadata": {},
   "outputs": [],
   "source": [
    "df['weather_wind_mph_number'] = df.apply(f2, axis =1)\n",
    "df['weather_wind_direction'] = df.apply(f3, axis =1)"
   ]
  },
  {
   "cell_type": "code",
   "execution_count": 72,
   "metadata": {},
   "outputs": [
    {
     "data": {
      "text/plain": [
       "array([ 7,  6,  3,  9,  4,  5, 10,  1,  2, 11,  8, 12,  0, 16, 14, 18, 15,\n",
       "       13, 17, 26, 21, 24, 23])"
      ]
     },
     "execution_count": 72,
     "metadata": {},
     "output_type": "execute_result"
    }
   ],
   "source": [
    "df['weather_wind_mph_number'].unique()"
   ]
  },
  {
   "cell_type": "code",
   "execution_count": 111,
   "metadata": {},
   "outputs": [
    {
     "data": {
      "text/plain": [
       "array(['East - SouthEast', 'West - SouthWest', 'East', 'NorthEast',\n",
       "       'South - SouthEast', 'SouthWest', 'South - SouthWest', 'SouthEast',\n",
       "       'East - NorthEast', 'NorthWest', 'West - NorthWest', 'West',\n",
       "       'South', 'North - NorthWest', 'North', 'North - NorthEast'],\n",
       "      dtype=object)"
      ]
     },
     "execution_count": 111,
     "metadata": {},
     "output_type": "execute_result"
    }
   ],
   "source": [
    "df['weather_wind_direction'].unique()"
   ]
  },
  {
   "cell_type": "markdown",
   "metadata": {},
   "source": [
    "# Exploring the Data\n",
    "<a id='eda_header_cell'></a>\n",
    "\n",
    "[Click here to go back to the top](#header_cell)"
   ]
  },
  {
   "cell_type": "code",
   "execution_count": 244,
   "metadata": {},
   "outputs": [],
   "source": [
    "plt.rcParams[\"figure.figsize\"] = (25,15)"
   ]
  },
  {
   "cell_type": "code",
   "execution_count": 277,
   "metadata": {},
   "outputs": [],
   "source": [
    "def scatterMaker(x_column, y_column, color_column):\n",
    "    fig = plt.scatter(x_column, y_column, c = color_column)"
   ]
  },
  {
   "cell_type": "code",
   "execution_count": 278,
   "metadata": {},
   "outputs": [
    {
     "data": {
      "image/png": "[encoded data removed]",
      "text/plain": [
       "<Figure size 1800x1080 with 1 Axes>"
      ]
     },
     "metadata": {
      "needs_background": "light"
     },
     "output_type": "display_data"
    }
   ],
   "source": [
    "scatterMaker(df['score_home'], df['score_away'], df['dome_or_not'])"
   ]
  },
  {
   "cell_type": "code",
   "execution_count": 280,
   "metadata": {},
   "outputs": [
    {
     "data": {
      "image/png": "[encoded data removed]",
      "text/plain": [
       "<Figure size 1800x1080 with 1 Axes>"
      ]
     },
     "metadata": {
      "needs_background": "light"
     },
     "output_type": "display_data"
    }
   ],
   "source": [
    "scatterMaker(df['score_home'], df['weather_temperature'], df['dome_or_not'])"
   ]
  },
  {
   "cell_type": "code",
   "execution_count": null,
   "metadata": {},
   "outputs": [],
   "source": []
  },
  {
   "cell_type": "code",
   "execution_count": null,
   "metadata": {},
   "outputs": [],
   "source": []
  },
  {
   "cell_type": "code",
   "execution_count": null,
   "metadata": {},
   "outputs": [],
   "source": []
  },
  {
   "cell_type": "code",
   "execution_count": null,
   "metadata": {},
   "outputs": [],
   "source": []
  },
  {
   "cell_type": "code",
   "execution_count": null,
   "metadata": {},
   "outputs": [],
   "source": []
  },
  {
   "cell_type": "code",
   "execution_count": null,
   "metadata": {},
   "outputs": [],
   "source": []
  },
  {
   "cell_type": "code",
   "execution_count": null,
   "metadata": {},
   "outputs": [],
   "source": []
  },
  {
   "cell_type": "code",
   "execution_count": null,
   "metadata": {},
   "outputs": [],
   "source": []
  },
  {
   "cell_type": "code",
   "execution_count": null,
   "metadata": {},
   "outputs": [],
   "source": []
  }
 ],
 "metadata": {
  "kernelspec": {
   "display_name": "Python 3",
   "language": "python",
   "name": "python3"
  },
  "language_info": {
   "codemirror_mode": {
    "name": "ipython",
    "version": 3
   },
   "file_extension": ".py",
   "mimetype": "text/x-python",
   "name": "python",
   "nbconvert_exporter": "python",
   "pygments_lexer": "ipython3",
   "version": "3.8.3"
  }
 },
 "nbformat": 4,
 "nbformat_minor": 4
}
