{
 "cells": [
  {
   "cell_type": "code",
   "execution_count": 1,
   "id": "graphic-graphic",
   "metadata": {},
   "outputs": [],
   "source": [
    "import pandas as pd\n",
    "import missingno as msno\n",
    "df = pd.read_csv('C:/Users/Yaphet Tewahade/Cloudy-with-a-Chance-of-Football/fixtures/raw_data/fantasyfootballpros_raw_week14.csv')"
   ]
  },
  {
   "cell_type": "code",
   "execution_count": 2,
   "id": "impossible-funeral",
   "metadata": {},
   "outputs": [
    {
     "name": "stdout",
     "output_type": "stream",
     "text": [
      "This dataset evaluates 305 nfl players based on their week 14 actual fantasy points from 19 columns\n"
     ]
    }
   ],
   "source": [
    "shape_info = df.shape\n",
    "print('This dataset evaluates {} nfl players based on their week 14 actual fantasy points from {} columns'\n",
    "      .format(shape_info[0],\n",
    "              shape_info[1])) "
   ]
  },
  {
   "cell_type": "code",
   "execution_count": 3,
   "id": "broken-piece",
   "metadata": {},
   "outputs": [
    {
     "data": {
      "text/html": [
       "<div>\n",
       "<style scoped>\n",
       "    .dataframe tbody tr th:only-of-type {\n",
       "        vertical-align: middle;\n",
       "    }\n",
       "\n",
       "    .dataframe tbody tr th {\n",
       "        vertical-align: top;\n",
       "    }\n",
       "\n",
       "    .dataframe thead th {\n",
       "        text-align: right;\n",
       "    }\n",
       "</style>\n",
       "<table border=\"1\" class=\"dataframe\">\n",
       "  <thead>\n",
       "    <tr style=\"text-align: right;\">\n",
       "      <th></th>\n",
       "      <th>Player</th>\n",
       "      <th>Pos</th>\n",
       "      <th>Tm</th>\n",
       "      <th>PassingYds</th>\n",
       "      <th>PassingTD</th>\n",
       "      <th>Int</th>\n",
       "      <th>PassingAtt</th>\n",
       "      <th>Cmp</th>\n",
       "      <th>RushingAtt</th>\n",
       "      <th>RushingYds</th>\n",
       "      <th>RushingTD</th>\n",
       "      <th>Rec</th>\n",
       "      <th>Tgt</th>\n",
       "      <th>ReceivingYds</th>\n",
       "      <th>ReceivingTD</th>\n",
       "      <th>FL</th>\n",
       "      <th>PPRFantasyPoints</th>\n",
       "      <th>StandardFantasyPoints</th>\n",
       "      <th>HalfPPRFantasyPoints</th>\n",
       "    </tr>\n",
       "  </thead>\n",
       "  <tbody>\n",
       "    <tr>\n",
       "      <th>0</th>\n",
       "      <td>Emmanuel Sanders</td>\n",
       "      <td>WR</td>\n",
       "      <td>SFO</td>\n",
       "      <td>35.0</td>\n",
       "      <td>1.0</td>\n",
       "      <td>0.0</td>\n",
       "      <td>1.0</td>\n",
       "      <td>1.0</td>\n",
       "      <td>0.0</td>\n",
       "      <td>0.0</td>\n",
       "      <td>0.0</td>\n",
       "      <td>7.0</td>\n",
       "      <td>9.0</td>\n",
       "      <td>157.0</td>\n",
       "      <td>1.0</td>\n",
       "      <td>0.0</td>\n",
       "      <td>34.10</td>\n",
       "      <td>27.10</td>\n",
       "      <td>30.60</td>\n",
       "    </tr>\n",
       "    <tr>\n",
       "      <th>1</th>\n",
       "      <td>Philip Rivers</td>\n",
       "      <td>QB</td>\n",
       "      <td>LAC</td>\n",
       "      <td>314.0</td>\n",
       "      <td>3.0</td>\n",
       "      <td>0.0</td>\n",
       "      <td>22.0</td>\n",
       "      <td>16.0</td>\n",
       "      <td>1.0</td>\n",
       "      <td>0.0</td>\n",
       "      <td>0.0</td>\n",
       "      <td>0.0</td>\n",
       "      <td>0.0</td>\n",
       "      <td>0.0</td>\n",
       "      <td>0.0</td>\n",
       "      <td>0.0</td>\n",
       "      <td>24.56</td>\n",
       "      <td>24.56</td>\n",
       "      <td>24.56</td>\n",
       "    </tr>\n",
       "    <tr>\n",
       "      <th>2</th>\n",
       "      <td>Ryan Tannehill</td>\n",
       "      <td>QB</td>\n",
       "      <td>TEN</td>\n",
       "      <td>391.0</td>\n",
       "      <td>3.0</td>\n",
       "      <td>1.0</td>\n",
       "      <td>27.0</td>\n",
       "      <td>21.0</td>\n",
       "      <td>4.0</td>\n",
       "      <td>19.0</td>\n",
       "      <td>0.0</td>\n",
       "      <td>0.0</td>\n",
       "      <td>0.0</td>\n",
       "      <td>0.0</td>\n",
       "      <td>0.0</td>\n",
       "      <td>0.0</td>\n",
       "      <td>27.54</td>\n",
       "      <td>27.54</td>\n",
       "      <td>27.54</td>\n",
       "    </tr>\n",
       "  </tbody>\n",
       "</table>\n",
       "</div>"
      ],
      "text/plain": [
       "             Player Pos   Tm  PassingYds  PassingTD  Int  PassingAtt   Cmp  \\\n",
       "0  Emmanuel Sanders  WR  SFO        35.0        1.0  0.0         1.0   1.0   \n",
       "1     Philip Rivers  QB  LAC       314.0        3.0  0.0        22.0  16.0   \n",
       "2    Ryan Tannehill  QB  TEN       391.0        3.0  1.0        27.0  21.0   \n",
       "\n",
       "   RushingAtt  RushingYds  RushingTD  Rec  Tgt  ReceivingYds  ReceivingTD  \\\n",
       "0         0.0         0.0        0.0  7.0  9.0         157.0          1.0   \n",
       "1         1.0         0.0        0.0  0.0  0.0           0.0          0.0   \n",
       "2         4.0        19.0        0.0  0.0  0.0           0.0          0.0   \n",
       "\n",
       "    FL  PPRFantasyPoints  StandardFantasyPoints  HalfPPRFantasyPoints  \n",
       "0  0.0             34.10                  27.10                 30.60  \n",
       "1  0.0             24.56                  24.56                 24.56  \n",
       "2  0.0             27.54                  27.54                 27.54  "
      ]
     },
     "execution_count": 3,
     "metadata": {},
     "output_type": "execute_result"
    }
   ],
   "source": [
    "df.head(3)"
   ]
  },
  {
   "cell_type": "code",
   "execution_count": 4,
   "id": "interested-garden",
   "metadata": {},
   "outputs": [
    {
     "data": {
      "text/html": [
       "<div>\n",
       "<style scoped>\n",
       "    .dataframe tbody tr th:only-of-type {\n",
       "        vertical-align: middle;\n",
       "    }\n",
       "\n",
       "    .dataframe tbody tr th {\n",
       "        vertical-align: top;\n",
       "    }\n",
       "\n",
       "    .dataframe thead th {\n",
       "        text-align: right;\n",
       "    }\n",
       "</style>\n",
       "<table border=\"1\" class=\"dataframe\">\n",
       "  <thead>\n",
       "    <tr style=\"text-align: right;\">\n",
       "      <th></th>\n",
       "      <th>Player</th>\n",
       "      <th>Pos</th>\n",
       "      <th>Tm</th>\n",
       "      <th>PassingYds</th>\n",
       "      <th>PassingTD</th>\n",
       "      <th>Int</th>\n",
       "      <th>PassingAtt</th>\n",
       "      <th>Cmp</th>\n",
       "      <th>RushingAtt</th>\n",
       "      <th>RushingYds</th>\n",
       "      <th>RushingTD</th>\n",
       "      <th>Rec</th>\n",
       "      <th>Tgt</th>\n",
       "      <th>ReceivingYds</th>\n",
       "      <th>ReceivingTD</th>\n",
       "      <th>FL</th>\n",
       "      <th>PPRFantasyPoints</th>\n",
       "      <th>StandardFantasyPoints</th>\n",
       "      <th>HalfPPRFantasyPoints</th>\n",
       "    </tr>\n",
       "  </thead>\n",
       "  <tbody>\n",
       "    <tr>\n",
       "      <th>302</th>\n",
       "      <td>Marcus Sherels</td>\n",
       "      <td>CB</td>\n",
       "      <td>MIA</td>\n",
       "      <td>0.0</td>\n",
       "      <td>0.0</td>\n",
       "      <td>0.0</td>\n",
       "      <td>0.0</td>\n",
       "      <td>0.0</td>\n",
       "      <td>0.0</td>\n",
       "      <td>0.0</td>\n",
       "      <td>0.0</td>\n",
       "      <td>0.0</td>\n",
       "      <td>0.0</td>\n",
       "      <td>0.0</td>\n",
       "      <td>0.0</td>\n",
       "      <td>0.0</td>\n",
       "      <td>0.0</td>\n",
       "      <td>0.0</td>\n",
       "      <td>0.0</td>\n",
       "    </tr>\n",
       "    <tr>\n",
       "      <th>303</th>\n",
       "      <td>Greg Dortch</td>\n",
       "      <td>WR</td>\n",
       "      <td>CAR</td>\n",
       "      <td>0.0</td>\n",
       "      <td>0.0</td>\n",
       "      <td>0.0</td>\n",
       "      <td>0.0</td>\n",
       "      <td>0.0</td>\n",
       "      <td>0.0</td>\n",
       "      <td>0.0</td>\n",
       "      <td>0.0</td>\n",
       "      <td>0.0</td>\n",
       "      <td>0.0</td>\n",
       "      <td>0.0</td>\n",
       "      <td>0.0</td>\n",
       "      <td>1.0</td>\n",
       "      <td>-2.0</td>\n",
       "      <td>-2.0</td>\n",
       "      <td>-2.0</td>\n",
       "    </tr>\n",
       "    <tr>\n",
       "      <th>304</th>\n",
       "      <td>Desmond King</td>\n",
       "      <td>DB</td>\n",
       "      <td>LAC</td>\n",
       "      <td>0.0</td>\n",
       "      <td>0.0</td>\n",
       "      <td>0.0</td>\n",
       "      <td>0.0</td>\n",
       "      <td>0.0</td>\n",
       "      <td>0.0</td>\n",
       "      <td>0.0</td>\n",
       "      <td>0.0</td>\n",
       "      <td>0.0</td>\n",
       "      <td>0.0</td>\n",
       "      <td>0.0</td>\n",
       "      <td>0.0</td>\n",
       "      <td>0.0</td>\n",
       "      <td>0.0</td>\n",
       "      <td>0.0</td>\n",
       "      <td>0.0</td>\n",
       "    </tr>\n",
       "  </tbody>\n",
       "</table>\n",
       "</div>"
      ],
      "text/plain": [
       "             Player Pos   Tm  PassingYds  PassingTD  Int  PassingAtt  Cmp  \\\n",
       "302  Marcus Sherels  CB  MIA         0.0        0.0  0.0         0.0  0.0   \n",
       "303     Greg Dortch  WR  CAR         0.0        0.0  0.0         0.0  0.0   \n",
       "304    Desmond King  DB  LAC         0.0        0.0  0.0         0.0  0.0   \n",
       "\n",
       "     RushingAtt  RushingYds  RushingTD  Rec  Tgt  ReceivingYds  ReceivingTD  \\\n",
       "302         0.0         0.0        0.0  0.0  0.0           0.0          0.0   \n",
       "303         0.0         0.0        0.0  0.0  0.0           0.0          0.0   \n",
       "304         0.0         0.0        0.0  0.0  0.0           0.0          0.0   \n",
       "\n",
       "      FL  PPRFantasyPoints  StandardFantasyPoints  HalfPPRFantasyPoints  \n",
       "302  0.0               0.0                    0.0                   0.0  \n",
       "303  1.0              -2.0                   -2.0                  -2.0  \n",
       "304  0.0               0.0                    0.0                   0.0  "
      ]
     },
     "execution_count": 4,
     "metadata": {},
     "output_type": "execute_result"
    }
   ],
   "source": [
    "df.tail(3)"
   ]
  },
  {
   "cell_type": "code",
   "execution_count": 5,
   "id": "military-musician",
   "metadata": {},
   "outputs": [
    {
     "data": {
      "text/plain": [
       "['Player',\n",
       " 'Pos',\n",
       " 'Tm',\n",
       " 'PassingYds',\n",
       " 'PassingTD',\n",
       " 'Int',\n",
       " 'PassingAtt',\n",
       " 'Cmp',\n",
       " 'RushingAtt',\n",
       " 'RushingYds',\n",
       " 'RushingTD',\n",
       " 'Rec',\n",
       " 'Tgt',\n",
       " 'ReceivingYds',\n",
       " 'ReceivingTD',\n",
       " 'FL',\n",
       " 'PPRFantasyPoints',\n",
       " 'StandardFantasyPoints',\n",
       " 'HalfPPRFantasyPoints']"
      ]
     },
     "execution_count": 5,
     "metadata": {},
     "output_type": "execute_result"
    }
   ],
   "source": [
    "list(df) #check for any unecessary columns"
   ]
  },
  {
   "cell_type": "code",
   "execution_count": 6,
   "id": "viral-cinema",
   "metadata": {},
   "outputs": [],
   "source": [
    "df_old_cols = list(df)\n",
    "df_new_cols = [x.replace(\" \", \"\").capitalize() for x in df_old_cols]"
   ]
  },
  {
   "cell_type": "code",
   "execution_count": 7,
   "id": "comic-poverty",
   "metadata": {},
   "outputs": [
    {
     "data": {
      "text/html": [
       "<div>\n",
       "<style scoped>\n",
       "    .dataframe tbody tr th:only-of-type {\n",
       "        vertical-align: middle;\n",
       "    }\n",
       "\n",
       "    .dataframe tbody tr th {\n",
       "        vertical-align: top;\n",
       "    }\n",
       "\n",
       "    .dataframe thead th {\n",
       "        text-align: right;\n",
       "    }\n",
       "</style>\n",
       "<table border=\"1\" class=\"dataframe\">\n",
       "  <thead>\n",
       "    <tr style=\"text-align: right;\">\n",
       "      <th></th>\n",
       "      <th>Player</th>\n",
       "      <th>Pos</th>\n",
       "      <th>Tm</th>\n",
       "      <th>Passingyds</th>\n",
       "      <th>Passingtd</th>\n",
       "      <th>Int</th>\n",
       "      <th>Passingatt</th>\n",
       "      <th>Cmp</th>\n",
       "      <th>Rushingatt</th>\n",
       "      <th>Rushingyds</th>\n",
       "      <th>Rushingtd</th>\n",
       "      <th>Rec</th>\n",
       "      <th>Tgt</th>\n",
       "      <th>Receivingyds</th>\n",
       "      <th>Receivingtd</th>\n",
       "      <th>Fl</th>\n",
       "      <th>Pprfantasypoints</th>\n",
       "      <th>Standardfantasypoints</th>\n",
       "      <th>Halfpprfantasypoints</th>\n",
       "    </tr>\n",
       "  </thead>\n",
       "  <tbody>\n",
       "    <tr>\n",
       "      <th>0</th>\n",
       "      <td>Emmanuel Sanders</td>\n",
       "      <td>WR</td>\n",
       "      <td>SFO</td>\n",
       "      <td>35.0</td>\n",
       "      <td>1.0</td>\n",
       "      <td>0.0</td>\n",
       "      <td>1.0</td>\n",
       "      <td>1.0</td>\n",
       "      <td>0.0</td>\n",
       "      <td>0.0</td>\n",
       "      <td>0.0</td>\n",
       "      <td>7.0</td>\n",
       "      <td>9.0</td>\n",
       "      <td>157.0</td>\n",
       "      <td>1.0</td>\n",
       "      <td>0.0</td>\n",
       "      <td>34.10</td>\n",
       "      <td>27.10</td>\n",
       "      <td>30.60</td>\n",
       "    </tr>\n",
       "    <tr>\n",
       "      <th>1</th>\n",
       "      <td>Philip Rivers</td>\n",
       "      <td>QB</td>\n",
       "      <td>LAC</td>\n",
       "      <td>314.0</td>\n",
       "      <td>3.0</td>\n",
       "      <td>0.0</td>\n",
       "      <td>22.0</td>\n",
       "      <td>16.0</td>\n",
       "      <td>1.0</td>\n",
       "      <td>0.0</td>\n",
       "      <td>0.0</td>\n",
       "      <td>0.0</td>\n",
       "      <td>0.0</td>\n",
       "      <td>0.0</td>\n",
       "      <td>0.0</td>\n",
       "      <td>0.0</td>\n",
       "      <td>24.56</td>\n",
       "      <td>24.56</td>\n",
       "      <td>24.56</td>\n",
       "    </tr>\n",
       "  </tbody>\n",
       "</table>\n",
       "</div>"
      ],
      "text/plain": [
       "             Player Pos   Tm  Passingyds  Passingtd  Int  Passingatt   Cmp  \\\n",
       "0  Emmanuel Sanders  WR  SFO        35.0        1.0  0.0         1.0   1.0   \n",
       "1     Philip Rivers  QB  LAC       314.0        3.0  0.0        22.0  16.0   \n",
       "\n",
       "   Rushingatt  Rushingyds  Rushingtd  Rec  Tgt  Receivingyds  Receivingtd  \\\n",
       "0         0.0         0.0        0.0  7.0  9.0         157.0          1.0   \n",
       "1         1.0         0.0        0.0  0.0  0.0           0.0          0.0   \n",
       "\n",
       "    Fl  Pprfantasypoints  Standardfantasypoints  Halfpprfantasypoints  \n",
       "0  0.0             34.10                  27.10                 30.60  \n",
       "1  0.0             24.56                  24.56                 24.56  "
      ]
     },
     "execution_count": 7,
     "metadata": {},
     "output_type": "execute_result"
    }
   ],
   "source": [
    "df.columns = df_new_cols\n",
    "df.head(2)"
   ]
  },
  {
   "cell_type": "code",
   "execution_count": 8,
   "id": "liquid-basis",
   "metadata": {},
   "outputs": [
    {
     "data": {
      "text/plain": [
       "<AxesSubplot:>"
      ]
     },
     "execution_count": 8,
     "metadata": {},
     "output_type": "execute_result"
    },
    {
     "data": {
      "image/png": "[encoded data removed]",
      "text/plain": [
       "<Figure size 1800x720 with 2 Axes>"
      ]
     },
     "metadata": {
      "needs_background": "light"
     },
     "output_type": "display_data"
    }
   ],
   "source": [
    "msno.matrix(df)"
   ]
  },
  {
   "cell_type": "code",
   "execution_count": 9,
   "id": "reliable-particular",
   "metadata": {},
   "outputs": [],
   "source": [
    "df = df.fillna(0)"
   ]
  },
  {
   "cell_type": "code",
   "execution_count": 10,
   "id": "cognitive-proceeding",
   "metadata": {},
   "outputs": [
    {
     "data": {
      "text/plain": [
       "False"
      ]
     },
     "execution_count": 10,
     "metadata": {},
     "output_type": "execute_result"
    }
   ],
   "source": [
    "df.isnull().values.any() #checks for any null values"
   ]
  },
  {
   "cell_type": "code",
   "execution_count": 11,
   "id": "excited-kingston",
   "metadata": {},
   "outputs": [],
   "source": [
    "df.to_csv('C:/Users/Yaphet Tewahade/Cloudy-with-a-Chance-of-Football/fixtures/raw_data/fantasyfootballpros_2019_week14_cleaned.csv')"
   ]
  },
  {
   "cell_type": "code",
   "execution_count": null,
   "id": "interpreted-sleeve",
   "metadata": {},
   "outputs": [],
   "source": []
  }
 ],
 "metadata": {
  "kernelspec": {
   "display_name": "Python 3",
   "language": "python",
   "name": "python3"
  },
  "language_info": {
   "codemirror_mode": {
    "name": "ipython",
    "version": 3
   },
   "file_extension": ".py",
   "mimetype": "text/x-python",
   "name": "python",
   "nbconvert_exporter": "python",
   "pygments_lexer": "ipython3",
   "version": "3.8.8"
  }
 },
 "nbformat": 4,
 "nbformat_minor": 5
}
